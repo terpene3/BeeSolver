{
  "nbformat": 4,
  "nbformat_minor": 0,
  "metadata": {
    "accelerator": "TPU",
    "colab": {
      "name": "Bee Solver",
      "provenance": [],
      "collapsed_sections": [],
      "authorship_tag": "ABX9TyPE/wzkivqBBv2/FKHLdvnl",
      "include_colab_link": true
    },
    "kernelspec": {
      "display_name": "Python 3",
      "name": "python3"
    }
  },
  "cells": [
    {
      "cell_type": "markdown",
      "metadata": {
        "id": "view-in-github",
        "colab_type": "text"
      },
      "source": [
        "<a href=\"https://colab.research.google.com/github/terpene3/BeeSolver/blob/main/bee_solver.ipynb\" target=\"_parent\"><img src=\"https://colab.research.google.com/assets/colab-badge.svg\" alt=\"Open In Colab\"/></a>"
      ]
    },
    {
      "cell_type": "code",
      "metadata": {
        "id": "pEbBBnyfmNwk"
      },
      "source": [
        "import urllib.request\n",
        "from zipfile import ZipFile\n",
        "import pandas as pd\n",
        "from io import BytesIO\n",
        "import string\n",
        "import math\n",
        "import time\n",
        "from collections import defaultdict\n",
        "import altair as alt"
      ],
      "execution_count": 136,
      "outputs": []
    },
    {
      "cell_type": "code",
      "metadata": {
        "colab": {
          "base_uri": "https://localhost:8080/"
        },
        "id": "yVuzbOQi64Hr",
        "outputId": "2286ad92-8179-4f8d-c282-252750aad3cb"
      },
      "source": [
        "# The chosen list contains some unicode characters for words with accents.\n",
        "# For now we will ignored these.\n",
        "# Tried these lists also but they aren't as high quality or don't have enough words:\n",
        "  # \"https://raw.githubusercontent.com/dwyl/english-words/master/words_alpha.txt\"\n",
        "  # \"https://www.mit.edu/~ecprice/wordlist.10000\"\n",
        "uri=\"http://www.gwicks.net/textlists/usa2.zip\"\n",
        "resp = urllib.request.urlopen(uri).read()\n",
        "words = \"\"\n",
        "with ZipFile(BytesIO(resp)) as words_zip:\n",
        "  binary_words = words_zip.open(words_zip.namelist()[0]).readlines()\n",
        "raw_words = []\n",
        "failed_words_count = 0\n",
        "for w in binary_words:\n",
        "  try:\n",
        "    raw_words += [w.decode()]\n",
        "  except:\n",
        "    failed_words_count += 1\n",
        "raw_words = [word.replace(\"\\n\", \"\") for word in raw_words]\n",
        "raw_words = list(filter(lambda x: len(x) > 3, raw_words))\n",
        "words = list(filter(lambda x: \"\\\\x83\" not in x, raw_words))\n",
        "print(\"Failed to load words: \", failed_words_count)\n",
        "print(\"Loaded words: \", len(words))"
      ],
      "execution_count": 137,
      "outputs": [
        {
          "output_type": "stream",
          "text": [
            "Failed to load words:  50\n",
            "Loaded words:  76704\n"
          ],
          "name": "stdout"
        }
      ]
    },
    {
      "cell_type": "code",
      "metadata": {
        "id": "GfmAmhvbnJrM"
      },
      "source": [
        "letters = \"gliedaz\"\n",
        "required = \"z\"\n",
        "if (len(letters) != 7):\n",
        "  print(\"wrong letters length: \" + str(len(letters)))\n",
        "if (required not in letters):\n",
        "  print(\"requires not in letters\")\n",
        "letters = set([c for c in letters])\n",
        "optional_letters = letters - set([required])"
      ],
      "execution_count": 138,
      "outputs": []
    },
    {
      "cell_type": "code",
      "metadata": {
        "colab": {
          "base_uri": "https://localhost:8080/"
        },
        "id": "MkbYInA0ozNG",
        "outputId": "bf271e2f-2c2c-4f61-b8f2-0d43982b87f0"
      },
      "source": [
        "%%timeit\n",
        "found = []\n",
        "for word in words:\n",
        "  word_letters = set([c for c in word])\n",
        "  if word_letters.issubset(letters) and required in word:\n",
        "    found += [word]"
      ],
      "execution_count": 139,
      "outputs": [
        {
          "output_type": "stream",
          "text": [
            "10 loops, best of 3: 74.2 ms per loop\n"
          ],
          "name": "stdout"
        }
      ]
    },
    {
      "cell_type": "markdown",
      "metadata": {
        "id": "eGXy0j2SIxAg"
      },
      "source": [
        "~100 ms per loop is almost fast enough to appear instant, but is it fast enough to solve the bee?\n",
        "\n",
        "There are 26 * nCr(25,6) combinations"
      ]
    },
    {
      "cell_type": "code",
      "metadata": {
        "colab": {
          "base_uri": "https://localhost:8080/"
        },
        "id": "nFReRPxwJh-D",
        "outputId": "317ddf52-ef08-4161-ac8d-c81e54e20abd"
      },
      "source": [
        "puzzles = 26 * math.factorial(25)/math.factorial(25-6)/math.factorial(6)\n",
        "print(puzzles)\n",
        "\n",
        "# This Takes 5 days:\n",
        "puzzles * .1 /60 /60/ 24"
      ],
      "execution_count": 140,
      "outputs": [
        {
          "output_type": "stream",
          "text": [
            "4604600.0\n"
          ],
          "name": "stdout"
        },
        {
          "output_type": "execute_result",
          "data": {
            "text/plain": [
              "5.329398148148148"
            ]
          },
          "metadata": {
            "tags": []
          },
          "execution_count": 140
        }
      ]
    },
    {
      "cell_type": "markdown",
      "metadata": {
        "id": "_-sPRyFnOWFI"
      },
      "source": [
        "We an preprocess the data to save on lookups. For example the puzzles abcdefg and abcdefh where a is the required letter both allow words that match abcdef. When deciding if a word is valid, the order of the optional letters in the puzzle doesn't matter and likewise the number of repititions is not valid.\n",
        "\n",
        "We care about what are the unique letters in a word. The problem can be solved as finding all words that are composed solely of letters in each subsequence S where S = required letter + subsequence(optional_letters).\n",
        "\n",
        "We can easily compute a mapping from a set of letters to words that are composed only of these letters. As order does not matter, the mapping can use a sorted unique characters that compose the corresponding words. As each word maps to 1 key, each word is stored only once in memory.\n",
        "\n",
        "After preprocessing the problem can be solved by 2^6 - nCr(6,3) constant time map lookups. For simplicity we won't exclude subsequences with less than 4 char (nCr(6,3)) as this is a minor optimization.\n",
        "\n",
        "A trie could be instead used to encode all words and searched; however, this is expected to be much slower as permutations instead of combinations of the input letters would need to be used in the search. A tree could instead be used where each node corresponds to words that are composed only of letters seen so far in traversing the tree such that the letter notes are \"sorted.\" e.g. if one has seen node already in a DFS then no word containing \"a\" will be found while continuing deeper. This tree would have similar O complexity and memory requirements relative to the size of the world list used."
      ]
    },
    {
      "cell_type": "code",
      "metadata": {
        "id": "IM4dh5iAx1sQ"
      },
      "source": [
        "def SetToString(char_set):\n",
        "  out = \"\"\n",
        "  for char in char_set:\n",
        "    out += char\n",
        "  return WordToKey(out)\n",
        "\n",
        "def WordToKey(word):\n",
        "  return \"\".join(sorted(set([c for c in word])))\n",
        "\n",
        "# Precompute the valid words for each key.\n",
        "word_dict = defaultdict(lambda:[], key=\"some_value\")\n",
        "for word in words:\n",
        "  key = WordToKey(word)\n",
        "  word_dict[key] += [word]"
      ],
      "execution_count": 141,
      "outputs": []
    },
    {
      "cell_type": "code",
      "metadata": {
        "id": "vHllhT6Yy6kv"
      },
      "source": [
        "def GetLetters(so_far, chars):\n",
        "  if len(chars) == 0:\n",
        "    return [so_far]\n",
        "  return GetLetters(so_far + chars[0], chars[1:]) + GetLetters(so_far, chars[1:])\n",
        "\n",
        "possible_chars = GetLetters(\"\", SetToString(optional_letters))\n",
        "possible_chars = [c + required for c in possible_chars]"
      ],
      "execution_count": 142,
      "outputs": []
    },
    {
      "cell_type": "code",
      "metadata": {
        "colab": {
          "base_uri": "https://localhost:8080/"
        },
        "id": "0-gQfDiV4OAj",
        "outputId": "d28d1368-bca5-42a9-f16e-7db4bbe52f87"
      },
      "source": [
        "%%timeit\n",
        "out = []\n",
        "for comb in possible_chars:\n",
        "  key = WordToKey(comb)\n",
        "  out += word_dict[key]"
      ],
      "execution_count": 143,
      "outputs": [
        {
          "output_type": "stream",
          "text": [
            "10000 loops, best of 3: 83.5 µs per loop\n"
          ],
          "name": "stdout"
        }
      ]
    },
    {
      "cell_type": "markdown",
      "metadata": {
        "id": "iaBQbFcGJafo"
      },
      "source": [
        "Now we have 1000x speedup with a brief preprocessing."
      ]
    },
    {
      "cell_type": "code",
      "metadata": {
        "id": "NgOOqH9p9kcf"
      },
      "source": [
        "def GetLettersAllReq(so_far, chars):\n",
        "  if len(so_far) == 6:\n",
        "    return [so_far]\n",
        "  if len(so_far) + len(chars) == 6:\n",
        "    return [so_far + chars]\n",
        "  return GetLettersAllReq(so_far + chars[0], chars[1:]) + GetLettersAllReq(so_far, chars[1:])\n",
        "\n",
        "def GetAllBeeInputs():\n",
        "  char_map = {}\n",
        "  alpha = string.ascii_lowercase\n",
        "  for i, char in enumerate(alpha):\n",
        "    char_map[char] = GetLettersAllReq(\"\",alpha[:i] + alpha[i+1:])\n",
        "  return char_map\n",
        "\n",
        "char_map = GetAllBeeInputs()\n",
        "\n",
        "def GetCombinations(required_letter, optional_letters):\n",
        "  possible_chars = GetLetters(\"\", SetToString(optional_letters))\n",
        "  possible_chars = [c + required_letter for c in possible_chars]\n",
        "  return possible_chars\n"
      ],
      "execution_count": 144,
      "outputs": []
    },
    {
      "cell_type": "code",
      "metadata": {
        "colab": {
          "base_uri": "https://localhost:8080/"
        },
        "id": "GyXAeOYoEqho",
        "outputId": "3717b425-04ea-4d0a-f0fa-ea1fa5dd952e"
      },
      "source": [
        "def SolveTheBee():\n",
        "  solutions = {}\n",
        "  start = time.monotonic()\n",
        "  last_time = start\n",
        "  for char, optional_letters in char_map.items():\n",
        "    for opt in optional_letters:\n",
        "      # Ignore if the solution with all letters is not present\n",
        "      if len(word_dict[WordToKey(char + opt)]) == 0:\n",
        "        continue\n",
        "      solutions[(char,opt)] = []\n",
        "      combs = GetCombinations(char, opt)\n",
        "      for comb in combs:\n",
        "        key = WordToKey(comb)\n",
        "        solutions[(char,opt)] += word_dict[key]\n",
        "    current_time = time.monotonic()\n",
        "    print(char, \"took\", current_time - last_time, \"s\")\n",
        "    last_time = current_time\n",
        "  return solutions\n",
        "solutions = SolveTheBee()\n",
        "print(\"Total solutions:\", len(solutions))"
      ],
      "execution_count": 145,
      "outputs": [
        {
          "output_type": "stream",
          "text": [
            "a took 1.3680853730002127 s\n",
            "b took 0.6945639959994878 s\n",
            "c took 0.8309251350001432 s\n",
            "d took 0.8313515930003632 s\n",
            "e took 1.3722070359999634 s\n",
            "f took 0.5785150679994331 s\n",
            "g took 0.7293848310000612 s\n",
            "h took 0.7448167869997633 s\n",
            "i took 1.1723174270000527 s\n",
            "j took 0.41141770600006566 s\n",
            "k took 0.5284855529998822 s\n",
            "l took 0.9672131470006207 s\n",
            "m took 0.7022894490000908 s\n",
            "n took 1.040922698999566 s\n",
            "o took 0.989912115000152 s\n",
            "p took 0.6845078719998128 s\n",
            "q took 0.41510714100058976 s\n",
            "r took 1.0783364639992215 s\n",
            "s took 1.1265977100001692 s\n",
            "t took 1.1503238160003093 s\n",
            "u took 0.9574872009998217 s\n",
            "v took 0.5890467780000108 s\n",
            "w took 0.5695565539999734 s\n",
            "x took 0.48241861699989386 s\n",
            "y took 0.703566148000391 s\n",
            "z took 0.4814881679994869 s\n",
            "Total solutions: 64491\n"
          ],
          "name": "stdout"
        }
      ]
    },
    {
      "cell_type": "code",
      "metadata": {
        "colab": {
          "base_uri": "https://localhost:8080/"
        },
        "id": "Q11Qu4wyU4Q6",
        "outputId": "6df8e998-849b-480f-def2-ac2cf640555a"
      },
      "source": [
        "%%timeit\n",
        "solutions[required,(SetToString(optional_letters))]"
      ],
      "execution_count": 146,
      "outputs": [
        {
          "output_type": "stream",
          "text": [
            "The slowest run took 9.65 times longer than the fastest. This could mean that an intermediate result is being cached.\n",
            "100000 loops, best of 3: 2.09 µs per loop\n"
          ],
          "name": "stdout"
        }
      ]
    },
    {
      "cell_type": "code",
      "metadata": {
        "colab": {
          "base_uri": "https://localhost:8080/"
        },
        "id": "kcxNQ5ivVFxS",
        "outputId": "d0e3a351-470d-4ccd-cf4b-4eedc26a21a1"
      },
      "source": [
        "words_stored = 0\n",
        "for solution in solutions.values():\n",
        "  words_stored += len(words)\n",
        "\n",
        "print(\"Now storing %d words or %.f times the orignal\" % (words_stored, words_stored / len(words)))"
      ],
      "execution_count": 147,
      "outputs": [
        {
          "output_type": "stream",
          "text": [
            "Now storing 4946717664 words or 64491 times the orignal\n"
          ],
          "name": "stdout"
        }
      ]
    },
    {
      "cell_type": "markdown",
      "metadata": {
        "id": "LD4b7fRBU8Xs"
      },
      "source": [
        "Now we have a 10^5 speedup over our initial solution."
      ]
    },
    {
      "cell_type": "markdown",
      "metadata": {
        "id": "lntI0u48Xk2U"
      },
      "source": [
        "Example Solution"
      ]
    },
    {
      "cell_type": "code",
      "metadata": {
        "colab": {
          "base_uri": "https://localhost:8080/",
          "height": 771
        },
        "id": "XzInYVpoPz_R",
        "outputId": "6f480bce-c476-433e-f44c-a5fb15dd4d3a"
      },
      "source": [
        "solution = solutions[required,(SetToString(optional_letters))]\n",
        "rows = []\n",
        "for word in solution:\n",
        "  row = {}\n",
        "  row[\"Word\"] = word\n",
        "  row[\"Length\"] = len(word)\n",
        "  row[\"Unique Letters\"] = len(set([c for c in word]))\n",
        "  rows += [row]\n",
        "pd.set_option('display.max_rows', None)\n",
        "\n",
        "pd.DataFrame(rows).sort_values(by=['Unique Letters'], ascending=False)"
      ],
      "execution_count": 148,
      "outputs": [
        {
          "output_type": "execute_result",
          "data": {
            "text/html": [
              "<div>\n",
              "<style scoped>\n",
              "    .dataframe tbody tr th:only-of-type {\n",
              "        vertical-align: middle;\n",
              "    }\n",
              "\n",
              "    .dataframe tbody tr th {\n",
              "        vertical-align: top;\n",
              "    }\n",
              "\n",
              "    .dataframe thead th {\n",
              "        text-align: right;\n",
              "    }\n",
              "</style>\n",
              "<table border=\"1\" class=\"dataframe\">\n",
              "  <thead>\n",
              "    <tr style=\"text-align: right;\">\n",
              "      <th></th>\n",
              "      <th>Word</th>\n",
              "      <th>Length</th>\n",
              "      <th>Unique Letters</th>\n",
              "    </tr>\n",
              "  </thead>\n",
              "  <tbody>\n",
              "    <tr>\n",
              "      <th>0</th>\n",
              "      <td>legalized</td>\n",
              "      <td>9</td>\n",
              "      <td>7</td>\n",
              "    </tr>\n",
              "    <tr>\n",
              "      <th>5</th>\n",
              "      <td>idealized</td>\n",
              "      <td>9</td>\n",
              "      <td>6</td>\n",
              "    </tr>\n",
              "    <tr>\n",
              "      <th>20</th>\n",
              "      <td>elegized</td>\n",
              "      <td>8</td>\n",
              "      <td>6</td>\n",
              "    </tr>\n",
              "    <tr>\n",
              "      <th>1</th>\n",
              "      <td>zigzagged</td>\n",
              "      <td>9</td>\n",
              "      <td>6</td>\n",
              "    </tr>\n",
              "    <tr>\n",
              "      <th>11</th>\n",
              "      <td>legalize</td>\n",
              "      <td>8</td>\n",
              "      <td>6</td>\n",
              "    </tr>\n",
              "    <tr>\n",
              "      <th>4</th>\n",
              "      <td>idealize</td>\n",
              "      <td>8</td>\n",
              "      <td>6</td>\n",
              "    </tr>\n",
              "    <tr>\n",
              "      <th>2</th>\n",
              "      <td>glazed</td>\n",
              "      <td>6</td>\n",
              "      <td>6</td>\n",
              "    </tr>\n",
              "    <tr>\n",
              "      <th>3</th>\n",
              "      <td>gazed</td>\n",
              "      <td>5</td>\n",
              "      <td>5</td>\n",
              "    </tr>\n",
              "    <tr>\n",
              "      <th>6</th>\n",
              "      <td>dazzle</td>\n",
              "      <td>6</td>\n",
              "      <td>5</td>\n",
              "    </tr>\n",
              "    <tr>\n",
              "      <th>13</th>\n",
              "      <td>glaze</td>\n",
              "      <td>5</td>\n",
              "      <td>5</td>\n",
              "    </tr>\n",
              "    <tr>\n",
              "      <th>12</th>\n",
              "      <td>gazelle</td>\n",
              "      <td>7</td>\n",
              "      <td>5</td>\n",
              "    </tr>\n",
              "    <tr>\n",
              "      <th>22</th>\n",
              "      <td>elegize</td>\n",
              "      <td>7</td>\n",
              "      <td>5</td>\n",
              "    </tr>\n",
              "    <tr>\n",
              "      <th>8</th>\n",
              "      <td>lazed</td>\n",
              "      <td>5</td>\n",
              "      <td>5</td>\n",
              "    </tr>\n",
              "    <tr>\n",
              "      <th>7</th>\n",
              "      <td>dazzled</td>\n",
              "      <td>7</td>\n",
              "      <td>5</td>\n",
              "    </tr>\n",
              "    <tr>\n",
              "      <th>10</th>\n",
              "      <td>dazed</td>\n",
              "      <td>5</td>\n",
              "      <td>4</td>\n",
              "    </tr>\n",
              "    <tr>\n",
              "      <th>9</th>\n",
              "      <td>daze</td>\n",
              "      <td>4</td>\n",
              "      <td>4</td>\n",
              "    </tr>\n",
              "    <tr>\n",
              "      <th>15</th>\n",
              "      <td>azalea</td>\n",
              "      <td>6</td>\n",
              "      <td>4</td>\n",
              "    </tr>\n",
              "    <tr>\n",
              "      <th>16</th>\n",
              "      <td>laze</td>\n",
              "      <td>4</td>\n",
              "      <td>4</td>\n",
              "    </tr>\n",
              "    <tr>\n",
              "      <th>17</th>\n",
              "      <td>zeal</td>\n",
              "      <td>4</td>\n",
              "      <td>4</td>\n",
              "    </tr>\n",
              "    <tr>\n",
              "      <th>18</th>\n",
              "      <td>zigzag</td>\n",
              "      <td>6</td>\n",
              "      <td>4</td>\n",
              "    </tr>\n",
              "    <tr>\n",
              "      <th>21</th>\n",
              "      <td>dizzied</td>\n",
              "      <td>7</td>\n",
              "      <td>4</td>\n",
              "    </tr>\n",
              "    <tr>\n",
              "      <th>14</th>\n",
              "      <td>gaze</td>\n",
              "      <td>4</td>\n",
              "      <td>4</td>\n",
              "    </tr>\n",
              "    <tr>\n",
              "      <th>19</th>\n",
              "      <td>gaza</td>\n",
              "      <td>4</td>\n",
              "      <td>3</td>\n",
              "    </tr>\n",
              "  </tbody>\n",
              "</table>\n",
              "</div>"
            ],
            "text/plain": [
              "         Word  Length  Unique Letters\n",
              "0   legalized       9               7\n",
              "5   idealized       9               6\n",
              "20   elegized       8               6\n",
              "1   zigzagged       9               6\n",
              "11   legalize       8               6\n",
              "4    idealize       8               6\n",
              "2      glazed       6               6\n",
              "3       gazed       5               5\n",
              "6      dazzle       6               5\n",
              "13      glaze       5               5\n",
              "12    gazelle       7               5\n",
              "22    elegize       7               5\n",
              "8       lazed       5               5\n",
              "7     dazzled       7               5\n",
              "10      dazed       5               4\n",
              "9        daze       4               4\n",
              "15     azalea       6               4\n",
              "16       laze       4               4\n",
              "17       zeal       4               4\n",
              "18     zigzag       6               4\n",
              "21    dizzied       7               4\n",
              "14       gaze       4               4\n",
              "19       gaza       4               3"
            ]
          },
          "metadata": {
            "tags": []
          },
          "execution_count": 148
        }
      ]
    },
    {
      "cell_type": "code",
      "metadata": {
        "id": "Qwe6gXVNXuHS"
      },
      "source": [
        "rows = []\n",
        "for key, val in solutions.items():\n",
        "  row = {}\n",
        "  row[\"Letter\"] = key[0]\n",
        "  row[\"Letters in Puzzle\"] = key[1]\n",
        "  row[\"Words\"] = len(set(val))\n",
        "  if (len(set(val)) > 0):\n",
        "    for length in range(4,15):\n",
        "      row[\"Words of length \" + str(length)] = sum([len(word) == length for word in val])\n",
        "  rows += [row]\n",
        "solution_frame = pd.DataFrame(rows)"
      ],
      "execution_count": 149,
      "outputs": []
    },
    {
      "cell_type": "code",
      "metadata": {
        "id": "-kK4wUoGYWqm",
        "colab": {
          "base_uri": "https://localhost:8080/",
          "height": 367
        },
        "outputId": "75acfbf3-9258-41d4-ac94-4fff950bfafa"
      },
      "source": [
        "alt.Chart(solution_frame.groupby(\"Letter\", as_index=False).sum()).mark_bar().encode(x=\"Letter:O\", y=\"Words:Q\"\n",
        ").interactive()"
      ],
      "execution_count": 150,
      "outputs": [
        {
          "output_type": "execute_result",
          "data": {
            "text/plain": [
              "alt.Chart(...)"
            ],
            "text/html": [
              "\n",
              "<div id=\"altair-viz-508ca955ae30413d83592fa57add8865\"></div>\n",
              "<script type=\"text/javascript\">\n",
              "  (function(spec, embedOpt){\n",
              "    let outputDiv = document.currentScript.previousElementSibling;\n",
              "    if (outputDiv.id !== \"altair-viz-508ca955ae30413d83592fa57add8865\") {\n",
              "      outputDiv = document.getElementById(\"altair-viz-508ca955ae30413d83592fa57add8865\");\n",
              "    }\n",
              "    const paths = {\n",
              "      \"vega\": \"https://cdn.jsdelivr.net/npm//vega@5?noext\",\n",
              "      \"vega-lib\": \"https://cdn.jsdelivr.net/npm//vega-lib?noext\",\n",
              "      \"vega-lite\": \"https://cdn.jsdelivr.net/npm//vega-lite@4.8.1?noext\",\n",
              "      \"vega-embed\": \"https://cdn.jsdelivr.net/npm//vega-embed@6?noext\",\n",
              "    };\n",
              "\n",
              "    function loadScript(lib) {\n",
              "      return new Promise(function(resolve, reject) {\n",
              "        var s = document.createElement('script');\n",
              "        s.src = paths[lib];\n",
              "        s.async = true;\n",
              "        s.onload = () => resolve(paths[lib]);\n",
              "        s.onerror = () => reject(`Error loading script: ${paths[lib]}`);\n",
              "        document.getElementsByTagName(\"head\")[0].appendChild(s);\n",
              "      });\n",
              "    }\n",
              "\n",
              "    function showError(err) {\n",
              "      outputDiv.innerHTML = `<div class=\"error\" style=\"color:red;\">${err}</div>`;\n",
              "      throw err;\n",
              "    }\n",
              "\n",
              "    function displayChart(vegaEmbed) {\n",
              "      vegaEmbed(outputDiv, spec, embedOpt)\n",
              "        .catch(err => showError(`Javascript Error: ${err.message}<br>This usually means there's a typo in your chart specification. See the javascript console for the full traceback.`));\n",
              "    }\n",
              "\n",
              "    if(typeof define === \"function\" && define.amd) {\n",
              "      requirejs.config({paths});\n",
              "      require([\"vega-embed\"], displayChart, err => showError(`Error loading script: ${err.message}`));\n",
              "    } else if (typeof vegaEmbed === \"function\") {\n",
              "      displayChart(vegaEmbed);\n",
              "    } else {\n",
              "      loadScript(\"vega\")\n",
              "        .then(() => loadScript(\"vega-lite\"))\n",
              "        .then(() => loadScript(\"vega-embed\"))\n",
              "        .catch(showError)\n",
              "        .then(() => displayChart(vegaEmbed));\n",
              "    }\n",
              "  })({\"config\": {\"view\": {\"continuousWidth\": 400, \"continuousHeight\": 300}}, \"data\": {\"name\": \"data-e1ae24481bd476723d4200e1b4a16449\"}, \"mark\": \"bar\", \"encoding\": {\"x\": {\"type\": \"ordinal\", \"field\": \"Letter\"}, \"y\": {\"type\": \"quantitative\", \"field\": \"Words\"}}, \"selection\": {\"selector013\": {\"type\": \"interval\", \"bind\": \"scales\", \"encodings\": [\"x\", \"y\"]}}, \"$schema\": \"https://vega.github.io/schema/vega-lite/v4.8.1.json\", \"datasets\": {\"data-e1ae24481bd476723d4200e1b4a16449\": [{\"Letter\": \"a\", \"Words\": 541788, \"Words of length 4\": 165125, \"Words of length 5\": 138544, \"Words of length 6\": 114281, \"Words of length 7\": 68423, \"Words of length 8\": 34543, \"Words of length 9\": 13428, \"Words of length 10\": 5731, \"Words of length 11\": 1294, \"Words of length 12\": 275, \"Words of length 13\": 121, \"Words of length 14\": 22}, {\"Letter\": \"b\", \"Words\": 108014, \"Words of length 4\": 35540, \"Words of length 5\": 27468, \"Words of length 6\": 22446, \"Words of length 7\": 13242, \"Words of length 8\": 6231, \"Words of length 9\": 2052, \"Words of length 10\": 785, \"Words of length 11\": 184, \"Words of length 12\": 56, \"Words of length 13\": 9, \"Words of length 14\": 1}, {\"Letter\": \"c\", \"Words\": 170156, \"Words of length 4\": 36647, \"Words of length 5\": 45415, \"Words of length 6\": 38139, \"Words of length 7\": 25806, \"Words of length 8\": 14156, \"Words of length 9\": 6452, \"Words of length 10\": 2393, \"Words of length 11\": 839, \"Words of length 12\": 228, \"Words of length 13\": 55, \"Words of length 14\": 20}, {\"Letter\": \"d\", \"Words\": 278358, \"Words of length 4\": 70454, \"Words of length 5\": 61384, \"Words of length 6\": 73243, \"Words of length 7\": 40182, \"Words of length 8\": 21579, \"Words of length 9\": 8245, \"Words of length 10\": 2488, \"Words of length 11\": 588, \"Words of length 12\": 163, \"Words of length 13\": 20, \"Words of length 14\": 6}, {\"Letter\": \"e\", \"Words\": 891097, \"Words of length 4\": 225248, \"Words of length 5\": 211897, \"Words of length 6\": 219771, \"Words of length 7\": 131409, \"Words of length 8\": 64318, \"Words of length 9\": 26037, \"Words of length 10\": 8584, \"Words of length 11\": 2576, \"Words of length 12\": 738, \"Words of length 13\": 467, \"Words of length 14\": 39}, {\"Letter\": \"f\", \"Words\": 59091, \"Words of length 4\": 18092, \"Words of length 5\": 13654, \"Words of length 6\": 10994, \"Words of length 7\": 8983, \"Words of length 8\": 4854, \"Words of length 9\": 1693, \"Words of length 10\": 607, \"Words of length 11\": 129, \"Words of length 12\": 64, \"Words of length 13\": 5, \"Words of length 14\": 10}, {\"Letter\": \"g\", \"Words\": 148106, \"Words of length 4\": 33613, \"Words of length 5\": 28170, \"Words of length 6\": 31137, \"Words of length 7\": 33428, \"Words of length 8\": 13968, \"Words of length 9\": 5123, \"Words of length 10\": 2063, \"Words of length 11\": 490, \"Words of length 12\": 82, \"Words of length 13\": 28, \"Words of length 14\": 3}, {\"Letter\": \"h\", \"Words\": 90757, \"Words of length 4\": 24723, \"Words of length 5\": 25396, \"Words of length 6\": 19912, \"Words of length 7\": 11068, \"Words of length 8\": 5804, \"Words of length 9\": 2624, \"Words of length 10\": 899, \"Words of length 11\": 264, \"Words of length 12\": 57, \"Words of length 13\": 8, \"Words of length 14\": 2}, {\"Letter\": \"i\", \"Words\": 460937, \"Words of length 4\": 119553, \"Words of length 5\": 106158, \"Words of length 6\": 94210, \"Words of length 7\": 78132, \"Words of length 8\": 37924, \"Words of length 9\": 16442, \"Words of length 10\": 5925, \"Words of length 11\": 1968, \"Words of length 12\": 417, \"Words of length 13\": 158, \"Words of length 14\": 44}, {\"Letter\": \"j\", \"Words\": 2443, \"Words of length 4\": 917, \"Words of length 5\": 606, \"Words of length 6\": 381, \"Words of length 7\": 310, \"Words of length 8\": 147, \"Words of length 9\": 59, \"Words of length 10\": 15, \"Words of length 11\": 6, \"Words of length 12\": 2, \"Words of length 13\": 0, \"Words of length 14\": 0}, {\"Letter\": \"k\", \"Words\": 35151, \"Words of length 4\": 13047, \"Words of length 5\": 10115, \"Words of length 6\": 6169, \"Words of length 7\": 3275, \"Words of length 8\": 1731, \"Words of length 9\": 522, \"Words of length 10\": 240, \"Words of length 11\": 41, \"Words of length 12\": 9, \"Words of length 13\": 2, \"Words of length 14\": 0}, {\"Letter\": \"l\", \"Words\": 349408, \"Words of length 4\": 115097, \"Words of length 5\": 91711, \"Words of length 6\": 69343, \"Words of length 7\": 43152, \"Words of length 8\": 19329, \"Words of length 9\": 7140, \"Words of length 10\": 2277, \"Words of length 11\": 784, \"Words of length 12\": 193, \"Words of length 13\": 359, \"Words of length 14\": 15}, {\"Letter\": \"m\", \"Words\": 148383, \"Words of length 4\": 46941, \"Words of length 5\": 39065, \"Words of length 6\": 30040, \"Words of length 7\": 18411, \"Words of length 8\": 8575, \"Words of length 9\": 3414, \"Words of length 10\": 1371, \"Words of length 11\": 441, \"Words of length 12\": 101, \"Words of length 13\": 22, \"Words of length 14\": 1}, {\"Letter\": \"n\", \"Words\": 377631, \"Words of length 4\": 93276, \"Words of length 5\": 78981, \"Words of length 6\": 84202, \"Words of length 7\": 63023, \"Words of length 8\": 34122, \"Words of length 9\": 14983, \"Words of length 10\": 5976, \"Words of length 11\": 1943, \"Words of length 12\": 567, \"Words of length 13\": 491, \"Words of length 14\": 54}, {\"Letter\": \"o\", \"Words\": 324961, \"Words of length 4\": 111549, \"Words of length 5\": 84023, \"Words of length 6\": 61748, \"Words of length 7\": 36718, \"Words of length 8\": 17836, \"Words of length 9\": 8525, \"Words of length 10\": 2934, \"Words of length 11\": 1085, \"Words of length 12\": 430, \"Words of length 13\": 82, \"Words of length 14\": 25}, {\"Letter\": \"p\", \"Words\": 163362, \"Words of length 4\": 49759, \"Words of length 5\": 37138, \"Words of length 6\": 33959, \"Words of length 7\": 22749, \"Words of length 8\": 11175, \"Words of length 9\": 5470, \"Words of length 10\": 1989, \"Words of length 11\": 790, \"Words of length 12\": 242, \"Words of length 13\": 75, \"Words of length 14\": 15}, {\"Letter\": \"q\", \"Words\": 2714, \"Words of length 4\": 337, \"Words of length 5\": 756, \"Words of length 6\": 612, \"Words of length 7\": 530, \"Words of length 8\": 264, \"Words of length 9\": 150, \"Words of length 10\": 46, \"Words of length 11\": 15, \"Words of length 12\": 4, \"Words of length 13\": 0, \"Words of length 14\": 0}, {\"Letter\": \"r\", \"Words\": 505458, \"Words of length 4\": 116867, \"Words of length 5\": 126071, \"Words of length 6\": 119115, \"Words of length 7\": 79162, \"Words of length 8\": 39995, \"Words of length 9\": 16161, \"Words of length 10\": 5893, \"Words of length 11\": 1592, \"Words of length 12\": 488, \"Words of length 13\": 88, \"Words of length 14\": 22}, {\"Letter\": \"s\", \"Words\": 689616, \"Words of length 4\": 181799, \"Words of length 5\": 187707, \"Words of length 6\": 134993, \"Words of length 7\": 101863, \"Words of length 8\": 49152, \"Words of length 9\": 23053, \"Words of length 10\": 7435, \"Words of length 11\": 2336, \"Words of length 12\": 708, \"Words of length 13\": 511, \"Words of length 14\": 48}, {\"Letter\": \"t\", \"Words\": 420989, \"Words of length 4\": 103683, \"Words of length 5\": 99361, \"Words of length 6\": 97033, \"Words of length 7\": 63907, \"Words of length 8\": 34801, \"Words of length 9\": 14438, \"Words of length 10\": 5285, \"Words of length 11\": 1781, \"Words of length 12\": 472, \"Words of length 13\": 186, \"Words of length 14\": 37}, {\"Letter\": \"u\", \"Words\": 155275, \"Words of length 4\": 47081, \"Words of length 5\": 37886, \"Words of length 6\": 32834, \"Words of length 7\": 21456, \"Words of length 8\": 9566, \"Words of length 9\": 3996, \"Words of length 10\": 1644, \"Words of length 11\": 535, \"Words of length 12\": 221, \"Words of length 13\": 49, \"Words of length 14\": 4}, {\"Letter\": \"v\", \"Words\": 44349, \"Words of length 4\": 9723, \"Words of length 5\": 11826, \"Words of length 6\": 9325, \"Words of length 7\": 6535, \"Words of length 8\": 4311, \"Words of length 9\": 1620, \"Words of length 10\": 693, \"Words of length 11\": 210, \"Words of length 12\": 48, \"Words of length 13\": 52, \"Words of length 14\": 5}, {\"Letter\": \"w\", \"Words\": 33951, \"Words of length 4\": 11489, \"Words of length 5\": 8375, \"Words of length 6\": 7078, \"Words of length 7\": 4162, \"Words of length 8\": 2018, \"Words of length 9\": 612, \"Words of length 10\": 177, \"Words of length 11\": 34, \"Words of length 12\": 5, \"Words of length 13\": 0, \"Words of length 14\": 1}, {\"Letter\": \"x\", \"Words\": 4991, \"Words of length 4\": 1340, \"Words of length 5\": 1530, \"Words of length 6\": 842, \"Words of length 7\": 650, \"Words of length 8\": 373, \"Words of length 9\": 164, \"Words of length 10\": 67, \"Words of length 11\": 18, \"Words of length 12\": 6, \"Words of length 13\": 1, \"Words of length 14\": 0}, {\"Letter\": \"y\", \"Words\": 48768, \"Words of length 4\": 13830, \"Words of length 5\": 19277, \"Words of length 6\": 8183, \"Words of length 7\": 4014, \"Words of length 8\": 2032, \"Words of length 9\": 823, \"Words of length 10\": 406, \"Words of length 11\": 168, \"Words of length 12\": 25, \"Words of length 13\": 10, \"Words of length 14\": 0}, {\"Letter\": \"z\", \"Words\": 4337, \"Words of length 4\": 1216, \"Words of length 5\": 691, \"Words of length 6\": 909, \"Words of length 7\": 834, \"Words of length 8\": 340, \"Words of length 9\": 192, \"Words of length 10\": 126, \"Words of length 11\": 15, \"Words of length 12\": 11, \"Words of length 13\": 1, \"Words of length 14\": 1}]}}, {\"mode\": \"vega-lite\"});\n",
              "</script>"
            ]
          },
          "metadata": {
            "tags": []
          },
          "execution_count": 150
        }
      ]
    },
    {
      "cell_type": "code",
      "metadata": {
        "id": "Qb0kPWhRaXFl",
        "colab": {
          "base_uri": "https://localhost:8080/",
          "height": 368
        },
        "outputId": "5b9e8013-590b-40ec-d154-287f0cb9fd80"
      },
      "source": [
        "alt.Chart(solution_frame.groupby(\"Words\", as_index=False).count()).mark_bar().\\\n",
        "  encode(x=\"Words:Q\", y=\"Letter\", tooltip=[\"Words\", \"Letter\"]).interactive()"
      ],
      "execution_count": 151,
      "outputs": [
        {
          "output_type": "execute_result",
          "data": {
            "text/plain": [
              "alt.Chart(...)"
            ],
            "text/html": [
              "\n",
              "<div id=\"altair-viz-ce31fc6de95f4b92a6a489d63e910ebe\"></div>\n",
              "<script type=\"text/javascript\">\n",
              "  (function(spec, embedOpt){\n",
              "    let outputDiv = document.currentScript.previousElementSibling;\n",
              "    if (outputDiv.id !== \"altair-viz-ce31fc6de95f4b92a6a489d63e910ebe\") {\n",
              "      outputDiv = document.getElementById(\"altair-viz-ce31fc6de95f4b92a6a489d63e910ebe\");\n",
              "    }\n",
              "    const paths = {\n",
              "      \"vega\": \"https://cdn.jsdelivr.net/npm//vega@5?noext\",\n",
              "      \"vega-lib\": \"https://cdn.jsdelivr.net/npm//vega-lib?noext\",\n",
              "      \"vega-lite\": \"https://cdn.jsdelivr.net/npm//vega-lite@4.8.1?noext\",\n",
              "      \"vega-embed\": \"https://cdn.jsdelivr.net/npm//vega-embed@6?noext\",\n",
              "    };\n",
              "\n",
              "    function loadScript(lib) {\n",
              "      return new Promise(function(resolve, reject) {\n",
              "        var s = document.createElement('script');\n",
              "        s.src = paths[lib];\n",
              "        s.async = true;\n",
              "        s.onload = () => resolve(paths[lib]);\n",
              "        s.onerror = () => reject(`Error loading script: ${paths[lib]}`);\n",
              "        document.getElementsByTagName(\"head\")[0].appendChild(s);\n",
              "      });\n",
              "    }\n",
              "\n",
              "    function showError(err) {\n",
              "      outputDiv.innerHTML = `<div class=\"error\" style=\"color:red;\">${err}</div>`;\n",
              "      throw err;\n",
              "    }\n",
              "\n",
              "    function displayChart(vegaEmbed) {\n",
              "      vegaEmbed(outputDiv, spec, embedOpt)\n",
              "        .catch(err => showError(`Javascript Error: ${err.message}<br>This usually means there's a typo in your chart specification. See the javascript console for the full traceback.`));\n",
              "    }\n",
              "\n",
              "    if(typeof define === \"function\" && define.amd) {\n",
              "      requirejs.config({paths});\n",
              "      require([\"vega-embed\"], displayChart, err => showError(`Error loading script: ${err.message}`));\n",
              "    } else if (typeof vegaEmbed === \"function\") {\n",
              "      displayChart(vegaEmbed);\n",
              "    } else {\n",
              "      loadScript(\"vega\")\n",
              "        .then(() => loadScript(\"vega-lite\"))\n",
              "        .then(() => loadScript(\"vega-embed\"))\n",
              "        .catch(showError)\n",
              "        .then(() => displayChart(vegaEmbed));\n",
              "    }\n",
              "  })({\"config\": {\"view\": {\"continuousWidth\": 400, \"continuousHeight\": 300}}, \"data\": {\"name\": \"data-bc5f456aa1f22e006c19dfd1d821c9ff\"}, \"mark\": \"bar\", \"encoding\": {\"tooltip\": [{\"type\": \"quantitative\", \"field\": \"Words\"}, {\"type\": \"quantitative\", \"field\": \"Letter\"}], \"x\": {\"type\": \"quantitative\", \"field\": \"Words\"}, \"y\": {\"type\": \"quantitative\", \"field\": \"Letter\"}}, \"selection\": {\"selector014\": {\"type\": \"interval\", \"bind\": \"scales\", \"encodings\": [\"x\", \"y\"]}}, \"$schema\": \"https://vega.github.io/schema/vega-lite/v4.8.1.json\", \"datasets\": {\"data-bc5f456aa1f22e006c19dfd1d821c9ff\": [{\"Words\": 1, \"Letter\": 7, \"Letters in Puzzle\": 7, \"Words of length 4\": 7, \"Words of length 5\": 7, \"Words of length 6\": 7, \"Words of length 7\": 7, \"Words of length 8\": 7, \"Words of length 9\": 7, \"Words of length 10\": 7, \"Words of length 11\": 7, \"Words of length 12\": 7, \"Words of length 13\": 7, \"Words of length 14\": 7}, {\"Words\": 2, \"Letter\": 16, \"Letters in Puzzle\": 16, \"Words of length 4\": 16, \"Words of length 5\": 16, \"Words of length 6\": 16, \"Words of length 7\": 16, \"Words of length 8\": 16, \"Words of length 9\": 16, \"Words of length 10\": 16, \"Words of length 11\": 16, \"Words of length 12\": 16, \"Words of length 13\": 16, \"Words of length 14\": 16}, {\"Words\": 3, \"Letter\": 33, \"Letters in Puzzle\": 33, \"Words of length 4\": 33, \"Words of length 5\": 33, \"Words of length 6\": 33, \"Words of length 7\": 33, \"Words of length 8\": 33, \"Words of length 9\": 33, \"Words of length 10\": 33, \"Words of length 11\": 33, \"Words of length 12\": 33, \"Words of length 13\": 33, \"Words of length 14\": 33}, {\"Words\": 4, \"Letter\": 42, \"Letters in Puzzle\": 42, \"Words of length 4\": 42, \"Words of length 5\": 42, \"Words of length 6\": 42, \"Words of length 7\": 42, \"Words of length 8\": 42, \"Words of length 9\": 42, \"Words of length 10\": 42, \"Words of length 11\": 42, \"Words of length 12\": 42, \"Words of length 13\": 42, \"Words of length 14\": 42}, {\"Words\": 5, \"Letter\": 60, \"Letters in Puzzle\": 60, \"Words of length 4\": 60, \"Words of length 5\": 60, \"Words of length 6\": 60, \"Words of length 7\": 60, \"Words of length 8\": 60, \"Words of length 9\": 60, \"Words of length 10\": 60, \"Words of length 11\": 60, \"Words of length 12\": 60, \"Words of length 13\": 60, \"Words of length 14\": 60}, {\"Words\": 6, \"Letter\": 85, \"Letters in Puzzle\": 85, \"Words of length 4\": 85, \"Words of length 5\": 85, \"Words of length 6\": 85, \"Words of length 7\": 85, \"Words of length 8\": 85, \"Words of length 9\": 85, \"Words of length 10\": 85, \"Words of length 11\": 85, \"Words of length 12\": 85, \"Words of length 13\": 85, \"Words of length 14\": 85}, {\"Words\": 7, \"Letter\": 96, \"Letters in Puzzle\": 96, \"Words of length 4\": 96, \"Words of length 5\": 96, \"Words of length 6\": 96, \"Words of length 7\": 96, \"Words of length 8\": 96, \"Words of length 9\": 96, \"Words of length 10\": 96, \"Words of length 11\": 96, \"Words of length 12\": 96, \"Words of length 13\": 96, \"Words of length 14\": 96}, {\"Words\": 8, \"Letter\": 105, \"Letters in Puzzle\": 105, \"Words of length 4\": 105, \"Words of length 5\": 105, \"Words of length 6\": 105, \"Words of length 7\": 105, \"Words of length 8\": 105, \"Words of length 9\": 105, \"Words of length 10\": 105, \"Words of length 11\": 105, \"Words of length 12\": 105, \"Words of length 13\": 105, \"Words of length 14\": 105}, {\"Words\": 9, \"Letter\": 124, \"Letters in Puzzle\": 124, \"Words of length 4\": 124, \"Words of length 5\": 124, \"Words of length 6\": 124, \"Words of length 7\": 124, \"Words of length 8\": 124, \"Words of length 9\": 124, \"Words of length 10\": 124, \"Words of length 11\": 124, \"Words of length 12\": 124, \"Words of length 13\": 124, \"Words of length 14\": 124}, {\"Words\": 10, \"Letter\": 166, \"Letters in Puzzle\": 166, \"Words of length 4\": 166, \"Words of length 5\": 166, \"Words of length 6\": 166, \"Words of length 7\": 166, \"Words of length 8\": 166, \"Words of length 9\": 166, \"Words of length 10\": 166, \"Words of length 11\": 166, \"Words of length 12\": 166, \"Words of length 13\": 166, \"Words of length 14\": 166}, {\"Words\": 11, \"Letter\": 178, \"Letters in Puzzle\": 178, \"Words of length 4\": 178, \"Words of length 5\": 178, \"Words of length 6\": 178, \"Words of length 7\": 178, \"Words of length 8\": 178, \"Words of length 9\": 178, \"Words of length 10\": 178, \"Words of length 11\": 178, \"Words of length 12\": 178, \"Words of length 13\": 178, \"Words of length 14\": 178}, {\"Words\": 12, \"Letter\": 213, \"Letters in Puzzle\": 213, \"Words of length 4\": 213, \"Words of length 5\": 213, \"Words of length 6\": 213, \"Words of length 7\": 213, \"Words of length 8\": 213, \"Words of length 9\": 213, \"Words of length 10\": 213, \"Words of length 11\": 213, \"Words of length 12\": 213, \"Words of length 13\": 213, \"Words of length 14\": 213}, {\"Words\": 13, \"Letter\": 255, \"Letters in Puzzle\": 255, \"Words of length 4\": 255, \"Words of length 5\": 255, \"Words of length 6\": 255, \"Words of length 7\": 255, \"Words of length 8\": 255, \"Words of length 9\": 255, \"Words of length 10\": 255, \"Words of length 11\": 255, \"Words of length 12\": 255, \"Words of length 13\": 255, \"Words of length 14\": 255}, {\"Words\": 14, \"Letter\": 246, \"Letters in Puzzle\": 246, \"Words of length 4\": 246, \"Words of length 5\": 246, \"Words of length 6\": 246, \"Words of length 7\": 246, \"Words of length 8\": 246, \"Words of length 9\": 246, \"Words of length 10\": 246, \"Words of length 11\": 246, \"Words of length 12\": 246, \"Words of length 13\": 246, \"Words of length 14\": 246}, {\"Words\": 15, \"Letter\": 256, \"Letters in Puzzle\": 256, \"Words of length 4\": 256, \"Words of length 5\": 256, \"Words of length 6\": 256, \"Words of length 7\": 256, \"Words of length 8\": 256, \"Words of length 9\": 256, \"Words of length 10\": 256, \"Words of length 11\": 256, \"Words of length 12\": 256, \"Words of length 13\": 256, \"Words of length 14\": 256}, {\"Words\": 16, \"Letter\": 296, \"Letters in Puzzle\": 296, \"Words of length 4\": 296, \"Words of length 5\": 296, \"Words of length 6\": 296, \"Words of length 7\": 296, \"Words of length 8\": 296, \"Words of length 9\": 296, \"Words of length 10\": 296, \"Words of length 11\": 296, \"Words of length 12\": 296, \"Words of length 13\": 296, \"Words of length 14\": 296}, {\"Words\": 17, \"Letter\": 344, \"Letters in Puzzle\": 344, \"Words of length 4\": 344, \"Words of length 5\": 344, \"Words of length 6\": 344, \"Words of length 7\": 344, \"Words of length 8\": 344, \"Words of length 9\": 344, \"Words of length 10\": 344, \"Words of length 11\": 344, \"Words of length 12\": 344, \"Words of length 13\": 344, \"Words of length 14\": 344}, {\"Words\": 18, \"Letter\": 344, \"Letters in Puzzle\": 344, \"Words of length 4\": 344, \"Words of length 5\": 344, \"Words of length 6\": 344, \"Words of length 7\": 344, \"Words of length 8\": 344, \"Words of length 9\": 344, \"Words of length 10\": 344, \"Words of length 11\": 344, \"Words of length 12\": 344, \"Words of length 13\": 344, \"Words of length 14\": 344}, {\"Words\": 19, \"Letter\": 371, \"Letters in Puzzle\": 371, \"Words of length 4\": 371, \"Words of length 5\": 371, \"Words of length 6\": 371, \"Words of length 7\": 371, \"Words of length 8\": 371, \"Words of length 9\": 371, \"Words of length 10\": 371, \"Words of length 11\": 371, \"Words of length 12\": 371, \"Words of length 13\": 371, \"Words of length 14\": 371}, {\"Words\": 20, \"Letter\": 371, \"Letters in Puzzle\": 371, \"Words of length 4\": 371, \"Words of length 5\": 371, \"Words of length 6\": 371, \"Words of length 7\": 371, \"Words of length 8\": 371, \"Words of length 9\": 371, \"Words of length 10\": 371, \"Words of length 11\": 371, \"Words of length 12\": 371, \"Words of length 13\": 371, \"Words of length 14\": 371}, {\"Words\": 21, \"Letter\": 361, \"Letters in Puzzle\": 361, \"Words of length 4\": 361, \"Words of length 5\": 361, \"Words of length 6\": 361, \"Words of length 7\": 361, \"Words of length 8\": 361, \"Words of length 9\": 361, \"Words of length 10\": 361, \"Words of length 11\": 361, \"Words of length 12\": 361, \"Words of length 13\": 361, \"Words of length 14\": 361}, {\"Words\": 22, \"Letter\": 378, \"Letters in Puzzle\": 378, \"Words of length 4\": 378, \"Words of length 5\": 378, \"Words of length 6\": 378, \"Words of length 7\": 378, \"Words of length 8\": 378, \"Words of length 9\": 378, \"Words of length 10\": 378, \"Words of length 11\": 378, \"Words of length 12\": 378, \"Words of length 13\": 378, \"Words of length 14\": 378}, {\"Words\": 23, \"Letter\": 421, \"Letters in Puzzle\": 421, \"Words of length 4\": 421, \"Words of length 5\": 421, \"Words of length 6\": 421, \"Words of length 7\": 421, \"Words of length 8\": 421, \"Words of length 9\": 421, \"Words of length 10\": 421, \"Words of length 11\": 421, \"Words of length 12\": 421, \"Words of length 13\": 421, \"Words of length 14\": 421}, {\"Words\": 24, \"Letter\": 423, \"Letters in Puzzle\": 423, \"Words of length 4\": 423, \"Words of length 5\": 423, \"Words of length 6\": 423, \"Words of length 7\": 423, \"Words of length 8\": 423, \"Words of length 9\": 423, \"Words of length 10\": 423, \"Words of length 11\": 423, \"Words of length 12\": 423, \"Words of length 13\": 423, \"Words of length 14\": 423}, {\"Words\": 25, \"Letter\": 423, \"Letters in Puzzle\": 423, \"Words of length 4\": 423, \"Words of length 5\": 423, \"Words of length 6\": 423, \"Words of length 7\": 423, \"Words of length 8\": 423, \"Words of length 9\": 423, \"Words of length 10\": 423, \"Words of length 11\": 423, \"Words of length 12\": 423, \"Words of length 13\": 423, \"Words of length 14\": 423}, {\"Words\": 26, \"Letter\": 428, \"Letters in Puzzle\": 428, \"Words of length 4\": 428, \"Words of length 5\": 428, \"Words of length 6\": 428, \"Words of length 7\": 428, \"Words of length 8\": 428, \"Words of length 9\": 428, \"Words of length 10\": 428, \"Words of length 11\": 428, \"Words of length 12\": 428, \"Words of length 13\": 428, \"Words of length 14\": 428}, {\"Words\": 27, \"Letter\": 465, \"Letters in Puzzle\": 465, \"Words of length 4\": 465, \"Words of length 5\": 465, \"Words of length 6\": 465, \"Words of length 7\": 465, \"Words of length 8\": 465, \"Words of length 9\": 465, \"Words of length 10\": 465, \"Words of length 11\": 465, \"Words of length 12\": 465, \"Words of length 13\": 465, \"Words of length 14\": 465}, {\"Words\": 28, \"Letter\": 477, \"Letters in Puzzle\": 477, \"Words of length 4\": 477, \"Words of length 5\": 477, \"Words of length 6\": 477, \"Words of length 7\": 477, \"Words of length 8\": 477, \"Words of length 9\": 477, \"Words of length 10\": 477, \"Words of length 11\": 477, \"Words of length 12\": 477, \"Words of length 13\": 477, \"Words of length 14\": 477}, {\"Words\": 29, \"Letter\": 508, \"Letters in Puzzle\": 508, \"Words of length 4\": 508, \"Words of length 5\": 508, \"Words of length 6\": 508, \"Words of length 7\": 508, \"Words of length 8\": 508, \"Words of length 9\": 508, \"Words of length 10\": 508, \"Words of length 11\": 508, \"Words of length 12\": 508, \"Words of length 13\": 508, \"Words of length 14\": 508}, {\"Words\": 30, \"Letter\": 494, \"Letters in Puzzle\": 494, \"Words of length 4\": 494, \"Words of length 5\": 494, \"Words of length 6\": 494, \"Words of length 7\": 494, \"Words of length 8\": 494, \"Words of length 9\": 494, \"Words of length 10\": 494, \"Words of length 11\": 494, \"Words of length 12\": 494, \"Words of length 13\": 494, \"Words of length 14\": 494}, {\"Words\": 31, \"Letter\": 476, \"Letters in Puzzle\": 476, \"Words of length 4\": 476, \"Words of length 5\": 476, \"Words of length 6\": 476, \"Words of length 7\": 476, \"Words of length 8\": 476, \"Words of length 9\": 476, \"Words of length 10\": 476, \"Words of length 11\": 476, \"Words of length 12\": 476, \"Words of length 13\": 476, \"Words of length 14\": 476}, {\"Words\": 32, \"Letter\": 487, \"Letters in Puzzle\": 487, \"Words of length 4\": 487, \"Words of length 5\": 487, \"Words of length 6\": 487, \"Words of length 7\": 487, \"Words of length 8\": 487, \"Words of length 9\": 487, \"Words of length 10\": 487, \"Words of length 11\": 487, \"Words of length 12\": 487, \"Words of length 13\": 487, \"Words of length 14\": 487}, {\"Words\": 33, \"Letter\": 477, \"Letters in Puzzle\": 477, \"Words of length 4\": 477, \"Words of length 5\": 477, \"Words of length 6\": 477, \"Words of length 7\": 477, \"Words of length 8\": 477, \"Words of length 9\": 477, \"Words of length 10\": 477, \"Words of length 11\": 477, \"Words of length 12\": 477, \"Words of length 13\": 477, \"Words of length 14\": 477}, {\"Words\": 34, \"Letter\": 460, \"Letters in Puzzle\": 460, \"Words of length 4\": 460, \"Words of length 5\": 460, \"Words of length 6\": 460, \"Words of length 7\": 460, \"Words of length 8\": 460, \"Words of length 9\": 460, \"Words of length 10\": 460, \"Words of length 11\": 460, \"Words of length 12\": 460, \"Words of length 13\": 460, \"Words of length 14\": 460}, {\"Words\": 35, \"Letter\": 487, \"Letters in Puzzle\": 487, \"Words of length 4\": 487, \"Words of length 5\": 487, \"Words of length 6\": 487, \"Words of length 7\": 487, \"Words of length 8\": 487, \"Words of length 9\": 487, \"Words of length 10\": 487, \"Words of length 11\": 487, \"Words of length 12\": 487, \"Words of length 13\": 487, \"Words of length 14\": 487}, {\"Words\": 36, \"Letter\": 534, \"Letters in Puzzle\": 534, \"Words of length 4\": 534, \"Words of length 5\": 534, \"Words of length 6\": 534, \"Words of length 7\": 534, \"Words of length 8\": 534, \"Words of length 9\": 534, \"Words of length 10\": 534, \"Words of length 11\": 534, \"Words of length 12\": 534, \"Words of length 13\": 534, \"Words of length 14\": 534}, {\"Words\": 37, \"Letter\": 549, \"Letters in Puzzle\": 549, \"Words of length 4\": 549, \"Words of length 5\": 549, \"Words of length 6\": 549, \"Words of length 7\": 549, \"Words of length 8\": 549, \"Words of length 9\": 549, \"Words of length 10\": 549, \"Words of length 11\": 549, \"Words of length 12\": 549, \"Words of length 13\": 549, \"Words of length 14\": 549}, {\"Words\": 38, \"Letter\": 523, \"Letters in Puzzle\": 523, \"Words of length 4\": 523, \"Words of length 5\": 523, \"Words of length 6\": 523, \"Words of length 7\": 523, \"Words of length 8\": 523, \"Words of length 9\": 523, \"Words of length 10\": 523, \"Words of length 11\": 523, \"Words of length 12\": 523, \"Words of length 13\": 523, \"Words of length 14\": 523}, {\"Words\": 39, \"Letter\": 485, \"Letters in Puzzle\": 485, \"Words of length 4\": 485, \"Words of length 5\": 485, \"Words of length 6\": 485, \"Words of length 7\": 485, \"Words of length 8\": 485, \"Words of length 9\": 485, \"Words of length 10\": 485, \"Words of length 11\": 485, \"Words of length 12\": 485, \"Words of length 13\": 485, \"Words of length 14\": 485}, {\"Words\": 40, \"Letter\": 510, \"Letters in Puzzle\": 510, \"Words of length 4\": 510, \"Words of length 5\": 510, \"Words of length 6\": 510, \"Words of length 7\": 510, \"Words of length 8\": 510, \"Words of length 9\": 510, \"Words of length 10\": 510, \"Words of length 11\": 510, \"Words of length 12\": 510, \"Words of length 13\": 510, \"Words of length 14\": 510}, {\"Words\": 41, \"Letter\": 554, \"Letters in Puzzle\": 554, \"Words of length 4\": 554, \"Words of length 5\": 554, \"Words of length 6\": 554, \"Words of length 7\": 554, \"Words of length 8\": 554, \"Words of length 9\": 554, \"Words of length 10\": 554, \"Words of length 11\": 554, \"Words of length 12\": 554, \"Words of length 13\": 554, \"Words of length 14\": 554}, {\"Words\": 42, \"Letter\": 582, \"Letters in Puzzle\": 582, \"Words of length 4\": 582, \"Words of length 5\": 582, \"Words of length 6\": 582, \"Words of length 7\": 582, \"Words of length 8\": 582, \"Words of length 9\": 582, \"Words of length 10\": 582, \"Words of length 11\": 582, \"Words of length 12\": 582, \"Words of length 13\": 582, \"Words of length 14\": 582}, {\"Words\": 43, \"Letter\": 523, \"Letters in Puzzle\": 523, \"Words of length 4\": 523, \"Words of length 5\": 523, \"Words of length 6\": 523, \"Words of length 7\": 523, \"Words of length 8\": 523, \"Words of length 9\": 523, \"Words of length 10\": 523, \"Words of length 11\": 523, \"Words of length 12\": 523, \"Words of length 13\": 523, \"Words of length 14\": 523}, {\"Words\": 44, \"Letter\": 499, \"Letters in Puzzle\": 499, \"Words of length 4\": 499, \"Words of length 5\": 499, \"Words of length 6\": 499, \"Words of length 7\": 499, \"Words of length 8\": 499, \"Words of length 9\": 499, \"Words of length 10\": 499, \"Words of length 11\": 499, \"Words of length 12\": 499, \"Words of length 13\": 499, \"Words of length 14\": 499}, {\"Words\": 45, \"Letter\": 511, \"Letters in Puzzle\": 511, \"Words of length 4\": 511, \"Words of length 5\": 511, \"Words of length 6\": 511, \"Words of length 7\": 511, \"Words of length 8\": 511, \"Words of length 9\": 511, \"Words of length 10\": 511, \"Words of length 11\": 511, \"Words of length 12\": 511, \"Words of length 13\": 511, \"Words of length 14\": 511}, {\"Words\": 46, \"Letter\": 554, \"Letters in Puzzle\": 554, \"Words of length 4\": 554, \"Words of length 5\": 554, \"Words of length 6\": 554, \"Words of length 7\": 554, \"Words of length 8\": 554, \"Words of length 9\": 554, \"Words of length 10\": 554, \"Words of length 11\": 554, \"Words of length 12\": 554, \"Words of length 13\": 554, \"Words of length 14\": 554}, {\"Words\": 47, \"Letter\": 595, \"Letters in Puzzle\": 595, \"Words of length 4\": 595, \"Words of length 5\": 595, \"Words of length 6\": 595, \"Words of length 7\": 595, \"Words of length 8\": 595, \"Words of length 9\": 595, \"Words of length 10\": 595, \"Words of length 11\": 595, \"Words of length 12\": 595, \"Words of length 13\": 595, \"Words of length 14\": 595}, {\"Words\": 48, \"Letter\": 574, \"Letters in Puzzle\": 574, \"Words of length 4\": 574, \"Words of length 5\": 574, \"Words of length 6\": 574, \"Words of length 7\": 574, \"Words of length 8\": 574, \"Words of length 9\": 574, \"Words of length 10\": 574, \"Words of length 11\": 574, \"Words of length 12\": 574, \"Words of length 13\": 574, \"Words of length 14\": 574}, {\"Words\": 49, \"Letter\": 541, \"Letters in Puzzle\": 541, \"Words of length 4\": 541, \"Words of length 5\": 541, \"Words of length 6\": 541, \"Words of length 7\": 541, \"Words of length 8\": 541, \"Words of length 9\": 541, \"Words of length 10\": 541, \"Words of length 11\": 541, \"Words of length 12\": 541, \"Words of length 13\": 541, \"Words of length 14\": 541}, {\"Words\": 50, \"Letter\": 554, \"Letters in Puzzle\": 554, \"Words of length 4\": 554, \"Words of length 5\": 554, \"Words of length 6\": 554, \"Words of length 7\": 554, \"Words of length 8\": 554, \"Words of length 9\": 554, \"Words of length 10\": 554, \"Words of length 11\": 554, \"Words of length 12\": 554, \"Words of length 13\": 554, \"Words of length 14\": 554}, {\"Words\": 51, \"Letter\": 536, \"Letters in Puzzle\": 536, \"Words of length 4\": 536, \"Words of length 5\": 536, \"Words of length 6\": 536, \"Words of length 7\": 536, \"Words of length 8\": 536, \"Words of length 9\": 536, \"Words of length 10\": 536, \"Words of length 11\": 536, \"Words of length 12\": 536, \"Words of length 13\": 536, \"Words of length 14\": 536}, {\"Words\": 52, \"Letter\": 509, \"Letters in Puzzle\": 509, \"Words of length 4\": 509, \"Words of length 5\": 509, \"Words of length 6\": 509, \"Words of length 7\": 509, \"Words of length 8\": 509, \"Words of length 9\": 509, \"Words of length 10\": 509, \"Words of length 11\": 509, \"Words of length 12\": 509, \"Words of length 13\": 509, \"Words of length 14\": 509}, {\"Words\": 53, \"Letter\": 502, \"Letters in Puzzle\": 502, \"Words of length 4\": 502, \"Words of length 5\": 502, \"Words of length 6\": 502, \"Words of length 7\": 502, \"Words of length 8\": 502, \"Words of length 9\": 502, \"Words of length 10\": 502, \"Words of length 11\": 502, \"Words of length 12\": 502, \"Words of length 13\": 502, \"Words of length 14\": 502}, {\"Words\": 54, \"Letter\": 561, \"Letters in Puzzle\": 561, \"Words of length 4\": 561, \"Words of length 5\": 561, \"Words of length 6\": 561, \"Words of length 7\": 561, \"Words of length 8\": 561, \"Words of length 9\": 561, \"Words of length 10\": 561, \"Words of length 11\": 561, \"Words of length 12\": 561, \"Words of length 13\": 561, \"Words of length 14\": 561}, {\"Words\": 55, \"Letter\": 521, \"Letters in Puzzle\": 521, \"Words of length 4\": 521, \"Words of length 5\": 521, \"Words of length 6\": 521, \"Words of length 7\": 521, \"Words of length 8\": 521, \"Words of length 9\": 521, \"Words of length 10\": 521, \"Words of length 11\": 521, \"Words of length 12\": 521, \"Words of length 13\": 521, \"Words of length 14\": 521}, {\"Words\": 56, \"Letter\": 516, \"Letters in Puzzle\": 516, \"Words of length 4\": 516, \"Words of length 5\": 516, \"Words of length 6\": 516, \"Words of length 7\": 516, \"Words of length 8\": 516, \"Words of length 9\": 516, \"Words of length 10\": 516, \"Words of length 11\": 516, \"Words of length 12\": 516, \"Words of length 13\": 516, \"Words of length 14\": 516}, {\"Words\": 57, \"Letter\": 558, \"Letters in Puzzle\": 558, \"Words of length 4\": 558, \"Words of length 5\": 558, \"Words of length 6\": 558, \"Words of length 7\": 558, \"Words of length 8\": 558, \"Words of length 9\": 558, \"Words of length 10\": 558, \"Words of length 11\": 558, \"Words of length 12\": 558, \"Words of length 13\": 558, \"Words of length 14\": 558}, {\"Words\": 58, \"Letter\": 534, \"Letters in Puzzle\": 534, \"Words of length 4\": 534, \"Words of length 5\": 534, \"Words of length 6\": 534, \"Words of length 7\": 534, \"Words of length 8\": 534, \"Words of length 9\": 534, \"Words of length 10\": 534, \"Words of length 11\": 534, \"Words of length 12\": 534, \"Words of length 13\": 534, \"Words of length 14\": 534}, {\"Words\": 59, \"Letter\": 533, \"Letters in Puzzle\": 533, \"Words of length 4\": 533, \"Words of length 5\": 533, \"Words of length 6\": 533, \"Words of length 7\": 533, \"Words of length 8\": 533, \"Words of length 9\": 533, \"Words of length 10\": 533, \"Words of length 11\": 533, \"Words of length 12\": 533, \"Words of length 13\": 533, \"Words of length 14\": 533}, {\"Words\": 60, \"Letter\": 544, \"Letters in Puzzle\": 544, \"Words of length 4\": 544, \"Words of length 5\": 544, \"Words of length 6\": 544, \"Words of length 7\": 544, \"Words of length 8\": 544, \"Words of length 9\": 544, \"Words of length 10\": 544, \"Words of length 11\": 544, \"Words of length 12\": 544, \"Words of length 13\": 544, \"Words of length 14\": 544}, {\"Words\": 61, \"Letter\": 523, \"Letters in Puzzle\": 523, \"Words of length 4\": 523, \"Words of length 5\": 523, \"Words of length 6\": 523, \"Words of length 7\": 523, \"Words of length 8\": 523, \"Words of length 9\": 523, \"Words of length 10\": 523, \"Words of length 11\": 523, \"Words of length 12\": 523, \"Words of length 13\": 523, \"Words of length 14\": 523}, {\"Words\": 62, \"Letter\": 537, \"Letters in Puzzle\": 537, \"Words of length 4\": 537, \"Words of length 5\": 537, \"Words of length 6\": 537, \"Words of length 7\": 537, \"Words of length 8\": 537, \"Words of length 9\": 537, \"Words of length 10\": 537, \"Words of length 11\": 537, \"Words of length 12\": 537, \"Words of length 13\": 537, \"Words of length 14\": 537}, {\"Words\": 63, \"Letter\": 491, \"Letters in Puzzle\": 491, \"Words of length 4\": 491, \"Words of length 5\": 491, \"Words of length 6\": 491, \"Words of length 7\": 491, \"Words of length 8\": 491, \"Words of length 9\": 491, \"Words of length 10\": 491, \"Words of length 11\": 491, \"Words of length 12\": 491, \"Words of length 13\": 491, \"Words of length 14\": 491}, {\"Words\": 64, \"Letter\": 474, \"Letters in Puzzle\": 474, \"Words of length 4\": 474, \"Words of length 5\": 474, \"Words of length 6\": 474, \"Words of length 7\": 474, \"Words of length 8\": 474, \"Words of length 9\": 474, \"Words of length 10\": 474, \"Words of length 11\": 474, \"Words of length 12\": 474, \"Words of length 13\": 474, \"Words of length 14\": 474}, {\"Words\": 65, \"Letter\": 509, \"Letters in Puzzle\": 509, \"Words of length 4\": 509, \"Words of length 5\": 509, \"Words of length 6\": 509, \"Words of length 7\": 509, \"Words of length 8\": 509, \"Words of length 9\": 509, \"Words of length 10\": 509, \"Words of length 11\": 509, \"Words of length 12\": 509, \"Words of length 13\": 509, \"Words of length 14\": 509}, {\"Words\": 66, \"Letter\": 496, \"Letters in Puzzle\": 496, \"Words of length 4\": 496, \"Words of length 5\": 496, \"Words of length 6\": 496, \"Words of length 7\": 496, \"Words of length 8\": 496, \"Words of length 9\": 496, \"Words of length 10\": 496, \"Words of length 11\": 496, \"Words of length 12\": 496, \"Words of length 13\": 496, \"Words of length 14\": 496}, {\"Words\": 67, \"Letter\": 494, \"Letters in Puzzle\": 494, \"Words of length 4\": 494, \"Words of length 5\": 494, \"Words of length 6\": 494, \"Words of length 7\": 494, \"Words of length 8\": 494, \"Words of length 9\": 494, \"Words of length 10\": 494, \"Words of length 11\": 494, \"Words of length 12\": 494, \"Words of length 13\": 494, \"Words of length 14\": 494}, {\"Words\": 68, \"Letter\": 525, \"Letters in Puzzle\": 525, \"Words of length 4\": 525, \"Words of length 5\": 525, \"Words of length 6\": 525, \"Words of length 7\": 525, \"Words of length 8\": 525, \"Words of length 9\": 525, \"Words of length 10\": 525, \"Words of length 11\": 525, \"Words of length 12\": 525, \"Words of length 13\": 525, \"Words of length 14\": 525}, {\"Words\": 69, \"Letter\": 471, \"Letters in Puzzle\": 471, \"Words of length 4\": 471, \"Words of length 5\": 471, \"Words of length 6\": 471, \"Words of length 7\": 471, \"Words of length 8\": 471, \"Words of length 9\": 471, \"Words of length 10\": 471, \"Words of length 11\": 471, \"Words of length 12\": 471, \"Words of length 13\": 471, \"Words of length 14\": 471}, {\"Words\": 70, \"Letter\": 514, \"Letters in Puzzle\": 514, \"Words of length 4\": 514, \"Words of length 5\": 514, \"Words of length 6\": 514, \"Words of length 7\": 514, \"Words of length 8\": 514, \"Words of length 9\": 514, \"Words of length 10\": 514, \"Words of length 11\": 514, \"Words of length 12\": 514, \"Words of length 13\": 514, \"Words of length 14\": 514}, {\"Words\": 71, \"Letter\": 463, \"Letters in Puzzle\": 463, \"Words of length 4\": 463, \"Words of length 5\": 463, \"Words of length 6\": 463, \"Words of length 7\": 463, \"Words of length 8\": 463, \"Words of length 9\": 463, \"Words of length 10\": 463, \"Words of length 11\": 463, \"Words of length 12\": 463, \"Words of length 13\": 463, \"Words of length 14\": 463}, {\"Words\": 72, \"Letter\": 469, \"Letters in Puzzle\": 469, \"Words of length 4\": 469, \"Words of length 5\": 469, \"Words of length 6\": 469, \"Words of length 7\": 469, \"Words of length 8\": 469, \"Words of length 9\": 469, \"Words of length 10\": 469, \"Words of length 11\": 469, \"Words of length 12\": 469, \"Words of length 13\": 469, \"Words of length 14\": 469}, {\"Words\": 73, \"Letter\": 506, \"Letters in Puzzle\": 506, \"Words of length 4\": 506, \"Words of length 5\": 506, \"Words of length 6\": 506, \"Words of length 7\": 506, \"Words of length 8\": 506, \"Words of length 9\": 506, \"Words of length 10\": 506, \"Words of length 11\": 506, \"Words of length 12\": 506, \"Words of length 13\": 506, \"Words of length 14\": 506}, {\"Words\": 74, \"Letter\": 417, \"Letters in Puzzle\": 417, \"Words of length 4\": 417, \"Words of length 5\": 417, \"Words of length 6\": 417, \"Words of length 7\": 417, \"Words of length 8\": 417, \"Words of length 9\": 417, \"Words of length 10\": 417, \"Words of length 11\": 417, \"Words of length 12\": 417, \"Words of length 13\": 417, \"Words of length 14\": 417}, {\"Words\": 75, \"Letter\": 474, \"Letters in Puzzle\": 474, \"Words of length 4\": 474, \"Words of length 5\": 474, \"Words of length 6\": 474, \"Words of length 7\": 474, \"Words of length 8\": 474, \"Words of length 9\": 474, \"Words of length 10\": 474, \"Words of length 11\": 474, \"Words of length 12\": 474, \"Words of length 13\": 474, \"Words of length 14\": 474}, {\"Words\": 76, \"Letter\": 443, \"Letters in Puzzle\": 443, \"Words of length 4\": 443, \"Words of length 5\": 443, \"Words of length 6\": 443, \"Words of length 7\": 443, \"Words of length 8\": 443, \"Words of length 9\": 443, \"Words of length 10\": 443, \"Words of length 11\": 443, \"Words of length 12\": 443, \"Words of length 13\": 443, \"Words of length 14\": 443}, {\"Words\": 77, \"Letter\": 438, \"Letters in Puzzle\": 438, \"Words of length 4\": 438, \"Words of length 5\": 438, \"Words of length 6\": 438, \"Words of length 7\": 438, \"Words of length 8\": 438, \"Words of length 9\": 438, \"Words of length 10\": 438, \"Words of length 11\": 438, \"Words of length 12\": 438, \"Words of length 13\": 438, \"Words of length 14\": 438}, {\"Words\": 78, \"Letter\": 482, \"Letters in Puzzle\": 482, \"Words of length 4\": 482, \"Words of length 5\": 482, \"Words of length 6\": 482, \"Words of length 7\": 482, \"Words of length 8\": 482, \"Words of length 9\": 482, \"Words of length 10\": 482, \"Words of length 11\": 482, \"Words of length 12\": 482, \"Words of length 13\": 482, \"Words of length 14\": 482}, {\"Words\": 79, \"Letter\": 440, \"Letters in Puzzle\": 440, \"Words of length 4\": 440, \"Words of length 5\": 440, \"Words of length 6\": 440, \"Words of length 7\": 440, \"Words of length 8\": 440, \"Words of length 9\": 440, \"Words of length 10\": 440, \"Words of length 11\": 440, \"Words of length 12\": 440, \"Words of length 13\": 440, \"Words of length 14\": 440}, {\"Words\": 80, \"Letter\": 439, \"Letters in Puzzle\": 439, \"Words of length 4\": 439, \"Words of length 5\": 439, \"Words of length 6\": 439, \"Words of length 7\": 439, \"Words of length 8\": 439, \"Words of length 9\": 439, \"Words of length 10\": 439, \"Words of length 11\": 439, \"Words of length 12\": 439, \"Words of length 13\": 439, \"Words of length 14\": 439}, {\"Words\": 81, \"Letter\": 451, \"Letters in Puzzle\": 451, \"Words of length 4\": 451, \"Words of length 5\": 451, \"Words of length 6\": 451, \"Words of length 7\": 451, \"Words of length 8\": 451, \"Words of length 9\": 451, \"Words of length 10\": 451, \"Words of length 11\": 451, \"Words of length 12\": 451, \"Words of length 13\": 451, \"Words of length 14\": 451}, {\"Words\": 82, \"Letter\": 441, \"Letters in Puzzle\": 441, \"Words of length 4\": 441, \"Words of length 5\": 441, \"Words of length 6\": 441, \"Words of length 7\": 441, \"Words of length 8\": 441, \"Words of length 9\": 441, \"Words of length 10\": 441, \"Words of length 11\": 441, \"Words of length 12\": 441, \"Words of length 13\": 441, \"Words of length 14\": 441}, {\"Words\": 83, \"Letter\": 425, \"Letters in Puzzle\": 425, \"Words of length 4\": 425, \"Words of length 5\": 425, \"Words of length 6\": 425, \"Words of length 7\": 425, \"Words of length 8\": 425, \"Words of length 9\": 425, \"Words of length 10\": 425, \"Words of length 11\": 425, \"Words of length 12\": 425, \"Words of length 13\": 425, \"Words of length 14\": 425}, {\"Words\": 84, \"Letter\": 427, \"Letters in Puzzle\": 427, \"Words of length 4\": 427, \"Words of length 5\": 427, \"Words of length 6\": 427, \"Words of length 7\": 427, \"Words of length 8\": 427, \"Words of length 9\": 427, \"Words of length 10\": 427, \"Words of length 11\": 427, \"Words of length 12\": 427, \"Words of length 13\": 427, \"Words of length 14\": 427}, {\"Words\": 85, \"Letter\": 414, \"Letters in Puzzle\": 414, \"Words of length 4\": 414, \"Words of length 5\": 414, \"Words of length 6\": 414, \"Words of length 7\": 414, \"Words of length 8\": 414, \"Words of length 9\": 414, \"Words of length 10\": 414, \"Words of length 11\": 414, \"Words of length 12\": 414, \"Words of length 13\": 414, \"Words of length 14\": 414}, {\"Words\": 86, \"Letter\": 394, \"Letters in Puzzle\": 394, \"Words of length 4\": 394, \"Words of length 5\": 394, \"Words of length 6\": 394, \"Words of length 7\": 394, \"Words of length 8\": 394, \"Words of length 9\": 394, \"Words of length 10\": 394, \"Words of length 11\": 394, \"Words of length 12\": 394, \"Words of length 13\": 394, \"Words of length 14\": 394}, {\"Words\": 87, \"Letter\": 418, \"Letters in Puzzle\": 418, \"Words of length 4\": 418, \"Words of length 5\": 418, \"Words of length 6\": 418, \"Words of length 7\": 418, \"Words of length 8\": 418, \"Words of length 9\": 418, \"Words of length 10\": 418, \"Words of length 11\": 418, \"Words of length 12\": 418, \"Words of length 13\": 418, \"Words of length 14\": 418}, {\"Words\": 88, \"Letter\": 436, \"Letters in Puzzle\": 436, \"Words of length 4\": 436, \"Words of length 5\": 436, \"Words of length 6\": 436, \"Words of length 7\": 436, \"Words of length 8\": 436, \"Words of length 9\": 436, \"Words of length 10\": 436, \"Words of length 11\": 436, \"Words of length 12\": 436, \"Words of length 13\": 436, \"Words of length 14\": 436}, {\"Words\": 89, \"Letter\": 402, \"Letters in Puzzle\": 402, \"Words of length 4\": 402, \"Words of length 5\": 402, \"Words of length 6\": 402, \"Words of length 7\": 402, \"Words of length 8\": 402, \"Words of length 9\": 402, \"Words of length 10\": 402, \"Words of length 11\": 402, \"Words of length 12\": 402, \"Words of length 13\": 402, \"Words of length 14\": 402}, {\"Words\": 90, \"Letter\": 421, \"Letters in Puzzle\": 421, \"Words of length 4\": 421, \"Words of length 5\": 421, \"Words of length 6\": 421, \"Words of length 7\": 421, \"Words of length 8\": 421, \"Words of length 9\": 421, \"Words of length 10\": 421, \"Words of length 11\": 421, \"Words of length 12\": 421, \"Words of length 13\": 421, \"Words of length 14\": 421}, {\"Words\": 91, \"Letter\": 404, \"Letters in Puzzle\": 404, \"Words of length 4\": 404, \"Words of length 5\": 404, \"Words of length 6\": 404, \"Words of length 7\": 404, \"Words of length 8\": 404, \"Words of length 9\": 404, \"Words of length 10\": 404, \"Words of length 11\": 404, \"Words of length 12\": 404, \"Words of length 13\": 404, \"Words of length 14\": 404}, {\"Words\": 92, \"Letter\": 364, \"Letters in Puzzle\": 364, \"Words of length 4\": 364, \"Words of length 5\": 364, \"Words of length 6\": 364, \"Words of length 7\": 364, \"Words of length 8\": 364, \"Words of length 9\": 364, \"Words of length 10\": 364, \"Words of length 11\": 364, \"Words of length 12\": 364, \"Words of length 13\": 364, \"Words of length 14\": 364}, {\"Words\": 93, \"Letter\": 394, \"Letters in Puzzle\": 394, \"Words of length 4\": 394, \"Words of length 5\": 394, \"Words of length 6\": 394, \"Words of length 7\": 394, \"Words of length 8\": 394, \"Words of length 9\": 394, \"Words of length 10\": 394, \"Words of length 11\": 394, \"Words of length 12\": 394, \"Words of length 13\": 394, \"Words of length 14\": 394}, {\"Words\": 94, \"Letter\": 408, \"Letters in Puzzle\": 408, \"Words of length 4\": 408, \"Words of length 5\": 408, \"Words of length 6\": 408, \"Words of length 7\": 408, \"Words of length 8\": 408, \"Words of length 9\": 408, \"Words of length 10\": 408, \"Words of length 11\": 408, \"Words of length 12\": 408, \"Words of length 13\": 408, \"Words of length 14\": 408}, {\"Words\": 95, \"Letter\": 383, \"Letters in Puzzle\": 383, \"Words of length 4\": 383, \"Words of length 5\": 383, \"Words of length 6\": 383, \"Words of length 7\": 383, \"Words of length 8\": 383, \"Words of length 9\": 383, \"Words of length 10\": 383, \"Words of length 11\": 383, \"Words of length 12\": 383, \"Words of length 13\": 383, \"Words of length 14\": 383}, {\"Words\": 96, \"Letter\": 368, \"Letters in Puzzle\": 368, \"Words of length 4\": 368, \"Words of length 5\": 368, \"Words of length 6\": 368, \"Words of length 7\": 368, \"Words of length 8\": 368, \"Words of length 9\": 368, \"Words of length 10\": 368, \"Words of length 11\": 368, \"Words of length 12\": 368, \"Words of length 13\": 368, \"Words of length 14\": 368}, {\"Words\": 97, \"Letter\": 357, \"Letters in Puzzle\": 357, \"Words of length 4\": 357, \"Words of length 5\": 357, \"Words of length 6\": 357, \"Words of length 7\": 357, \"Words of length 8\": 357, \"Words of length 9\": 357, \"Words of length 10\": 357, \"Words of length 11\": 357, \"Words of length 12\": 357, \"Words of length 13\": 357, \"Words of length 14\": 357}, {\"Words\": 98, \"Letter\": 376, \"Letters in Puzzle\": 376, \"Words of length 4\": 376, \"Words of length 5\": 376, \"Words of length 6\": 376, \"Words of length 7\": 376, \"Words of length 8\": 376, \"Words of length 9\": 376, \"Words of length 10\": 376, \"Words of length 11\": 376, \"Words of length 12\": 376, \"Words of length 13\": 376, \"Words of length 14\": 376}, {\"Words\": 99, \"Letter\": 354, \"Letters in Puzzle\": 354, \"Words of length 4\": 354, \"Words of length 5\": 354, \"Words of length 6\": 354, \"Words of length 7\": 354, \"Words of length 8\": 354, \"Words of length 9\": 354, \"Words of length 10\": 354, \"Words of length 11\": 354, \"Words of length 12\": 354, \"Words of length 13\": 354, \"Words of length 14\": 354}, {\"Words\": 100, \"Letter\": 368, \"Letters in Puzzle\": 368, \"Words of length 4\": 368, \"Words of length 5\": 368, \"Words of length 6\": 368, \"Words of length 7\": 368, \"Words of length 8\": 368, \"Words of length 9\": 368, \"Words of length 10\": 368, \"Words of length 11\": 368, \"Words of length 12\": 368, \"Words of length 13\": 368, \"Words of length 14\": 368}, {\"Words\": 101, \"Letter\": 350, \"Letters in Puzzle\": 350, \"Words of length 4\": 350, \"Words of length 5\": 350, \"Words of length 6\": 350, \"Words of length 7\": 350, \"Words of length 8\": 350, \"Words of length 9\": 350, \"Words of length 10\": 350, \"Words of length 11\": 350, \"Words of length 12\": 350, \"Words of length 13\": 350, \"Words of length 14\": 350}, {\"Words\": 102, \"Letter\": 294, \"Letters in Puzzle\": 294, \"Words of length 4\": 294, \"Words of length 5\": 294, \"Words of length 6\": 294, \"Words of length 7\": 294, \"Words of length 8\": 294, \"Words of length 9\": 294, \"Words of length 10\": 294, \"Words of length 11\": 294, \"Words of length 12\": 294, \"Words of length 13\": 294, \"Words of length 14\": 294}, {\"Words\": 103, \"Letter\": 331, \"Letters in Puzzle\": 331, \"Words of length 4\": 331, \"Words of length 5\": 331, \"Words of length 6\": 331, \"Words of length 7\": 331, \"Words of length 8\": 331, \"Words of length 9\": 331, \"Words of length 10\": 331, \"Words of length 11\": 331, \"Words of length 12\": 331, \"Words of length 13\": 331, \"Words of length 14\": 331}, {\"Words\": 104, \"Letter\": 333, \"Letters in Puzzle\": 333, \"Words of length 4\": 333, \"Words of length 5\": 333, \"Words of length 6\": 333, \"Words of length 7\": 333, \"Words of length 8\": 333, \"Words of length 9\": 333, \"Words of length 10\": 333, \"Words of length 11\": 333, \"Words of length 12\": 333, \"Words of length 13\": 333, \"Words of length 14\": 333}, {\"Words\": 105, \"Letter\": 339, \"Letters in Puzzle\": 339, \"Words of length 4\": 339, \"Words of length 5\": 339, \"Words of length 6\": 339, \"Words of length 7\": 339, \"Words of length 8\": 339, \"Words of length 9\": 339, \"Words of length 10\": 339, \"Words of length 11\": 339, \"Words of length 12\": 339, \"Words of length 13\": 339, \"Words of length 14\": 339}, {\"Words\": 106, \"Letter\": 342, \"Letters in Puzzle\": 342, \"Words of length 4\": 342, \"Words of length 5\": 342, \"Words of length 6\": 342, \"Words of length 7\": 342, \"Words of length 8\": 342, \"Words of length 9\": 342, \"Words of length 10\": 342, \"Words of length 11\": 342, \"Words of length 12\": 342, \"Words of length 13\": 342, \"Words of length 14\": 342}, {\"Words\": 107, \"Letter\": 324, \"Letters in Puzzle\": 324, \"Words of length 4\": 324, \"Words of length 5\": 324, \"Words of length 6\": 324, \"Words of length 7\": 324, \"Words of length 8\": 324, \"Words of length 9\": 324, \"Words of length 10\": 324, \"Words of length 11\": 324, \"Words of length 12\": 324, \"Words of length 13\": 324, \"Words of length 14\": 324}, {\"Words\": 108, \"Letter\": 319, \"Letters in Puzzle\": 319, \"Words of length 4\": 319, \"Words of length 5\": 319, \"Words of length 6\": 319, \"Words of length 7\": 319, \"Words of length 8\": 319, \"Words of length 9\": 319, \"Words of length 10\": 319, \"Words of length 11\": 319, \"Words of length 12\": 319, \"Words of length 13\": 319, \"Words of length 14\": 319}, {\"Words\": 109, \"Letter\": 295, \"Letters in Puzzle\": 295, \"Words of length 4\": 295, \"Words of length 5\": 295, \"Words of length 6\": 295, \"Words of length 7\": 295, \"Words of length 8\": 295, \"Words of length 9\": 295, \"Words of length 10\": 295, \"Words of length 11\": 295, \"Words of length 12\": 295, \"Words of length 13\": 295, \"Words of length 14\": 295}, {\"Words\": 110, \"Letter\": 308, \"Letters in Puzzle\": 308, \"Words of length 4\": 308, \"Words of length 5\": 308, \"Words of length 6\": 308, \"Words of length 7\": 308, \"Words of length 8\": 308, \"Words of length 9\": 308, \"Words of length 10\": 308, \"Words of length 11\": 308, \"Words of length 12\": 308, \"Words of length 13\": 308, \"Words of length 14\": 308}, {\"Words\": 111, \"Letter\": 326, \"Letters in Puzzle\": 326, \"Words of length 4\": 326, \"Words of length 5\": 326, \"Words of length 6\": 326, \"Words of length 7\": 326, \"Words of length 8\": 326, \"Words of length 9\": 326, \"Words of length 10\": 326, \"Words of length 11\": 326, \"Words of length 12\": 326, \"Words of length 13\": 326, \"Words of length 14\": 326}, {\"Words\": 112, \"Letter\": 305, \"Letters in Puzzle\": 305, \"Words of length 4\": 305, \"Words of length 5\": 305, \"Words of length 6\": 305, \"Words of length 7\": 305, \"Words of length 8\": 305, \"Words of length 9\": 305, \"Words of length 10\": 305, \"Words of length 11\": 305, \"Words of length 12\": 305, \"Words of length 13\": 305, \"Words of length 14\": 305}, {\"Words\": 113, \"Letter\": 288, \"Letters in Puzzle\": 288, \"Words of length 4\": 288, \"Words of length 5\": 288, \"Words of length 6\": 288, \"Words of length 7\": 288, \"Words of length 8\": 288, \"Words of length 9\": 288, \"Words of length 10\": 288, \"Words of length 11\": 288, \"Words of length 12\": 288, \"Words of length 13\": 288, \"Words of length 14\": 288}, {\"Words\": 114, \"Letter\": 298, \"Letters in Puzzle\": 298, \"Words of length 4\": 298, \"Words of length 5\": 298, \"Words of length 6\": 298, \"Words of length 7\": 298, \"Words of length 8\": 298, \"Words of length 9\": 298, \"Words of length 10\": 298, \"Words of length 11\": 298, \"Words of length 12\": 298, \"Words of length 13\": 298, \"Words of length 14\": 298}, {\"Words\": 115, \"Letter\": 292, \"Letters in Puzzle\": 292, \"Words of length 4\": 292, \"Words of length 5\": 292, \"Words of length 6\": 292, \"Words of length 7\": 292, \"Words of length 8\": 292, \"Words of length 9\": 292, \"Words of length 10\": 292, \"Words of length 11\": 292, \"Words of length 12\": 292, \"Words of length 13\": 292, \"Words of length 14\": 292}, {\"Words\": 116, \"Letter\": 263, \"Letters in Puzzle\": 263, \"Words of length 4\": 263, \"Words of length 5\": 263, \"Words of length 6\": 263, \"Words of length 7\": 263, \"Words of length 8\": 263, \"Words of length 9\": 263, \"Words of length 10\": 263, \"Words of length 11\": 263, \"Words of length 12\": 263, \"Words of length 13\": 263, \"Words of length 14\": 263}, {\"Words\": 117, \"Letter\": 288, \"Letters in Puzzle\": 288, \"Words of length 4\": 288, \"Words of length 5\": 288, \"Words of length 6\": 288, \"Words of length 7\": 288, \"Words of length 8\": 288, \"Words of length 9\": 288, \"Words of length 10\": 288, \"Words of length 11\": 288, \"Words of length 12\": 288, \"Words of length 13\": 288, \"Words of length 14\": 288}, {\"Words\": 118, \"Letter\": 281, \"Letters in Puzzle\": 281, \"Words of length 4\": 281, \"Words of length 5\": 281, \"Words of length 6\": 281, \"Words of length 7\": 281, \"Words of length 8\": 281, \"Words of length 9\": 281, \"Words of length 10\": 281, \"Words of length 11\": 281, \"Words of length 12\": 281, \"Words of length 13\": 281, \"Words of length 14\": 281}, {\"Words\": 119, \"Letter\": 270, \"Letters in Puzzle\": 270, \"Words of length 4\": 270, \"Words of length 5\": 270, \"Words of length 6\": 270, \"Words of length 7\": 270, \"Words of length 8\": 270, \"Words of length 9\": 270, \"Words of length 10\": 270, \"Words of length 11\": 270, \"Words of length 12\": 270, \"Words of length 13\": 270, \"Words of length 14\": 270}, {\"Words\": 120, \"Letter\": 270, \"Letters in Puzzle\": 270, \"Words of length 4\": 270, \"Words of length 5\": 270, \"Words of length 6\": 270, \"Words of length 7\": 270, \"Words of length 8\": 270, \"Words of length 9\": 270, \"Words of length 10\": 270, \"Words of length 11\": 270, \"Words of length 12\": 270, \"Words of length 13\": 270, \"Words of length 14\": 270}, {\"Words\": 121, \"Letter\": 244, \"Letters in Puzzle\": 244, \"Words of length 4\": 244, \"Words of length 5\": 244, \"Words of length 6\": 244, \"Words of length 7\": 244, \"Words of length 8\": 244, \"Words of length 9\": 244, \"Words of length 10\": 244, \"Words of length 11\": 244, \"Words of length 12\": 244, \"Words of length 13\": 244, \"Words of length 14\": 244}, {\"Words\": 122, \"Letter\": 251, \"Letters in Puzzle\": 251, \"Words of length 4\": 251, \"Words of length 5\": 251, \"Words of length 6\": 251, \"Words of length 7\": 251, \"Words of length 8\": 251, \"Words of length 9\": 251, \"Words of length 10\": 251, \"Words of length 11\": 251, \"Words of length 12\": 251, \"Words of length 13\": 251, \"Words of length 14\": 251}, {\"Words\": 123, \"Letter\": 253, \"Letters in Puzzle\": 253, \"Words of length 4\": 253, \"Words of length 5\": 253, \"Words of length 6\": 253, \"Words of length 7\": 253, \"Words of length 8\": 253, \"Words of length 9\": 253, \"Words of length 10\": 253, \"Words of length 11\": 253, \"Words of length 12\": 253, \"Words of length 13\": 253, \"Words of length 14\": 253}, {\"Words\": 124, \"Letter\": 275, \"Letters in Puzzle\": 275, \"Words of length 4\": 275, \"Words of length 5\": 275, \"Words of length 6\": 275, \"Words of length 7\": 275, \"Words of length 8\": 275, \"Words of length 9\": 275, \"Words of length 10\": 275, \"Words of length 11\": 275, \"Words of length 12\": 275, \"Words of length 13\": 275, \"Words of length 14\": 275}, {\"Words\": 125, \"Letter\": 221, \"Letters in Puzzle\": 221, \"Words of length 4\": 221, \"Words of length 5\": 221, \"Words of length 6\": 221, \"Words of length 7\": 221, \"Words of length 8\": 221, \"Words of length 9\": 221, \"Words of length 10\": 221, \"Words of length 11\": 221, \"Words of length 12\": 221, \"Words of length 13\": 221, \"Words of length 14\": 221}, {\"Words\": 126, \"Letter\": 255, \"Letters in Puzzle\": 255, \"Words of length 4\": 255, \"Words of length 5\": 255, \"Words of length 6\": 255, \"Words of length 7\": 255, \"Words of length 8\": 255, \"Words of length 9\": 255, \"Words of length 10\": 255, \"Words of length 11\": 255, \"Words of length 12\": 255, \"Words of length 13\": 255, \"Words of length 14\": 255}, {\"Words\": 127, \"Letter\": 244, \"Letters in Puzzle\": 244, \"Words of length 4\": 244, \"Words of length 5\": 244, \"Words of length 6\": 244, \"Words of length 7\": 244, \"Words of length 8\": 244, \"Words of length 9\": 244, \"Words of length 10\": 244, \"Words of length 11\": 244, \"Words of length 12\": 244, \"Words of length 13\": 244, \"Words of length 14\": 244}, {\"Words\": 128, \"Letter\": 231, \"Letters in Puzzle\": 231, \"Words of length 4\": 231, \"Words of length 5\": 231, \"Words of length 6\": 231, \"Words of length 7\": 231, \"Words of length 8\": 231, \"Words of length 9\": 231, \"Words of length 10\": 231, \"Words of length 11\": 231, \"Words of length 12\": 231, \"Words of length 13\": 231, \"Words of length 14\": 231}, {\"Words\": 129, \"Letter\": 217, \"Letters in Puzzle\": 217, \"Words of length 4\": 217, \"Words of length 5\": 217, \"Words of length 6\": 217, \"Words of length 7\": 217, \"Words of length 8\": 217, \"Words of length 9\": 217, \"Words of length 10\": 217, \"Words of length 11\": 217, \"Words of length 12\": 217, \"Words of length 13\": 217, \"Words of length 14\": 217}, {\"Words\": 130, \"Letter\": 221, \"Letters in Puzzle\": 221, \"Words of length 4\": 221, \"Words of length 5\": 221, \"Words of length 6\": 221, \"Words of length 7\": 221, \"Words of length 8\": 221, \"Words of length 9\": 221, \"Words of length 10\": 221, \"Words of length 11\": 221, \"Words of length 12\": 221, \"Words of length 13\": 221, \"Words of length 14\": 221}, {\"Words\": 131, \"Letter\": 235, \"Letters in Puzzle\": 235, \"Words of length 4\": 235, \"Words of length 5\": 235, \"Words of length 6\": 235, \"Words of length 7\": 235, \"Words of length 8\": 235, \"Words of length 9\": 235, \"Words of length 10\": 235, \"Words of length 11\": 235, \"Words of length 12\": 235, \"Words of length 13\": 235, \"Words of length 14\": 235}, {\"Words\": 132, \"Letter\": 239, \"Letters in Puzzle\": 239, \"Words of length 4\": 239, \"Words of length 5\": 239, \"Words of length 6\": 239, \"Words of length 7\": 239, \"Words of length 8\": 239, \"Words of length 9\": 239, \"Words of length 10\": 239, \"Words of length 11\": 239, \"Words of length 12\": 239, \"Words of length 13\": 239, \"Words of length 14\": 239}, {\"Words\": 133, \"Letter\": 215, \"Letters in Puzzle\": 215, \"Words of length 4\": 215, \"Words of length 5\": 215, \"Words of length 6\": 215, \"Words of length 7\": 215, \"Words of length 8\": 215, \"Words of length 9\": 215, \"Words of length 10\": 215, \"Words of length 11\": 215, \"Words of length 12\": 215, \"Words of length 13\": 215, \"Words of length 14\": 215}, {\"Words\": 134, \"Letter\": 205, \"Letters in Puzzle\": 205, \"Words of length 4\": 205, \"Words of length 5\": 205, \"Words of length 6\": 205, \"Words of length 7\": 205, \"Words of length 8\": 205, \"Words of length 9\": 205, \"Words of length 10\": 205, \"Words of length 11\": 205, \"Words of length 12\": 205, \"Words of length 13\": 205, \"Words of length 14\": 205}, {\"Words\": 135, \"Letter\": 214, \"Letters in Puzzle\": 214, \"Words of length 4\": 214, \"Words of length 5\": 214, \"Words of length 6\": 214, \"Words of length 7\": 214, \"Words of length 8\": 214, \"Words of length 9\": 214, \"Words of length 10\": 214, \"Words of length 11\": 214, \"Words of length 12\": 214, \"Words of length 13\": 214, \"Words of length 14\": 214}, {\"Words\": 136, \"Letter\": 219, \"Letters in Puzzle\": 219, \"Words of length 4\": 219, \"Words of length 5\": 219, \"Words of length 6\": 219, \"Words of length 7\": 219, \"Words of length 8\": 219, \"Words of length 9\": 219, \"Words of length 10\": 219, \"Words of length 11\": 219, \"Words of length 12\": 219, \"Words of length 13\": 219, \"Words of length 14\": 219}, {\"Words\": 137, \"Letter\": 208, \"Letters in Puzzle\": 208, \"Words of length 4\": 208, \"Words of length 5\": 208, \"Words of length 6\": 208, \"Words of length 7\": 208, \"Words of length 8\": 208, \"Words of length 9\": 208, \"Words of length 10\": 208, \"Words of length 11\": 208, \"Words of length 12\": 208, \"Words of length 13\": 208, \"Words of length 14\": 208}, {\"Words\": 138, \"Letter\": 214, \"Letters in Puzzle\": 214, \"Words of length 4\": 214, \"Words of length 5\": 214, \"Words of length 6\": 214, \"Words of length 7\": 214, \"Words of length 8\": 214, \"Words of length 9\": 214, \"Words of length 10\": 214, \"Words of length 11\": 214, \"Words of length 12\": 214, \"Words of length 13\": 214, \"Words of length 14\": 214}, {\"Words\": 139, \"Letter\": 203, \"Letters in Puzzle\": 203, \"Words of length 4\": 203, \"Words of length 5\": 203, \"Words of length 6\": 203, \"Words of length 7\": 203, \"Words of length 8\": 203, \"Words of length 9\": 203, \"Words of length 10\": 203, \"Words of length 11\": 203, \"Words of length 12\": 203, \"Words of length 13\": 203, \"Words of length 14\": 203}, {\"Words\": 140, \"Letter\": 199, \"Letters in Puzzle\": 199, \"Words of length 4\": 199, \"Words of length 5\": 199, \"Words of length 6\": 199, \"Words of length 7\": 199, \"Words of length 8\": 199, \"Words of length 9\": 199, \"Words of length 10\": 199, \"Words of length 11\": 199, \"Words of length 12\": 199, \"Words of length 13\": 199, \"Words of length 14\": 199}, {\"Words\": 141, \"Letter\": 203, \"Letters in Puzzle\": 203, \"Words of length 4\": 203, \"Words of length 5\": 203, \"Words of length 6\": 203, \"Words of length 7\": 203, \"Words of length 8\": 203, \"Words of length 9\": 203, \"Words of length 10\": 203, \"Words of length 11\": 203, \"Words of length 12\": 203, \"Words of length 13\": 203, \"Words of length 14\": 203}, {\"Words\": 142, \"Letter\": 181, \"Letters in Puzzle\": 181, \"Words of length 4\": 181, \"Words of length 5\": 181, \"Words of length 6\": 181, \"Words of length 7\": 181, \"Words of length 8\": 181, \"Words of length 9\": 181, \"Words of length 10\": 181, \"Words of length 11\": 181, \"Words of length 12\": 181, \"Words of length 13\": 181, \"Words of length 14\": 181}, {\"Words\": 143, \"Letter\": 194, \"Letters in Puzzle\": 194, \"Words of length 4\": 194, \"Words of length 5\": 194, \"Words of length 6\": 194, \"Words of length 7\": 194, \"Words of length 8\": 194, \"Words of length 9\": 194, \"Words of length 10\": 194, \"Words of length 11\": 194, \"Words of length 12\": 194, \"Words of length 13\": 194, \"Words of length 14\": 194}, {\"Words\": 144, \"Letter\": 183, \"Letters in Puzzle\": 183, \"Words of length 4\": 183, \"Words of length 5\": 183, \"Words of length 6\": 183, \"Words of length 7\": 183, \"Words of length 8\": 183, \"Words of length 9\": 183, \"Words of length 10\": 183, \"Words of length 11\": 183, \"Words of length 12\": 183, \"Words of length 13\": 183, \"Words of length 14\": 183}, {\"Words\": 145, \"Letter\": 188, \"Letters in Puzzle\": 188, \"Words of length 4\": 188, \"Words of length 5\": 188, \"Words of length 6\": 188, \"Words of length 7\": 188, \"Words of length 8\": 188, \"Words of length 9\": 188, \"Words of length 10\": 188, \"Words of length 11\": 188, \"Words of length 12\": 188, \"Words of length 13\": 188, \"Words of length 14\": 188}, {\"Words\": 146, \"Letter\": 205, \"Letters in Puzzle\": 205, \"Words of length 4\": 205, \"Words of length 5\": 205, \"Words of length 6\": 205, \"Words of length 7\": 205, \"Words of length 8\": 205, \"Words of length 9\": 205, \"Words of length 10\": 205, \"Words of length 11\": 205, \"Words of length 12\": 205, \"Words of length 13\": 205, \"Words of length 14\": 205}, {\"Words\": 147, \"Letter\": 149, \"Letters in Puzzle\": 149, \"Words of length 4\": 149, \"Words of length 5\": 149, \"Words of length 6\": 149, \"Words of length 7\": 149, \"Words of length 8\": 149, \"Words of length 9\": 149, \"Words of length 10\": 149, \"Words of length 11\": 149, \"Words of length 12\": 149, \"Words of length 13\": 149, \"Words of length 14\": 149}, {\"Words\": 148, \"Letter\": 181, \"Letters in Puzzle\": 181, \"Words of length 4\": 181, \"Words of length 5\": 181, \"Words of length 6\": 181, \"Words of length 7\": 181, \"Words of length 8\": 181, \"Words of length 9\": 181, \"Words of length 10\": 181, \"Words of length 11\": 181, \"Words of length 12\": 181, \"Words of length 13\": 181, \"Words of length 14\": 181}, {\"Words\": 149, \"Letter\": 182, \"Letters in Puzzle\": 182, \"Words of length 4\": 182, \"Words of length 5\": 182, \"Words of length 6\": 182, \"Words of length 7\": 182, \"Words of length 8\": 182, \"Words of length 9\": 182, \"Words of length 10\": 182, \"Words of length 11\": 182, \"Words of length 12\": 182, \"Words of length 13\": 182, \"Words of length 14\": 182}, {\"Words\": 150, \"Letter\": 166, \"Letters in Puzzle\": 166, \"Words of length 4\": 166, \"Words of length 5\": 166, \"Words of length 6\": 166, \"Words of length 7\": 166, \"Words of length 8\": 166, \"Words of length 9\": 166, \"Words of length 10\": 166, \"Words of length 11\": 166, \"Words of length 12\": 166, \"Words of length 13\": 166, \"Words of length 14\": 166}, {\"Words\": 151, \"Letter\": 175, \"Letters in Puzzle\": 175, \"Words of length 4\": 175, \"Words of length 5\": 175, \"Words of length 6\": 175, \"Words of length 7\": 175, \"Words of length 8\": 175, \"Words of length 9\": 175, \"Words of length 10\": 175, \"Words of length 11\": 175, \"Words of length 12\": 175, \"Words of length 13\": 175, \"Words of length 14\": 175}, {\"Words\": 152, \"Letter\": 157, \"Letters in Puzzle\": 157, \"Words of length 4\": 157, \"Words of length 5\": 157, \"Words of length 6\": 157, \"Words of length 7\": 157, \"Words of length 8\": 157, \"Words of length 9\": 157, \"Words of length 10\": 157, \"Words of length 11\": 157, \"Words of length 12\": 157, \"Words of length 13\": 157, \"Words of length 14\": 157}, {\"Words\": 153, \"Letter\": 177, \"Letters in Puzzle\": 177, \"Words of length 4\": 177, \"Words of length 5\": 177, \"Words of length 6\": 177, \"Words of length 7\": 177, \"Words of length 8\": 177, \"Words of length 9\": 177, \"Words of length 10\": 177, \"Words of length 11\": 177, \"Words of length 12\": 177, \"Words of length 13\": 177, \"Words of length 14\": 177}, {\"Words\": 154, \"Letter\": 152, \"Letters in Puzzle\": 152, \"Words of length 4\": 152, \"Words of length 5\": 152, \"Words of length 6\": 152, \"Words of length 7\": 152, \"Words of length 8\": 152, \"Words of length 9\": 152, \"Words of length 10\": 152, \"Words of length 11\": 152, \"Words of length 12\": 152, \"Words of length 13\": 152, \"Words of length 14\": 152}, {\"Words\": 155, \"Letter\": 181, \"Letters in Puzzle\": 181, \"Words of length 4\": 181, \"Words of length 5\": 181, \"Words of length 6\": 181, \"Words of length 7\": 181, \"Words of length 8\": 181, \"Words of length 9\": 181, \"Words of length 10\": 181, \"Words of length 11\": 181, \"Words of length 12\": 181, \"Words of length 13\": 181, \"Words of length 14\": 181}, {\"Words\": 156, \"Letter\": 153, \"Letters in Puzzle\": 153, \"Words of length 4\": 153, \"Words of length 5\": 153, \"Words of length 6\": 153, \"Words of length 7\": 153, \"Words of length 8\": 153, \"Words of length 9\": 153, \"Words of length 10\": 153, \"Words of length 11\": 153, \"Words of length 12\": 153, \"Words of length 13\": 153, \"Words of length 14\": 153}, {\"Words\": 157, \"Letter\": 139, \"Letters in Puzzle\": 139, \"Words of length 4\": 139, \"Words of length 5\": 139, \"Words of length 6\": 139, \"Words of length 7\": 139, \"Words of length 8\": 139, \"Words of length 9\": 139, \"Words of length 10\": 139, \"Words of length 11\": 139, \"Words of length 12\": 139, \"Words of length 13\": 139, \"Words of length 14\": 139}, {\"Words\": 158, \"Letter\": 164, \"Letters in Puzzle\": 164, \"Words of length 4\": 164, \"Words of length 5\": 164, \"Words of length 6\": 164, \"Words of length 7\": 164, \"Words of length 8\": 164, \"Words of length 9\": 164, \"Words of length 10\": 164, \"Words of length 11\": 164, \"Words of length 12\": 164, \"Words of length 13\": 164, \"Words of length 14\": 164}, {\"Words\": 159, \"Letter\": 180, \"Letters in Puzzle\": 180, \"Words of length 4\": 180, \"Words of length 5\": 180, \"Words of length 6\": 180, \"Words of length 7\": 180, \"Words of length 8\": 180, \"Words of length 9\": 180, \"Words of length 10\": 180, \"Words of length 11\": 180, \"Words of length 12\": 180, \"Words of length 13\": 180, \"Words of length 14\": 180}, {\"Words\": 160, \"Letter\": 167, \"Letters in Puzzle\": 167, \"Words of length 4\": 167, \"Words of length 5\": 167, \"Words of length 6\": 167, \"Words of length 7\": 167, \"Words of length 8\": 167, \"Words of length 9\": 167, \"Words of length 10\": 167, \"Words of length 11\": 167, \"Words of length 12\": 167, \"Words of length 13\": 167, \"Words of length 14\": 167}, {\"Words\": 161, \"Letter\": 117, \"Letters in Puzzle\": 117, \"Words of length 4\": 117, \"Words of length 5\": 117, \"Words of length 6\": 117, \"Words of length 7\": 117, \"Words of length 8\": 117, \"Words of length 9\": 117, \"Words of length 10\": 117, \"Words of length 11\": 117, \"Words of length 12\": 117, \"Words of length 13\": 117, \"Words of length 14\": 117}, {\"Words\": 162, \"Letter\": 146, \"Letters in Puzzle\": 146, \"Words of length 4\": 146, \"Words of length 5\": 146, \"Words of length 6\": 146, \"Words of length 7\": 146, \"Words of length 8\": 146, \"Words of length 9\": 146, \"Words of length 10\": 146, \"Words of length 11\": 146, \"Words of length 12\": 146, \"Words of length 13\": 146, \"Words of length 14\": 146}, {\"Words\": 163, \"Letter\": 148, \"Letters in Puzzle\": 148, \"Words of length 4\": 148, \"Words of length 5\": 148, \"Words of length 6\": 148, \"Words of length 7\": 148, \"Words of length 8\": 148, \"Words of length 9\": 148, \"Words of length 10\": 148, \"Words of length 11\": 148, \"Words of length 12\": 148, \"Words of length 13\": 148, \"Words of length 14\": 148}, {\"Words\": 164, \"Letter\": 129, \"Letters in Puzzle\": 129, \"Words of length 4\": 129, \"Words of length 5\": 129, \"Words of length 6\": 129, \"Words of length 7\": 129, \"Words of length 8\": 129, \"Words of length 9\": 129, \"Words of length 10\": 129, \"Words of length 11\": 129, \"Words of length 12\": 129, \"Words of length 13\": 129, \"Words of length 14\": 129}, {\"Words\": 165, \"Letter\": 115, \"Letters in Puzzle\": 115, \"Words of length 4\": 115, \"Words of length 5\": 115, \"Words of length 6\": 115, \"Words of length 7\": 115, \"Words of length 8\": 115, \"Words of length 9\": 115, \"Words of length 10\": 115, \"Words of length 11\": 115, \"Words of length 12\": 115, \"Words of length 13\": 115, \"Words of length 14\": 115}, {\"Words\": 166, \"Letter\": 121, \"Letters in Puzzle\": 121, \"Words of length 4\": 121, \"Words of length 5\": 121, \"Words of length 6\": 121, \"Words of length 7\": 121, \"Words of length 8\": 121, \"Words of length 9\": 121, \"Words of length 10\": 121, \"Words of length 11\": 121, \"Words of length 12\": 121, \"Words of length 13\": 121, \"Words of length 14\": 121}, {\"Words\": 167, \"Letter\": 135, \"Letters in Puzzle\": 135, \"Words of length 4\": 135, \"Words of length 5\": 135, \"Words of length 6\": 135, \"Words of length 7\": 135, \"Words of length 8\": 135, \"Words of length 9\": 135, \"Words of length 10\": 135, \"Words of length 11\": 135, \"Words of length 12\": 135, \"Words of length 13\": 135, \"Words of length 14\": 135}, {\"Words\": 168, \"Letter\": 119, \"Letters in Puzzle\": 119, \"Words of length 4\": 119, \"Words of length 5\": 119, \"Words of length 6\": 119, \"Words of length 7\": 119, \"Words of length 8\": 119, \"Words of length 9\": 119, \"Words of length 10\": 119, \"Words of length 11\": 119, \"Words of length 12\": 119, \"Words of length 13\": 119, \"Words of length 14\": 119}, {\"Words\": 169, \"Letter\": 118, \"Letters in Puzzle\": 118, \"Words of length 4\": 118, \"Words of length 5\": 118, \"Words of length 6\": 118, \"Words of length 7\": 118, \"Words of length 8\": 118, \"Words of length 9\": 118, \"Words of length 10\": 118, \"Words of length 11\": 118, \"Words of length 12\": 118, \"Words of length 13\": 118, \"Words of length 14\": 118}, {\"Words\": 170, \"Letter\": 112, \"Letters in Puzzle\": 112, \"Words of length 4\": 112, \"Words of length 5\": 112, \"Words of length 6\": 112, \"Words of length 7\": 112, \"Words of length 8\": 112, \"Words of length 9\": 112, \"Words of length 10\": 112, \"Words of length 11\": 112, \"Words of length 12\": 112, \"Words of length 13\": 112, \"Words of length 14\": 112}, {\"Words\": 171, \"Letter\": 127, \"Letters in Puzzle\": 127, \"Words of length 4\": 127, \"Words of length 5\": 127, \"Words of length 6\": 127, \"Words of length 7\": 127, \"Words of length 8\": 127, \"Words of length 9\": 127, \"Words of length 10\": 127, \"Words of length 11\": 127, \"Words of length 12\": 127, \"Words of length 13\": 127, \"Words of length 14\": 127}, {\"Words\": 172, \"Letter\": 110, \"Letters in Puzzle\": 110, \"Words of length 4\": 110, \"Words of length 5\": 110, \"Words of length 6\": 110, \"Words of length 7\": 110, \"Words of length 8\": 110, \"Words of length 9\": 110, \"Words of length 10\": 110, \"Words of length 11\": 110, \"Words of length 12\": 110, \"Words of length 13\": 110, \"Words of length 14\": 110}, {\"Words\": 173, \"Letter\": 126, \"Letters in Puzzle\": 126, \"Words of length 4\": 126, \"Words of length 5\": 126, \"Words of length 6\": 126, \"Words of length 7\": 126, \"Words of length 8\": 126, \"Words of length 9\": 126, \"Words of length 10\": 126, \"Words of length 11\": 126, \"Words of length 12\": 126, \"Words of length 13\": 126, \"Words of length 14\": 126}, {\"Words\": 174, \"Letter\": 118, \"Letters in Puzzle\": 118, \"Words of length 4\": 118, \"Words of length 5\": 118, \"Words of length 6\": 118, \"Words of length 7\": 118, \"Words of length 8\": 118, \"Words of length 9\": 118, \"Words of length 10\": 118, \"Words of length 11\": 118, \"Words of length 12\": 118, \"Words of length 13\": 118, \"Words of length 14\": 118}, {\"Words\": 175, \"Letter\": 117, \"Letters in Puzzle\": 117, \"Words of length 4\": 117, \"Words of length 5\": 117, \"Words of length 6\": 117, \"Words of length 7\": 117, \"Words of length 8\": 117, \"Words of length 9\": 117, \"Words of length 10\": 117, \"Words of length 11\": 117, \"Words of length 12\": 117, \"Words of length 13\": 117, \"Words of length 14\": 117}, {\"Words\": 176, \"Letter\": 137, \"Letters in Puzzle\": 137, \"Words of length 4\": 137, \"Words of length 5\": 137, \"Words of length 6\": 137, \"Words of length 7\": 137, \"Words of length 8\": 137, \"Words of length 9\": 137, \"Words of length 10\": 137, \"Words of length 11\": 137, \"Words of length 12\": 137, \"Words of length 13\": 137, \"Words of length 14\": 137}, {\"Words\": 177, \"Letter\": 124, \"Letters in Puzzle\": 124, \"Words of length 4\": 124, \"Words of length 5\": 124, \"Words of length 6\": 124, \"Words of length 7\": 124, \"Words of length 8\": 124, \"Words of length 9\": 124, \"Words of length 10\": 124, \"Words of length 11\": 124, \"Words of length 12\": 124, \"Words of length 13\": 124, \"Words of length 14\": 124}, {\"Words\": 178, \"Letter\": 123, \"Letters in Puzzle\": 123, \"Words of length 4\": 123, \"Words of length 5\": 123, \"Words of length 6\": 123, \"Words of length 7\": 123, \"Words of length 8\": 123, \"Words of length 9\": 123, \"Words of length 10\": 123, \"Words of length 11\": 123, \"Words of length 12\": 123, \"Words of length 13\": 123, \"Words of length 14\": 123}, {\"Words\": 179, \"Letter\": 100, \"Letters in Puzzle\": 100, \"Words of length 4\": 100, \"Words of length 5\": 100, \"Words of length 6\": 100, \"Words of length 7\": 100, \"Words of length 8\": 100, \"Words of length 9\": 100, \"Words of length 10\": 100, \"Words of length 11\": 100, \"Words of length 12\": 100, \"Words of length 13\": 100, \"Words of length 14\": 100}, {\"Words\": 180, \"Letter\": 113, \"Letters in Puzzle\": 113, \"Words of length 4\": 113, \"Words of length 5\": 113, \"Words of length 6\": 113, \"Words of length 7\": 113, \"Words of length 8\": 113, \"Words of length 9\": 113, \"Words of length 10\": 113, \"Words of length 11\": 113, \"Words of length 12\": 113, \"Words of length 13\": 113, \"Words of length 14\": 113}, {\"Words\": 181, \"Letter\": 114, \"Letters in Puzzle\": 114, \"Words of length 4\": 114, \"Words of length 5\": 114, \"Words of length 6\": 114, \"Words of length 7\": 114, \"Words of length 8\": 114, \"Words of length 9\": 114, \"Words of length 10\": 114, \"Words of length 11\": 114, \"Words of length 12\": 114, \"Words of length 13\": 114, \"Words of length 14\": 114}, {\"Words\": 182, \"Letter\": 105, \"Letters in Puzzle\": 105, \"Words of length 4\": 105, \"Words of length 5\": 105, \"Words of length 6\": 105, \"Words of length 7\": 105, \"Words of length 8\": 105, \"Words of length 9\": 105, \"Words of length 10\": 105, \"Words of length 11\": 105, \"Words of length 12\": 105, \"Words of length 13\": 105, \"Words of length 14\": 105}, {\"Words\": 183, \"Letter\": 90, \"Letters in Puzzle\": 90, \"Words of length 4\": 90, \"Words of length 5\": 90, \"Words of length 6\": 90, \"Words of length 7\": 90, \"Words of length 8\": 90, \"Words of length 9\": 90, \"Words of length 10\": 90, \"Words of length 11\": 90, \"Words of length 12\": 90, \"Words of length 13\": 90, \"Words of length 14\": 90}, {\"Words\": 184, \"Letter\": 102, \"Letters in Puzzle\": 102, \"Words of length 4\": 102, \"Words of length 5\": 102, \"Words of length 6\": 102, \"Words of length 7\": 102, \"Words of length 8\": 102, \"Words of length 9\": 102, \"Words of length 10\": 102, \"Words of length 11\": 102, \"Words of length 12\": 102, \"Words of length 13\": 102, \"Words of length 14\": 102}, {\"Words\": 185, \"Letter\": 94, \"Letters in Puzzle\": 94, \"Words of length 4\": 94, \"Words of length 5\": 94, \"Words of length 6\": 94, \"Words of length 7\": 94, \"Words of length 8\": 94, \"Words of length 9\": 94, \"Words of length 10\": 94, \"Words of length 11\": 94, \"Words of length 12\": 94, \"Words of length 13\": 94, \"Words of length 14\": 94}, {\"Words\": 186, \"Letter\": 106, \"Letters in Puzzle\": 106, \"Words of length 4\": 106, \"Words of length 5\": 106, \"Words of length 6\": 106, \"Words of length 7\": 106, \"Words of length 8\": 106, \"Words of length 9\": 106, \"Words of length 10\": 106, \"Words of length 11\": 106, \"Words of length 12\": 106, \"Words of length 13\": 106, \"Words of length 14\": 106}, {\"Words\": 187, \"Letter\": 109, \"Letters in Puzzle\": 109, \"Words of length 4\": 109, \"Words of length 5\": 109, \"Words of length 6\": 109, \"Words of length 7\": 109, \"Words of length 8\": 109, \"Words of length 9\": 109, \"Words of length 10\": 109, \"Words of length 11\": 109, \"Words of length 12\": 109, \"Words of length 13\": 109, \"Words of length 14\": 109}, {\"Words\": 188, \"Letter\": 88, \"Letters in Puzzle\": 88, \"Words of length 4\": 88, \"Words of length 5\": 88, \"Words of length 6\": 88, \"Words of length 7\": 88, \"Words of length 8\": 88, \"Words of length 9\": 88, \"Words of length 10\": 88, \"Words of length 11\": 88, \"Words of length 12\": 88, \"Words of length 13\": 88, \"Words of length 14\": 88}, {\"Words\": 189, \"Letter\": 88, \"Letters in Puzzle\": 88, \"Words of length 4\": 88, \"Words of length 5\": 88, \"Words of length 6\": 88, \"Words of length 7\": 88, \"Words of length 8\": 88, \"Words of length 9\": 88, \"Words of length 10\": 88, \"Words of length 11\": 88, \"Words of length 12\": 88, \"Words of length 13\": 88, \"Words of length 14\": 88}, {\"Words\": 190, \"Letter\": 87, \"Letters in Puzzle\": 87, \"Words of length 4\": 87, \"Words of length 5\": 87, \"Words of length 6\": 87, \"Words of length 7\": 87, \"Words of length 8\": 87, \"Words of length 9\": 87, \"Words of length 10\": 87, \"Words of length 11\": 87, \"Words of length 12\": 87, \"Words of length 13\": 87, \"Words of length 14\": 87}, {\"Words\": 191, \"Letter\": 91, \"Letters in Puzzle\": 91, \"Words of length 4\": 91, \"Words of length 5\": 91, \"Words of length 6\": 91, \"Words of length 7\": 91, \"Words of length 8\": 91, \"Words of length 9\": 91, \"Words of length 10\": 91, \"Words of length 11\": 91, \"Words of length 12\": 91, \"Words of length 13\": 91, \"Words of length 14\": 91}, {\"Words\": 192, \"Letter\": 82, \"Letters in Puzzle\": 82, \"Words of length 4\": 82, \"Words of length 5\": 82, \"Words of length 6\": 82, \"Words of length 7\": 82, \"Words of length 8\": 82, \"Words of length 9\": 82, \"Words of length 10\": 82, \"Words of length 11\": 82, \"Words of length 12\": 82, \"Words of length 13\": 82, \"Words of length 14\": 82}, {\"Words\": 193, \"Letter\": 87, \"Letters in Puzzle\": 87, \"Words of length 4\": 87, \"Words of length 5\": 87, \"Words of length 6\": 87, \"Words of length 7\": 87, \"Words of length 8\": 87, \"Words of length 9\": 87, \"Words of length 10\": 87, \"Words of length 11\": 87, \"Words of length 12\": 87, \"Words of length 13\": 87, \"Words of length 14\": 87}, {\"Words\": 194, \"Letter\": 68, \"Letters in Puzzle\": 68, \"Words of length 4\": 68, \"Words of length 5\": 68, \"Words of length 6\": 68, \"Words of length 7\": 68, \"Words of length 8\": 68, \"Words of length 9\": 68, \"Words of length 10\": 68, \"Words of length 11\": 68, \"Words of length 12\": 68, \"Words of length 13\": 68, \"Words of length 14\": 68}, {\"Words\": 195, \"Letter\": 96, \"Letters in Puzzle\": 96, \"Words of length 4\": 96, \"Words of length 5\": 96, \"Words of length 6\": 96, \"Words of length 7\": 96, \"Words of length 8\": 96, \"Words of length 9\": 96, \"Words of length 10\": 96, \"Words of length 11\": 96, \"Words of length 12\": 96, \"Words of length 13\": 96, \"Words of length 14\": 96}, {\"Words\": 196, \"Letter\": 72, \"Letters in Puzzle\": 72, \"Words of length 4\": 72, \"Words of length 5\": 72, \"Words of length 6\": 72, \"Words of length 7\": 72, \"Words of length 8\": 72, \"Words of length 9\": 72, \"Words of length 10\": 72, \"Words of length 11\": 72, \"Words of length 12\": 72, \"Words of length 13\": 72, \"Words of length 14\": 72}, {\"Words\": 197, \"Letter\": 94, \"Letters in Puzzle\": 94, \"Words of length 4\": 94, \"Words of length 5\": 94, \"Words of length 6\": 94, \"Words of length 7\": 94, \"Words of length 8\": 94, \"Words of length 9\": 94, \"Words of length 10\": 94, \"Words of length 11\": 94, \"Words of length 12\": 94, \"Words of length 13\": 94, \"Words of length 14\": 94}, {\"Words\": 198, \"Letter\": 82, \"Letters in Puzzle\": 82, \"Words of length 4\": 82, \"Words of length 5\": 82, \"Words of length 6\": 82, \"Words of length 7\": 82, \"Words of length 8\": 82, \"Words of length 9\": 82, \"Words of length 10\": 82, \"Words of length 11\": 82, \"Words of length 12\": 82, \"Words of length 13\": 82, \"Words of length 14\": 82}, {\"Words\": 199, \"Letter\": 74, \"Letters in Puzzle\": 74, \"Words of length 4\": 74, \"Words of length 5\": 74, \"Words of length 6\": 74, \"Words of length 7\": 74, \"Words of length 8\": 74, \"Words of length 9\": 74, \"Words of length 10\": 74, \"Words of length 11\": 74, \"Words of length 12\": 74, \"Words of length 13\": 74, \"Words of length 14\": 74}, {\"Words\": 200, \"Letter\": 87, \"Letters in Puzzle\": 87, \"Words of length 4\": 87, \"Words of length 5\": 87, \"Words of length 6\": 87, \"Words of length 7\": 87, \"Words of length 8\": 87, \"Words of length 9\": 87, \"Words of length 10\": 87, \"Words of length 11\": 87, \"Words of length 12\": 87, \"Words of length 13\": 87, \"Words of length 14\": 87}, {\"Words\": 201, \"Letter\": 89, \"Letters in Puzzle\": 89, \"Words of length 4\": 89, \"Words of length 5\": 89, \"Words of length 6\": 89, \"Words of length 7\": 89, \"Words of length 8\": 89, \"Words of length 9\": 89, \"Words of length 10\": 89, \"Words of length 11\": 89, \"Words of length 12\": 89, \"Words of length 13\": 89, \"Words of length 14\": 89}, {\"Words\": 202, \"Letter\": 75, \"Letters in Puzzle\": 75, \"Words of length 4\": 75, \"Words of length 5\": 75, \"Words of length 6\": 75, \"Words of length 7\": 75, \"Words of length 8\": 75, \"Words of length 9\": 75, \"Words of length 10\": 75, \"Words of length 11\": 75, \"Words of length 12\": 75, \"Words of length 13\": 75, \"Words of length 14\": 75}, {\"Words\": 203, \"Letter\": 83, \"Letters in Puzzle\": 83, \"Words of length 4\": 83, \"Words of length 5\": 83, \"Words of length 6\": 83, \"Words of length 7\": 83, \"Words of length 8\": 83, \"Words of length 9\": 83, \"Words of length 10\": 83, \"Words of length 11\": 83, \"Words of length 12\": 83, \"Words of length 13\": 83, \"Words of length 14\": 83}, {\"Words\": 204, \"Letter\": 68, \"Letters in Puzzle\": 68, \"Words of length 4\": 68, \"Words of length 5\": 68, \"Words of length 6\": 68, \"Words of length 7\": 68, \"Words of length 8\": 68, \"Words of length 9\": 68, \"Words of length 10\": 68, \"Words of length 11\": 68, \"Words of length 12\": 68, \"Words of length 13\": 68, \"Words of length 14\": 68}, {\"Words\": 205, \"Letter\": 67, \"Letters in Puzzle\": 67, \"Words of length 4\": 67, \"Words of length 5\": 67, \"Words of length 6\": 67, \"Words of length 7\": 67, \"Words of length 8\": 67, \"Words of length 9\": 67, \"Words of length 10\": 67, \"Words of length 11\": 67, \"Words of length 12\": 67, \"Words of length 13\": 67, \"Words of length 14\": 67}, {\"Words\": 206, \"Letter\": 79, \"Letters in Puzzle\": 79, \"Words of length 4\": 79, \"Words of length 5\": 79, \"Words of length 6\": 79, \"Words of length 7\": 79, \"Words of length 8\": 79, \"Words of length 9\": 79, \"Words of length 10\": 79, \"Words of length 11\": 79, \"Words of length 12\": 79, \"Words of length 13\": 79, \"Words of length 14\": 79}, {\"Words\": 207, \"Letter\": 70, \"Letters in Puzzle\": 70, \"Words of length 4\": 70, \"Words of length 5\": 70, \"Words of length 6\": 70, \"Words of length 7\": 70, \"Words of length 8\": 70, \"Words of length 9\": 70, \"Words of length 10\": 70, \"Words of length 11\": 70, \"Words of length 12\": 70, \"Words of length 13\": 70, \"Words of length 14\": 70}, {\"Words\": 208, \"Letter\": 68, \"Letters in Puzzle\": 68, \"Words of length 4\": 68, \"Words of length 5\": 68, \"Words of length 6\": 68, \"Words of length 7\": 68, \"Words of length 8\": 68, \"Words of length 9\": 68, \"Words of length 10\": 68, \"Words of length 11\": 68, \"Words of length 12\": 68, \"Words of length 13\": 68, \"Words of length 14\": 68}, {\"Words\": 209, \"Letter\": 67, \"Letters in Puzzle\": 67, \"Words of length 4\": 67, \"Words of length 5\": 67, \"Words of length 6\": 67, \"Words of length 7\": 67, \"Words of length 8\": 67, \"Words of length 9\": 67, \"Words of length 10\": 67, \"Words of length 11\": 67, \"Words of length 12\": 67, \"Words of length 13\": 67, \"Words of length 14\": 67}, {\"Words\": 210, \"Letter\": 59, \"Letters in Puzzle\": 59, \"Words of length 4\": 59, \"Words of length 5\": 59, \"Words of length 6\": 59, \"Words of length 7\": 59, \"Words of length 8\": 59, \"Words of length 9\": 59, \"Words of length 10\": 59, \"Words of length 11\": 59, \"Words of length 12\": 59, \"Words of length 13\": 59, \"Words of length 14\": 59}, {\"Words\": 211, \"Letter\": 61, \"Letters in Puzzle\": 61, \"Words of length 4\": 61, \"Words of length 5\": 61, \"Words of length 6\": 61, \"Words of length 7\": 61, \"Words of length 8\": 61, \"Words of length 9\": 61, \"Words of length 10\": 61, \"Words of length 11\": 61, \"Words of length 12\": 61, \"Words of length 13\": 61, \"Words of length 14\": 61}, {\"Words\": 212, \"Letter\": 71, \"Letters in Puzzle\": 71, \"Words of length 4\": 71, \"Words of length 5\": 71, \"Words of length 6\": 71, \"Words of length 7\": 71, \"Words of length 8\": 71, \"Words of length 9\": 71, \"Words of length 10\": 71, \"Words of length 11\": 71, \"Words of length 12\": 71, \"Words of length 13\": 71, \"Words of length 14\": 71}, {\"Words\": 213, \"Letter\": 61, \"Letters in Puzzle\": 61, \"Words of length 4\": 61, \"Words of length 5\": 61, \"Words of length 6\": 61, \"Words of length 7\": 61, \"Words of length 8\": 61, \"Words of length 9\": 61, \"Words of length 10\": 61, \"Words of length 11\": 61, \"Words of length 12\": 61, \"Words of length 13\": 61, \"Words of length 14\": 61}, {\"Words\": 214, \"Letter\": 66, \"Letters in Puzzle\": 66, \"Words of length 4\": 66, \"Words of length 5\": 66, \"Words of length 6\": 66, \"Words of length 7\": 66, \"Words of length 8\": 66, \"Words of length 9\": 66, \"Words of length 10\": 66, \"Words of length 11\": 66, \"Words of length 12\": 66, \"Words of length 13\": 66, \"Words of length 14\": 66}, {\"Words\": 215, \"Letter\": 69, \"Letters in Puzzle\": 69, \"Words of length 4\": 69, \"Words of length 5\": 69, \"Words of length 6\": 69, \"Words of length 7\": 69, \"Words of length 8\": 69, \"Words of length 9\": 69, \"Words of length 10\": 69, \"Words of length 11\": 69, \"Words of length 12\": 69, \"Words of length 13\": 69, \"Words of length 14\": 69}, {\"Words\": 216, \"Letter\": 60, \"Letters in Puzzle\": 60, \"Words of length 4\": 60, \"Words of length 5\": 60, \"Words of length 6\": 60, \"Words of length 7\": 60, \"Words of length 8\": 60, \"Words of length 9\": 60, \"Words of length 10\": 60, \"Words of length 11\": 60, \"Words of length 12\": 60, \"Words of length 13\": 60, \"Words of length 14\": 60}, {\"Words\": 217, \"Letter\": 47, \"Letters in Puzzle\": 47, \"Words of length 4\": 47, \"Words of length 5\": 47, \"Words of length 6\": 47, \"Words of length 7\": 47, \"Words of length 8\": 47, \"Words of length 9\": 47, \"Words of length 10\": 47, \"Words of length 11\": 47, \"Words of length 12\": 47, \"Words of length 13\": 47, \"Words of length 14\": 47}, {\"Words\": 218, \"Letter\": 51, \"Letters in Puzzle\": 51, \"Words of length 4\": 51, \"Words of length 5\": 51, \"Words of length 6\": 51, \"Words of length 7\": 51, \"Words of length 8\": 51, \"Words of length 9\": 51, \"Words of length 10\": 51, \"Words of length 11\": 51, \"Words of length 12\": 51, \"Words of length 13\": 51, \"Words of length 14\": 51}, {\"Words\": 219, \"Letter\": 53, \"Letters in Puzzle\": 53, \"Words of length 4\": 53, \"Words of length 5\": 53, \"Words of length 6\": 53, \"Words of length 7\": 53, \"Words of length 8\": 53, \"Words of length 9\": 53, \"Words of length 10\": 53, \"Words of length 11\": 53, \"Words of length 12\": 53, \"Words of length 13\": 53, \"Words of length 14\": 53}, {\"Words\": 220, \"Letter\": 47, \"Letters in Puzzle\": 47, \"Words of length 4\": 47, \"Words of length 5\": 47, \"Words of length 6\": 47, \"Words of length 7\": 47, \"Words of length 8\": 47, \"Words of length 9\": 47, \"Words of length 10\": 47, \"Words of length 11\": 47, \"Words of length 12\": 47, \"Words of length 13\": 47, \"Words of length 14\": 47}, {\"Words\": 221, \"Letter\": 33, \"Letters in Puzzle\": 33, \"Words of length 4\": 33, \"Words of length 5\": 33, \"Words of length 6\": 33, \"Words of length 7\": 33, \"Words of length 8\": 33, \"Words of length 9\": 33, \"Words of length 10\": 33, \"Words of length 11\": 33, \"Words of length 12\": 33, \"Words of length 13\": 33, \"Words of length 14\": 33}, {\"Words\": 222, \"Letter\": 54, \"Letters in Puzzle\": 54, \"Words of length 4\": 54, \"Words of length 5\": 54, \"Words of length 6\": 54, \"Words of length 7\": 54, \"Words of length 8\": 54, \"Words of length 9\": 54, \"Words of length 10\": 54, \"Words of length 11\": 54, \"Words of length 12\": 54, \"Words of length 13\": 54, \"Words of length 14\": 54}, {\"Words\": 223, \"Letter\": 57, \"Letters in Puzzle\": 57, \"Words of length 4\": 57, \"Words of length 5\": 57, \"Words of length 6\": 57, \"Words of length 7\": 57, \"Words of length 8\": 57, \"Words of length 9\": 57, \"Words of length 10\": 57, \"Words of length 11\": 57, \"Words of length 12\": 57, \"Words of length 13\": 57, \"Words of length 14\": 57}, {\"Words\": 224, \"Letter\": 57, \"Letters in Puzzle\": 57, \"Words of length 4\": 57, \"Words of length 5\": 57, \"Words of length 6\": 57, \"Words of length 7\": 57, \"Words of length 8\": 57, \"Words of length 9\": 57, \"Words of length 10\": 57, \"Words of length 11\": 57, \"Words of length 12\": 57, \"Words of length 13\": 57, \"Words of length 14\": 57}, {\"Words\": 225, \"Letter\": 51, \"Letters in Puzzle\": 51, \"Words of length 4\": 51, \"Words of length 5\": 51, \"Words of length 6\": 51, \"Words of length 7\": 51, \"Words of length 8\": 51, \"Words of length 9\": 51, \"Words of length 10\": 51, \"Words of length 11\": 51, \"Words of length 12\": 51, \"Words of length 13\": 51, \"Words of length 14\": 51}, {\"Words\": 226, \"Letter\": 51, \"Letters in Puzzle\": 51, \"Words of length 4\": 51, \"Words of length 5\": 51, \"Words of length 6\": 51, \"Words of length 7\": 51, \"Words of length 8\": 51, \"Words of length 9\": 51, \"Words of length 10\": 51, \"Words of length 11\": 51, \"Words of length 12\": 51, \"Words of length 13\": 51, \"Words of length 14\": 51}, {\"Words\": 227, \"Letter\": 52, \"Letters in Puzzle\": 52, \"Words of length 4\": 52, \"Words of length 5\": 52, \"Words of length 6\": 52, \"Words of length 7\": 52, \"Words of length 8\": 52, \"Words of length 9\": 52, \"Words of length 10\": 52, \"Words of length 11\": 52, \"Words of length 12\": 52, \"Words of length 13\": 52, \"Words of length 14\": 52}, {\"Words\": 228, \"Letter\": 34, \"Letters in Puzzle\": 34, \"Words of length 4\": 34, \"Words of length 5\": 34, \"Words of length 6\": 34, \"Words of length 7\": 34, \"Words of length 8\": 34, \"Words of length 9\": 34, \"Words of length 10\": 34, \"Words of length 11\": 34, \"Words of length 12\": 34, \"Words of length 13\": 34, \"Words of length 14\": 34}, {\"Words\": 229, \"Letter\": 56, \"Letters in Puzzle\": 56, \"Words of length 4\": 56, \"Words of length 5\": 56, \"Words of length 6\": 56, \"Words of length 7\": 56, \"Words of length 8\": 56, \"Words of length 9\": 56, \"Words of length 10\": 56, \"Words of length 11\": 56, \"Words of length 12\": 56, \"Words of length 13\": 56, \"Words of length 14\": 56}, {\"Words\": 230, \"Letter\": 45, \"Letters in Puzzle\": 45, \"Words of length 4\": 45, \"Words of length 5\": 45, \"Words of length 6\": 45, \"Words of length 7\": 45, \"Words of length 8\": 45, \"Words of length 9\": 45, \"Words of length 10\": 45, \"Words of length 11\": 45, \"Words of length 12\": 45, \"Words of length 13\": 45, \"Words of length 14\": 45}, {\"Words\": 231, \"Letter\": 47, \"Letters in Puzzle\": 47, \"Words of length 4\": 47, \"Words of length 5\": 47, \"Words of length 6\": 47, \"Words of length 7\": 47, \"Words of length 8\": 47, \"Words of length 9\": 47, \"Words of length 10\": 47, \"Words of length 11\": 47, \"Words of length 12\": 47, \"Words of length 13\": 47, \"Words of length 14\": 47}, {\"Words\": 232, \"Letter\": 37, \"Letters in Puzzle\": 37, \"Words of length 4\": 37, \"Words of length 5\": 37, \"Words of length 6\": 37, \"Words of length 7\": 37, \"Words of length 8\": 37, \"Words of length 9\": 37, \"Words of length 10\": 37, \"Words of length 11\": 37, \"Words of length 12\": 37, \"Words of length 13\": 37, \"Words of length 14\": 37}, {\"Words\": 233, \"Letter\": 44, \"Letters in Puzzle\": 44, \"Words of length 4\": 44, \"Words of length 5\": 44, \"Words of length 6\": 44, \"Words of length 7\": 44, \"Words of length 8\": 44, \"Words of length 9\": 44, \"Words of length 10\": 44, \"Words of length 11\": 44, \"Words of length 12\": 44, \"Words of length 13\": 44, \"Words of length 14\": 44}, {\"Words\": 234, \"Letter\": 51, \"Letters in Puzzle\": 51, \"Words of length 4\": 51, \"Words of length 5\": 51, \"Words of length 6\": 51, \"Words of length 7\": 51, \"Words of length 8\": 51, \"Words of length 9\": 51, \"Words of length 10\": 51, \"Words of length 11\": 51, \"Words of length 12\": 51, \"Words of length 13\": 51, \"Words of length 14\": 51}, {\"Words\": 235, \"Letter\": 40, \"Letters in Puzzle\": 40, \"Words of length 4\": 40, \"Words of length 5\": 40, \"Words of length 6\": 40, \"Words of length 7\": 40, \"Words of length 8\": 40, \"Words of length 9\": 40, \"Words of length 10\": 40, \"Words of length 11\": 40, \"Words of length 12\": 40, \"Words of length 13\": 40, \"Words of length 14\": 40}, {\"Words\": 236, \"Letter\": 36, \"Letters in Puzzle\": 36, \"Words of length 4\": 36, \"Words of length 5\": 36, \"Words of length 6\": 36, \"Words of length 7\": 36, \"Words of length 8\": 36, \"Words of length 9\": 36, \"Words of length 10\": 36, \"Words of length 11\": 36, \"Words of length 12\": 36, \"Words of length 13\": 36, \"Words of length 14\": 36}, {\"Words\": 237, \"Letter\": 45, \"Letters in Puzzle\": 45, \"Words of length 4\": 45, \"Words of length 5\": 45, \"Words of length 6\": 45, \"Words of length 7\": 45, \"Words of length 8\": 45, \"Words of length 9\": 45, \"Words of length 10\": 45, \"Words of length 11\": 45, \"Words of length 12\": 45, \"Words of length 13\": 45, \"Words of length 14\": 45}, {\"Words\": 238, \"Letter\": 36, \"Letters in Puzzle\": 36, \"Words of length 4\": 36, \"Words of length 5\": 36, \"Words of length 6\": 36, \"Words of length 7\": 36, \"Words of length 8\": 36, \"Words of length 9\": 36, \"Words of length 10\": 36, \"Words of length 11\": 36, \"Words of length 12\": 36, \"Words of length 13\": 36, \"Words of length 14\": 36}, {\"Words\": 239, \"Letter\": 42, \"Letters in Puzzle\": 42, \"Words of length 4\": 42, \"Words of length 5\": 42, \"Words of length 6\": 42, \"Words of length 7\": 42, \"Words of length 8\": 42, \"Words of length 9\": 42, \"Words of length 10\": 42, \"Words of length 11\": 42, \"Words of length 12\": 42, \"Words of length 13\": 42, \"Words of length 14\": 42}, {\"Words\": 240, \"Letter\": 45, \"Letters in Puzzle\": 45, \"Words of length 4\": 45, \"Words of length 5\": 45, \"Words of length 6\": 45, \"Words of length 7\": 45, \"Words of length 8\": 45, \"Words of length 9\": 45, \"Words of length 10\": 45, \"Words of length 11\": 45, \"Words of length 12\": 45, \"Words of length 13\": 45, \"Words of length 14\": 45}, {\"Words\": 241, \"Letter\": 40, \"Letters in Puzzle\": 40, \"Words of length 4\": 40, \"Words of length 5\": 40, \"Words of length 6\": 40, \"Words of length 7\": 40, \"Words of length 8\": 40, \"Words of length 9\": 40, \"Words of length 10\": 40, \"Words of length 11\": 40, \"Words of length 12\": 40, \"Words of length 13\": 40, \"Words of length 14\": 40}, {\"Words\": 242, \"Letter\": 36, \"Letters in Puzzle\": 36, \"Words of length 4\": 36, \"Words of length 5\": 36, \"Words of length 6\": 36, \"Words of length 7\": 36, \"Words of length 8\": 36, \"Words of length 9\": 36, \"Words of length 10\": 36, \"Words of length 11\": 36, \"Words of length 12\": 36, \"Words of length 13\": 36, \"Words of length 14\": 36}, {\"Words\": 243, \"Letter\": 43, \"Letters in Puzzle\": 43, \"Words of length 4\": 43, \"Words of length 5\": 43, \"Words of length 6\": 43, \"Words of length 7\": 43, \"Words of length 8\": 43, \"Words of length 9\": 43, \"Words of length 10\": 43, \"Words of length 11\": 43, \"Words of length 12\": 43, \"Words of length 13\": 43, \"Words of length 14\": 43}, {\"Words\": 244, \"Letter\": 28, \"Letters in Puzzle\": 28, \"Words of length 4\": 28, \"Words of length 5\": 28, \"Words of length 6\": 28, \"Words of length 7\": 28, \"Words of length 8\": 28, \"Words of length 9\": 28, \"Words of length 10\": 28, \"Words of length 11\": 28, \"Words of length 12\": 28, \"Words of length 13\": 28, \"Words of length 14\": 28}, {\"Words\": 245, \"Letter\": 49, \"Letters in Puzzle\": 49, \"Words of length 4\": 49, \"Words of length 5\": 49, \"Words of length 6\": 49, \"Words of length 7\": 49, \"Words of length 8\": 49, \"Words of length 9\": 49, \"Words of length 10\": 49, \"Words of length 11\": 49, \"Words of length 12\": 49, \"Words of length 13\": 49, \"Words of length 14\": 49}, {\"Words\": 246, \"Letter\": 41, \"Letters in Puzzle\": 41, \"Words of length 4\": 41, \"Words of length 5\": 41, \"Words of length 6\": 41, \"Words of length 7\": 41, \"Words of length 8\": 41, \"Words of length 9\": 41, \"Words of length 10\": 41, \"Words of length 11\": 41, \"Words of length 12\": 41, \"Words of length 13\": 41, \"Words of length 14\": 41}, {\"Words\": 247, \"Letter\": 39, \"Letters in Puzzle\": 39, \"Words of length 4\": 39, \"Words of length 5\": 39, \"Words of length 6\": 39, \"Words of length 7\": 39, \"Words of length 8\": 39, \"Words of length 9\": 39, \"Words of length 10\": 39, \"Words of length 11\": 39, \"Words of length 12\": 39, \"Words of length 13\": 39, \"Words of length 14\": 39}, {\"Words\": 248, \"Letter\": 36, \"Letters in Puzzle\": 36, \"Words of length 4\": 36, \"Words of length 5\": 36, \"Words of length 6\": 36, \"Words of length 7\": 36, \"Words of length 8\": 36, \"Words of length 9\": 36, \"Words of length 10\": 36, \"Words of length 11\": 36, \"Words of length 12\": 36, \"Words of length 13\": 36, \"Words of length 14\": 36}, {\"Words\": 249, \"Letter\": 46, \"Letters in Puzzle\": 46, \"Words of length 4\": 46, \"Words of length 5\": 46, \"Words of length 6\": 46, \"Words of length 7\": 46, \"Words of length 8\": 46, \"Words of length 9\": 46, \"Words of length 10\": 46, \"Words of length 11\": 46, \"Words of length 12\": 46, \"Words of length 13\": 46, \"Words of length 14\": 46}, {\"Words\": 250, \"Letter\": 27, \"Letters in Puzzle\": 27, \"Words of length 4\": 27, \"Words of length 5\": 27, \"Words of length 6\": 27, \"Words of length 7\": 27, \"Words of length 8\": 27, \"Words of length 9\": 27, \"Words of length 10\": 27, \"Words of length 11\": 27, \"Words of length 12\": 27, \"Words of length 13\": 27, \"Words of length 14\": 27}, {\"Words\": 251, \"Letter\": 32, \"Letters in Puzzle\": 32, \"Words of length 4\": 32, \"Words of length 5\": 32, \"Words of length 6\": 32, \"Words of length 7\": 32, \"Words of length 8\": 32, \"Words of length 9\": 32, \"Words of length 10\": 32, \"Words of length 11\": 32, \"Words of length 12\": 32, \"Words of length 13\": 32, \"Words of length 14\": 32}, {\"Words\": 252, \"Letter\": 32, \"Letters in Puzzle\": 32, \"Words of length 4\": 32, \"Words of length 5\": 32, \"Words of length 6\": 32, \"Words of length 7\": 32, \"Words of length 8\": 32, \"Words of length 9\": 32, \"Words of length 10\": 32, \"Words of length 11\": 32, \"Words of length 12\": 32, \"Words of length 13\": 32, \"Words of length 14\": 32}, {\"Words\": 253, \"Letter\": 24, \"Letters in Puzzle\": 24, \"Words of length 4\": 24, \"Words of length 5\": 24, \"Words of length 6\": 24, \"Words of length 7\": 24, \"Words of length 8\": 24, \"Words of length 9\": 24, \"Words of length 10\": 24, \"Words of length 11\": 24, \"Words of length 12\": 24, \"Words of length 13\": 24, \"Words of length 14\": 24}, {\"Words\": 254, \"Letter\": 34, \"Letters in Puzzle\": 34, \"Words of length 4\": 34, \"Words of length 5\": 34, \"Words of length 6\": 34, \"Words of length 7\": 34, \"Words of length 8\": 34, \"Words of length 9\": 34, \"Words of length 10\": 34, \"Words of length 11\": 34, \"Words of length 12\": 34, \"Words of length 13\": 34, \"Words of length 14\": 34}, {\"Words\": 255, \"Letter\": 21, \"Letters in Puzzle\": 21, \"Words of length 4\": 21, \"Words of length 5\": 21, \"Words of length 6\": 21, \"Words of length 7\": 21, \"Words of length 8\": 21, \"Words of length 9\": 21, \"Words of length 10\": 21, \"Words of length 11\": 21, \"Words of length 12\": 21, \"Words of length 13\": 21, \"Words of length 14\": 21}, {\"Words\": 256, \"Letter\": 29, \"Letters in Puzzle\": 29, \"Words of length 4\": 29, \"Words of length 5\": 29, \"Words of length 6\": 29, \"Words of length 7\": 29, \"Words of length 8\": 29, \"Words of length 9\": 29, \"Words of length 10\": 29, \"Words of length 11\": 29, \"Words of length 12\": 29, \"Words of length 13\": 29, \"Words of length 14\": 29}, {\"Words\": 257, \"Letter\": 30, \"Letters in Puzzle\": 30, \"Words of length 4\": 30, \"Words of length 5\": 30, \"Words of length 6\": 30, \"Words of length 7\": 30, \"Words of length 8\": 30, \"Words of length 9\": 30, \"Words of length 10\": 30, \"Words of length 11\": 30, \"Words of length 12\": 30, \"Words of length 13\": 30, \"Words of length 14\": 30}, {\"Words\": 258, \"Letter\": 31, \"Letters in Puzzle\": 31, \"Words of length 4\": 31, \"Words of length 5\": 31, \"Words of length 6\": 31, \"Words of length 7\": 31, \"Words of length 8\": 31, \"Words of length 9\": 31, \"Words of length 10\": 31, \"Words of length 11\": 31, \"Words of length 12\": 31, \"Words of length 13\": 31, \"Words of length 14\": 31}, {\"Words\": 259, \"Letter\": 18, \"Letters in Puzzle\": 18, \"Words of length 4\": 18, \"Words of length 5\": 18, \"Words of length 6\": 18, \"Words of length 7\": 18, \"Words of length 8\": 18, \"Words of length 9\": 18, \"Words of length 10\": 18, \"Words of length 11\": 18, \"Words of length 12\": 18, \"Words of length 13\": 18, \"Words of length 14\": 18}, {\"Words\": 260, \"Letter\": 36, \"Letters in Puzzle\": 36, \"Words of length 4\": 36, \"Words of length 5\": 36, \"Words of length 6\": 36, \"Words of length 7\": 36, \"Words of length 8\": 36, \"Words of length 9\": 36, \"Words of length 10\": 36, \"Words of length 11\": 36, \"Words of length 12\": 36, \"Words of length 13\": 36, \"Words of length 14\": 36}, {\"Words\": 261, \"Letter\": 29, \"Letters in Puzzle\": 29, \"Words of length 4\": 29, \"Words of length 5\": 29, \"Words of length 6\": 29, \"Words of length 7\": 29, \"Words of length 8\": 29, \"Words of length 9\": 29, \"Words of length 10\": 29, \"Words of length 11\": 29, \"Words of length 12\": 29, \"Words of length 13\": 29, \"Words of length 14\": 29}, {\"Words\": 262, \"Letter\": 27, \"Letters in Puzzle\": 27, \"Words of length 4\": 27, \"Words of length 5\": 27, \"Words of length 6\": 27, \"Words of length 7\": 27, \"Words of length 8\": 27, \"Words of length 9\": 27, \"Words of length 10\": 27, \"Words of length 11\": 27, \"Words of length 12\": 27, \"Words of length 13\": 27, \"Words of length 14\": 27}, {\"Words\": 263, \"Letter\": 24, \"Letters in Puzzle\": 24, \"Words of length 4\": 24, \"Words of length 5\": 24, \"Words of length 6\": 24, \"Words of length 7\": 24, \"Words of length 8\": 24, \"Words of length 9\": 24, \"Words of length 10\": 24, \"Words of length 11\": 24, \"Words of length 12\": 24, \"Words of length 13\": 24, \"Words of length 14\": 24}, {\"Words\": 264, \"Letter\": 23, \"Letters in Puzzle\": 23, \"Words of length 4\": 23, \"Words of length 5\": 23, \"Words of length 6\": 23, \"Words of length 7\": 23, \"Words of length 8\": 23, \"Words of length 9\": 23, \"Words of length 10\": 23, \"Words of length 11\": 23, \"Words of length 12\": 23, \"Words of length 13\": 23, \"Words of length 14\": 23}, {\"Words\": 265, \"Letter\": 25, \"Letters in Puzzle\": 25, \"Words of length 4\": 25, \"Words of length 5\": 25, \"Words of length 6\": 25, \"Words of length 7\": 25, \"Words of length 8\": 25, \"Words of length 9\": 25, \"Words of length 10\": 25, \"Words of length 11\": 25, \"Words of length 12\": 25, \"Words of length 13\": 25, \"Words of length 14\": 25}, {\"Words\": 266, \"Letter\": 20, \"Letters in Puzzle\": 20, \"Words of length 4\": 20, \"Words of length 5\": 20, \"Words of length 6\": 20, \"Words of length 7\": 20, \"Words of length 8\": 20, \"Words of length 9\": 20, \"Words of length 10\": 20, \"Words of length 11\": 20, \"Words of length 12\": 20, \"Words of length 13\": 20, \"Words of length 14\": 20}, {\"Words\": 267, \"Letter\": 23, \"Letters in Puzzle\": 23, \"Words of length 4\": 23, \"Words of length 5\": 23, \"Words of length 6\": 23, \"Words of length 7\": 23, \"Words of length 8\": 23, \"Words of length 9\": 23, \"Words of length 10\": 23, \"Words of length 11\": 23, \"Words of length 12\": 23, \"Words of length 13\": 23, \"Words of length 14\": 23}, {\"Words\": 268, \"Letter\": 23, \"Letters in Puzzle\": 23, \"Words of length 4\": 23, \"Words of length 5\": 23, \"Words of length 6\": 23, \"Words of length 7\": 23, \"Words of length 8\": 23, \"Words of length 9\": 23, \"Words of length 10\": 23, \"Words of length 11\": 23, \"Words of length 12\": 23, \"Words of length 13\": 23, \"Words of length 14\": 23}, {\"Words\": 269, \"Letter\": 26, \"Letters in Puzzle\": 26, \"Words of length 4\": 26, \"Words of length 5\": 26, \"Words of length 6\": 26, \"Words of length 7\": 26, \"Words of length 8\": 26, \"Words of length 9\": 26, \"Words of length 10\": 26, \"Words of length 11\": 26, \"Words of length 12\": 26, \"Words of length 13\": 26, \"Words of length 14\": 26}, {\"Words\": 270, \"Letter\": 21, \"Letters in Puzzle\": 21, \"Words of length 4\": 21, \"Words of length 5\": 21, \"Words of length 6\": 21, \"Words of length 7\": 21, \"Words of length 8\": 21, \"Words of length 9\": 21, \"Words of length 10\": 21, \"Words of length 11\": 21, \"Words of length 12\": 21, \"Words of length 13\": 21, \"Words of length 14\": 21}, {\"Words\": 271, \"Letter\": 28, \"Letters in Puzzle\": 28, \"Words of length 4\": 28, \"Words of length 5\": 28, \"Words of length 6\": 28, \"Words of length 7\": 28, \"Words of length 8\": 28, \"Words of length 9\": 28, \"Words of length 10\": 28, \"Words of length 11\": 28, \"Words of length 12\": 28, \"Words of length 13\": 28, \"Words of length 14\": 28}, {\"Words\": 272, \"Letter\": 29, \"Letters in Puzzle\": 29, \"Words of length 4\": 29, \"Words of length 5\": 29, \"Words of length 6\": 29, \"Words of length 7\": 29, \"Words of length 8\": 29, \"Words of length 9\": 29, \"Words of length 10\": 29, \"Words of length 11\": 29, \"Words of length 12\": 29, \"Words of length 13\": 29, \"Words of length 14\": 29}, {\"Words\": 273, \"Letter\": 24, \"Letters in Puzzle\": 24, \"Words of length 4\": 24, \"Words of length 5\": 24, \"Words of length 6\": 24, \"Words of length 7\": 24, \"Words of length 8\": 24, \"Words of length 9\": 24, \"Words of length 10\": 24, \"Words of length 11\": 24, \"Words of length 12\": 24, \"Words of length 13\": 24, \"Words of length 14\": 24}, {\"Words\": 274, \"Letter\": 18, \"Letters in Puzzle\": 18, \"Words of length 4\": 18, \"Words of length 5\": 18, \"Words of length 6\": 18, \"Words of length 7\": 18, \"Words of length 8\": 18, \"Words of length 9\": 18, \"Words of length 10\": 18, \"Words of length 11\": 18, \"Words of length 12\": 18, \"Words of length 13\": 18, \"Words of length 14\": 18}, {\"Words\": 275, \"Letter\": 20, \"Letters in Puzzle\": 20, \"Words of length 4\": 20, \"Words of length 5\": 20, \"Words of length 6\": 20, \"Words of length 7\": 20, \"Words of length 8\": 20, \"Words of length 9\": 20, \"Words of length 10\": 20, \"Words of length 11\": 20, \"Words of length 12\": 20, \"Words of length 13\": 20, \"Words of length 14\": 20}, {\"Words\": 276, \"Letter\": 20, \"Letters in Puzzle\": 20, \"Words of length 4\": 20, \"Words of length 5\": 20, \"Words of length 6\": 20, \"Words of length 7\": 20, \"Words of length 8\": 20, \"Words of length 9\": 20, \"Words of length 10\": 20, \"Words of length 11\": 20, \"Words of length 12\": 20, \"Words of length 13\": 20, \"Words of length 14\": 20}, {\"Words\": 277, \"Letter\": 31, \"Letters in Puzzle\": 31, \"Words of length 4\": 31, \"Words of length 5\": 31, \"Words of length 6\": 31, \"Words of length 7\": 31, \"Words of length 8\": 31, \"Words of length 9\": 31, \"Words of length 10\": 31, \"Words of length 11\": 31, \"Words of length 12\": 31, \"Words of length 13\": 31, \"Words of length 14\": 31}, {\"Words\": 278, \"Letter\": 21, \"Letters in Puzzle\": 21, \"Words of length 4\": 21, \"Words of length 5\": 21, \"Words of length 6\": 21, \"Words of length 7\": 21, \"Words of length 8\": 21, \"Words of length 9\": 21, \"Words of length 10\": 21, \"Words of length 11\": 21, \"Words of length 12\": 21, \"Words of length 13\": 21, \"Words of length 14\": 21}, {\"Words\": 279, \"Letter\": 17, \"Letters in Puzzle\": 17, \"Words of length 4\": 17, \"Words of length 5\": 17, \"Words of length 6\": 17, \"Words of length 7\": 17, \"Words of length 8\": 17, \"Words of length 9\": 17, \"Words of length 10\": 17, \"Words of length 11\": 17, \"Words of length 12\": 17, \"Words of length 13\": 17, \"Words of length 14\": 17}, {\"Words\": 280, \"Letter\": 20, \"Letters in Puzzle\": 20, \"Words of length 4\": 20, \"Words of length 5\": 20, \"Words of length 6\": 20, \"Words of length 7\": 20, \"Words of length 8\": 20, \"Words of length 9\": 20, \"Words of length 10\": 20, \"Words of length 11\": 20, \"Words of length 12\": 20, \"Words of length 13\": 20, \"Words of length 14\": 20}, {\"Words\": 281, \"Letter\": 21, \"Letters in Puzzle\": 21, \"Words of length 4\": 21, \"Words of length 5\": 21, \"Words of length 6\": 21, \"Words of length 7\": 21, \"Words of length 8\": 21, \"Words of length 9\": 21, \"Words of length 10\": 21, \"Words of length 11\": 21, \"Words of length 12\": 21, \"Words of length 13\": 21, \"Words of length 14\": 21}, {\"Words\": 282, \"Letter\": 21, \"Letters in Puzzle\": 21, \"Words of length 4\": 21, \"Words of length 5\": 21, \"Words of length 6\": 21, \"Words of length 7\": 21, \"Words of length 8\": 21, \"Words of length 9\": 21, \"Words of length 10\": 21, \"Words of length 11\": 21, \"Words of length 12\": 21, \"Words of length 13\": 21, \"Words of length 14\": 21}, {\"Words\": 283, \"Letter\": 25, \"Letters in Puzzle\": 25, \"Words of length 4\": 25, \"Words of length 5\": 25, \"Words of length 6\": 25, \"Words of length 7\": 25, \"Words of length 8\": 25, \"Words of length 9\": 25, \"Words of length 10\": 25, \"Words of length 11\": 25, \"Words of length 12\": 25, \"Words of length 13\": 25, \"Words of length 14\": 25}, {\"Words\": 284, \"Letter\": 24, \"Letters in Puzzle\": 24, \"Words of length 4\": 24, \"Words of length 5\": 24, \"Words of length 6\": 24, \"Words of length 7\": 24, \"Words of length 8\": 24, \"Words of length 9\": 24, \"Words of length 10\": 24, \"Words of length 11\": 24, \"Words of length 12\": 24, \"Words of length 13\": 24, \"Words of length 14\": 24}, {\"Words\": 285, \"Letter\": 20, \"Letters in Puzzle\": 20, \"Words of length 4\": 20, \"Words of length 5\": 20, \"Words of length 6\": 20, \"Words of length 7\": 20, \"Words of length 8\": 20, \"Words of length 9\": 20, \"Words of length 10\": 20, \"Words of length 11\": 20, \"Words of length 12\": 20, \"Words of length 13\": 20, \"Words of length 14\": 20}, {\"Words\": 286, \"Letter\": 23, \"Letters in Puzzle\": 23, \"Words of length 4\": 23, \"Words of length 5\": 23, \"Words of length 6\": 23, \"Words of length 7\": 23, \"Words of length 8\": 23, \"Words of length 9\": 23, \"Words of length 10\": 23, \"Words of length 11\": 23, \"Words of length 12\": 23, \"Words of length 13\": 23, \"Words of length 14\": 23}, {\"Words\": 287, \"Letter\": 20, \"Letters in Puzzle\": 20, \"Words of length 4\": 20, \"Words of length 5\": 20, \"Words of length 6\": 20, \"Words of length 7\": 20, \"Words of length 8\": 20, \"Words of length 9\": 20, \"Words of length 10\": 20, \"Words of length 11\": 20, \"Words of length 12\": 20, \"Words of length 13\": 20, \"Words of length 14\": 20}, {\"Words\": 288, \"Letter\": 17, \"Letters in Puzzle\": 17, \"Words of length 4\": 17, \"Words of length 5\": 17, \"Words of length 6\": 17, \"Words of length 7\": 17, \"Words of length 8\": 17, \"Words of length 9\": 17, \"Words of length 10\": 17, \"Words of length 11\": 17, \"Words of length 12\": 17, \"Words of length 13\": 17, \"Words of length 14\": 17}, {\"Words\": 289, \"Letter\": 20, \"Letters in Puzzle\": 20, \"Words of length 4\": 20, \"Words of length 5\": 20, \"Words of length 6\": 20, \"Words of length 7\": 20, \"Words of length 8\": 20, \"Words of length 9\": 20, \"Words of length 10\": 20, \"Words of length 11\": 20, \"Words of length 12\": 20, \"Words of length 13\": 20, \"Words of length 14\": 20}, {\"Words\": 290, \"Letter\": 13, \"Letters in Puzzle\": 13, \"Words of length 4\": 13, \"Words of length 5\": 13, \"Words of length 6\": 13, \"Words of length 7\": 13, \"Words of length 8\": 13, \"Words of length 9\": 13, \"Words of length 10\": 13, \"Words of length 11\": 13, \"Words of length 12\": 13, \"Words of length 13\": 13, \"Words of length 14\": 13}, {\"Words\": 291, \"Letter\": 26, \"Letters in Puzzle\": 26, \"Words of length 4\": 26, \"Words of length 5\": 26, \"Words of length 6\": 26, \"Words of length 7\": 26, \"Words of length 8\": 26, \"Words of length 9\": 26, \"Words of length 10\": 26, \"Words of length 11\": 26, \"Words of length 12\": 26, \"Words of length 13\": 26, \"Words of length 14\": 26}, {\"Words\": 292, \"Letter\": 14, \"Letters in Puzzle\": 14, \"Words of length 4\": 14, \"Words of length 5\": 14, \"Words of length 6\": 14, \"Words of length 7\": 14, \"Words of length 8\": 14, \"Words of length 9\": 14, \"Words of length 10\": 14, \"Words of length 11\": 14, \"Words of length 12\": 14, \"Words of length 13\": 14, \"Words of length 14\": 14}, {\"Words\": 293, \"Letter\": 16, \"Letters in Puzzle\": 16, \"Words of length 4\": 16, \"Words of length 5\": 16, \"Words of length 6\": 16, \"Words of length 7\": 16, \"Words of length 8\": 16, \"Words of length 9\": 16, \"Words of length 10\": 16, \"Words of length 11\": 16, \"Words of length 12\": 16, \"Words of length 13\": 16, \"Words of length 14\": 16}, {\"Words\": 294, \"Letter\": 13, \"Letters in Puzzle\": 13, \"Words of length 4\": 13, \"Words of length 5\": 13, \"Words of length 6\": 13, \"Words of length 7\": 13, \"Words of length 8\": 13, \"Words of length 9\": 13, \"Words of length 10\": 13, \"Words of length 11\": 13, \"Words of length 12\": 13, \"Words of length 13\": 13, \"Words of length 14\": 13}, {\"Words\": 295, \"Letter\": 19, \"Letters in Puzzle\": 19, \"Words of length 4\": 19, \"Words of length 5\": 19, \"Words of length 6\": 19, \"Words of length 7\": 19, \"Words of length 8\": 19, \"Words of length 9\": 19, \"Words of length 10\": 19, \"Words of length 11\": 19, \"Words of length 12\": 19, \"Words of length 13\": 19, \"Words of length 14\": 19}, {\"Words\": 296, \"Letter\": 16, \"Letters in Puzzle\": 16, \"Words of length 4\": 16, \"Words of length 5\": 16, \"Words of length 6\": 16, \"Words of length 7\": 16, \"Words of length 8\": 16, \"Words of length 9\": 16, \"Words of length 10\": 16, \"Words of length 11\": 16, \"Words of length 12\": 16, \"Words of length 13\": 16, \"Words of length 14\": 16}, {\"Words\": 297, \"Letter\": 15, \"Letters in Puzzle\": 15, \"Words of length 4\": 15, \"Words of length 5\": 15, \"Words of length 6\": 15, \"Words of length 7\": 15, \"Words of length 8\": 15, \"Words of length 9\": 15, \"Words of length 10\": 15, \"Words of length 11\": 15, \"Words of length 12\": 15, \"Words of length 13\": 15, \"Words of length 14\": 15}, {\"Words\": 298, \"Letter\": 11, \"Letters in Puzzle\": 11, \"Words of length 4\": 11, \"Words of length 5\": 11, \"Words of length 6\": 11, \"Words of length 7\": 11, \"Words of length 8\": 11, \"Words of length 9\": 11, \"Words of length 10\": 11, \"Words of length 11\": 11, \"Words of length 12\": 11, \"Words of length 13\": 11, \"Words of length 14\": 11}, {\"Words\": 299, \"Letter\": 20, \"Letters in Puzzle\": 20, \"Words of length 4\": 20, \"Words of length 5\": 20, \"Words of length 6\": 20, \"Words of length 7\": 20, \"Words of length 8\": 20, \"Words of length 9\": 20, \"Words of length 10\": 20, \"Words of length 11\": 20, \"Words of length 12\": 20, \"Words of length 13\": 20, \"Words of length 14\": 20}, {\"Words\": 300, \"Letter\": 13, \"Letters in Puzzle\": 13, \"Words of length 4\": 13, \"Words of length 5\": 13, \"Words of length 6\": 13, \"Words of length 7\": 13, \"Words of length 8\": 13, \"Words of length 9\": 13, \"Words of length 10\": 13, \"Words of length 11\": 13, \"Words of length 12\": 13, \"Words of length 13\": 13, \"Words of length 14\": 13}, {\"Words\": 301, \"Letter\": 20, \"Letters in Puzzle\": 20, \"Words of length 4\": 20, \"Words of length 5\": 20, \"Words of length 6\": 20, \"Words of length 7\": 20, \"Words of length 8\": 20, \"Words of length 9\": 20, \"Words of length 10\": 20, \"Words of length 11\": 20, \"Words of length 12\": 20, \"Words of length 13\": 20, \"Words of length 14\": 20}, {\"Words\": 302, \"Letter\": 11, \"Letters in Puzzle\": 11, \"Words of length 4\": 11, \"Words of length 5\": 11, \"Words of length 6\": 11, \"Words of length 7\": 11, \"Words of length 8\": 11, \"Words of length 9\": 11, \"Words of length 10\": 11, \"Words of length 11\": 11, \"Words of length 12\": 11, \"Words of length 13\": 11, \"Words of length 14\": 11}, {\"Words\": 303, \"Letter\": 14, \"Letters in Puzzle\": 14, \"Words of length 4\": 14, \"Words of length 5\": 14, \"Words of length 6\": 14, \"Words of length 7\": 14, \"Words of length 8\": 14, \"Words of length 9\": 14, \"Words of length 10\": 14, \"Words of length 11\": 14, \"Words of length 12\": 14, \"Words of length 13\": 14, \"Words of length 14\": 14}, {\"Words\": 304, \"Letter\": 18, \"Letters in Puzzle\": 18, \"Words of length 4\": 18, \"Words of length 5\": 18, \"Words of length 6\": 18, \"Words of length 7\": 18, \"Words of length 8\": 18, \"Words of length 9\": 18, \"Words of length 10\": 18, \"Words of length 11\": 18, \"Words of length 12\": 18, \"Words of length 13\": 18, \"Words of length 14\": 18}, {\"Words\": 305, \"Letter\": 23, \"Letters in Puzzle\": 23, \"Words of length 4\": 23, \"Words of length 5\": 23, \"Words of length 6\": 23, \"Words of length 7\": 23, \"Words of length 8\": 23, \"Words of length 9\": 23, \"Words of length 10\": 23, \"Words of length 11\": 23, \"Words of length 12\": 23, \"Words of length 13\": 23, \"Words of length 14\": 23}, {\"Words\": 306, \"Letter\": 9, \"Letters in Puzzle\": 9, \"Words of length 4\": 9, \"Words of length 5\": 9, \"Words of length 6\": 9, \"Words of length 7\": 9, \"Words of length 8\": 9, \"Words of length 9\": 9, \"Words of length 10\": 9, \"Words of length 11\": 9, \"Words of length 12\": 9, \"Words of length 13\": 9, \"Words of length 14\": 9}, {\"Words\": 307, \"Letter\": 23, \"Letters in Puzzle\": 23, \"Words of length 4\": 23, \"Words of length 5\": 23, \"Words of length 6\": 23, \"Words of length 7\": 23, \"Words of length 8\": 23, \"Words of length 9\": 23, \"Words of length 10\": 23, \"Words of length 11\": 23, \"Words of length 12\": 23, \"Words of length 13\": 23, \"Words of length 14\": 23}, {\"Words\": 308, \"Letter\": 10, \"Letters in Puzzle\": 10, \"Words of length 4\": 10, \"Words of length 5\": 10, \"Words of length 6\": 10, \"Words of length 7\": 10, \"Words of length 8\": 10, \"Words of length 9\": 10, \"Words of length 10\": 10, \"Words of length 11\": 10, \"Words of length 12\": 10, \"Words of length 13\": 10, \"Words of length 14\": 10}, {\"Words\": 309, \"Letter\": 9, \"Letters in Puzzle\": 9, \"Words of length 4\": 9, \"Words of length 5\": 9, \"Words of length 6\": 9, \"Words of length 7\": 9, \"Words of length 8\": 9, \"Words of length 9\": 9, \"Words of length 10\": 9, \"Words of length 11\": 9, \"Words of length 12\": 9, \"Words of length 13\": 9, \"Words of length 14\": 9}, {\"Words\": 310, \"Letter\": 8, \"Letters in Puzzle\": 8, \"Words of length 4\": 8, \"Words of length 5\": 8, \"Words of length 6\": 8, \"Words of length 7\": 8, \"Words of length 8\": 8, \"Words of length 9\": 8, \"Words of length 10\": 8, \"Words of length 11\": 8, \"Words of length 12\": 8, \"Words of length 13\": 8, \"Words of length 14\": 8}, {\"Words\": 311, \"Letter\": 14, \"Letters in Puzzle\": 14, \"Words of length 4\": 14, \"Words of length 5\": 14, \"Words of length 6\": 14, \"Words of length 7\": 14, \"Words of length 8\": 14, \"Words of length 9\": 14, \"Words of length 10\": 14, \"Words of length 11\": 14, \"Words of length 12\": 14, \"Words of length 13\": 14, \"Words of length 14\": 14}, {\"Words\": 312, \"Letter\": 18, \"Letters in Puzzle\": 18, \"Words of length 4\": 18, \"Words of length 5\": 18, \"Words of length 6\": 18, \"Words of length 7\": 18, \"Words of length 8\": 18, \"Words of length 9\": 18, \"Words of length 10\": 18, \"Words of length 11\": 18, \"Words of length 12\": 18, \"Words of length 13\": 18, \"Words of length 14\": 18}, {\"Words\": 313, \"Letter\": 13, \"Letters in Puzzle\": 13, \"Words of length 4\": 13, \"Words of length 5\": 13, \"Words of length 6\": 13, \"Words of length 7\": 13, \"Words of length 8\": 13, \"Words of length 9\": 13, \"Words of length 10\": 13, \"Words of length 11\": 13, \"Words of length 12\": 13, \"Words of length 13\": 13, \"Words of length 14\": 13}, {\"Words\": 314, \"Letter\": 8, \"Letters in Puzzle\": 8, \"Words of length 4\": 8, \"Words of length 5\": 8, \"Words of length 6\": 8, \"Words of length 7\": 8, \"Words of length 8\": 8, \"Words of length 9\": 8, \"Words of length 10\": 8, \"Words of length 11\": 8, \"Words of length 12\": 8, \"Words of length 13\": 8, \"Words of length 14\": 8}, {\"Words\": 315, \"Letter\": 8, \"Letters in Puzzle\": 8, \"Words of length 4\": 8, \"Words of length 5\": 8, \"Words of length 6\": 8, \"Words of length 7\": 8, \"Words of length 8\": 8, \"Words of length 9\": 8, \"Words of length 10\": 8, \"Words of length 11\": 8, \"Words of length 12\": 8, \"Words of length 13\": 8, \"Words of length 14\": 8}, {\"Words\": 316, \"Letter\": 21, \"Letters in Puzzle\": 21, \"Words of length 4\": 21, \"Words of length 5\": 21, \"Words of length 6\": 21, \"Words of length 7\": 21, \"Words of length 8\": 21, \"Words of length 9\": 21, \"Words of length 10\": 21, \"Words of length 11\": 21, \"Words of length 12\": 21, \"Words of length 13\": 21, \"Words of length 14\": 21}, {\"Words\": 317, \"Letter\": 16, \"Letters in Puzzle\": 16, \"Words of length 4\": 16, \"Words of length 5\": 16, \"Words of length 6\": 16, \"Words of length 7\": 16, \"Words of length 8\": 16, \"Words of length 9\": 16, \"Words of length 10\": 16, \"Words of length 11\": 16, \"Words of length 12\": 16, \"Words of length 13\": 16, \"Words of length 14\": 16}, {\"Words\": 318, \"Letter\": 12, \"Letters in Puzzle\": 12, \"Words of length 4\": 12, \"Words of length 5\": 12, \"Words of length 6\": 12, \"Words of length 7\": 12, \"Words of length 8\": 12, \"Words of length 9\": 12, \"Words of length 10\": 12, \"Words of length 11\": 12, \"Words of length 12\": 12, \"Words of length 13\": 12, \"Words of length 14\": 12}, {\"Words\": 319, \"Letter\": 16, \"Letters in Puzzle\": 16, \"Words of length 4\": 16, \"Words of length 5\": 16, \"Words of length 6\": 16, \"Words of length 7\": 16, \"Words of length 8\": 16, \"Words of length 9\": 16, \"Words of length 10\": 16, \"Words of length 11\": 16, \"Words of length 12\": 16, \"Words of length 13\": 16, \"Words of length 14\": 16}, {\"Words\": 320, \"Letter\": 10, \"Letters in Puzzle\": 10, \"Words of length 4\": 10, \"Words of length 5\": 10, \"Words of length 6\": 10, \"Words of length 7\": 10, \"Words of length 8\": 10, \"Words of length 9\": 10, \"Words of length 10\": 10, \"Words of length 11\": 10, \"Words of length 12\": 10, \"Words of length 13\": 10, \"Words of length 14\": 10}, {\"Words\": 321, \"Letter\": 13, \"Letters in Puzzle\": 13, \"Words of length 4\": 13, \"Words of length 5\": 13, \"Words of length 6\": 13, \"Words of length 7\": 13, \"Words of length 8\": 13, \"Words of length 9\": 13, \"Words of length 10\": 13, \"Words of length 11\": 13, \"Words of length 12\": 13, \"Words of length 13\": 13, \"Words of length 14\": 13}, {\"Words\": 322, \"Letter\": 13, \"Letters in Puzzle\": 13, \"Words of length 4\": 13, \"Words of length 5\": 13, \"Words of length 6\": 13, \"Words of length 7\": 13, \"Words of length 8\": 13, \"Words of length 9\": 13, \"Words of length 10\": 13, \"Words of length 11\": 13, \"Words of length 12\": 13, \"Words of length 13\": 13, \"Words of length 14\": 13}, {\"Words\": 323, \"Letter\": 10, \"Letters in Puzzle\": 10, \"Words of length 4\": 10, \"Words of length 5\": 10, \"Words of length 6\": 10, \"Words of length 7\": 10, \"Words of length 8\": 10, \"Words of length 9\": 10, \"Words of length 10\": 10, \"Words of length 11\": 10, \"Words of length 12\": 10, \"Words of length 13\": 10, \"Words of length 14\": 10}, {\"Words\": 324, \"Letter\": 14, \"Letters in Puzzle\": 14, \"Words of length 4\": 14, \"Words of length 5\": 14, \"Words of length 6\": 14, \"Words of length 7\": 14, \"Words of length 8\": 14, \"Words of length 9\": 14, \"Words of length 10\": 14, \"Words of length 11\": 14, \"Words of length 12\": 14, \"Words of length 13\": 14, \"Words of length 14\": 14}, {\"Words\": 325, \"Letter\": 8, \"Letters in Puzzle\": 8, \"Words of length 4\": 8, \"Words of length 5\": 8, \"Words of length 6\": 8, \"Words of length 7\": 8, \"Words of length 8\": 8, \"Words of length 9\": 8, \"Words of length 10\": 8, \"Words of length 11\": 8, \"Words of length 12\": 8, \"Words of length 13\": 8, \"Words of length 14\": 8}, {\"Words\": 326, \"Letter\": 7, \"Letters in Puzzle\": 7, \"Words of length 4\": 7, \"Words of length 5\": 7, \"Words of length 6\": 7, \"Words of length 7\": 7, \"Words of length 8\": 7, \"Words of length 9\": 7, \"Words of length 10\": 7, \"Words of length 11\": 7, \"Words of length 12\": 7, \"Words of length 13\": 7, \"Words of length 14\": 7}, {\"Words\": 327, \"Letter\": 12, \"Letters in Puzzle\": 12, \"Words of length 4\": 12, \"Words of length 5\": 12, \"Words of length 6\": 12, \"Words of length 7\": 12, \"Words of length 8\": 12, \"Words of length 9\": 12, \"Words of length 10\": 12, \"Words of length 11\": 12, \"Words of length 12\": 12, \"Words of length 13\": 12, \"Words of length 14\": 12}, {\"Words\": 328, \"Letter\": 6, \"Letters in Puzzle\": 6, \"Words of length 4\": 6, \"Words of length 5\": 6, \"Words of length 6\": 6, \"Words of length 7\": 6, \"Words of length 8\": 6, \"Words of length 9\": 6, \"Words of length 10\": 6, \"Words of length 11\": 6, \"Words of length 12\": 6, \"Words of length 13\": 6, \"Words of length 14\": 6}, {\"Words\": 329, \"Letter\": 12, \"Letters in Puzzle\": 12, \"Words of length 4\": 12, \"Words of length 5\": 12, \"Words of length 6\": 12, \"Words of length 7\": 12, \"Words of length 8\": 12, \"Words of length 9\": 12, \"Words of length 10\": 12, \"Words of length 11\": 12, \"Words of length 12\": 12, \"Words of length 13\": 12, \"Words of length 14\": 12}, {\"Words\": 330, \"Letter\": 8, \"Letters in Puzzle\": 8, \"Words of length 4\": 8, \"Words of length 5\": 8, \"Words of length 6\": 8, \"Words of length 7\": 8, \"Words of length 8\": 8, \"Words of length 9\": 8, \"Words of length 10\": 8, \"Words of length 11\": 8, \"Words of length 12\": 8, \"Words of length 13\": 8, \"Words of length 14\": 8}, {\"Words\": 331, \"Letter\": 14, \"Letters in Puzzle\": 14, \"Words of length 4\": 14, \"Words of length 5\": 14, \"Words of length 6\": 14, \"Words of length 7\": 14, \"Words of length 8\": 14, \"Words of length 9\": 14, \"Words of length 10\": 14, \"Words of length 11\": 14, \"Words of length 12\": 14, \"Words of length 13\": 14, \"Words of length 14\": 14}, {\"Words\": 332, \"Letter\": 4, \"Letters in Puzzle\": 4, \"Words of length 4\": 4, \"Words of length 5\": 4, \"Words of length 6\": 4, \"Words of length 7\": 4, \"Words of length 8\": 4, \"Words of length 9\": 4, \"Words of length 10\": 4, \"Words of length 11\": 4, \"Words of length 12\": 4, \"Words of length 13\": 4, \"Words of length 14\": 4}, {\"Words\": 333, \"Letter\": 7, \"Letters in Puzzle\": 7, \"Words of length 4\": 7, \"Words of length 5\": 7, \"Words of length 6\": 7, \"Words of length 7\": 7, \"Words of length 8\": 7, \"Words of length 9\": 7, \"Words of length 10\": 7, \"Words of length 11\": 7, \"Words of length 12\": 7, \"Words of length 13\": 7, \"Words of length 14\": 7}, {\"Words\": 334, \"Letter\": 14, \"Letters in Puzzle\": 14, \"Words of length 4\": 14, \"Words of length 5\": 14, \"Words of length 6\": 14, \"Words of length 7\": 14, \"Words of length 8\": 14, \"Words of length 9\": 14, \"Words of length 10\": 14, \"Words of length 11\": 14, \"Words of length 12\": 14, \"Words of length 13\": 14, \"Words of length 14\": 14}, {\"Words\": 335, \"Letter\": 7, \"Letters in Puzzle\": 7, \"Words of length 4\": 7, \"Words of length 5\": 7, \"Words of length 6\": 7, \"Words of length 7\": 7, \"Words of length 8\": 7, \"Words of length 9\": 7, \"Words of length 10\": 7, \"Words of length 11\": 7, \"Words of length 12\": 7, \"Words of length 13\": 7, \"Words of length 14\": 7}, {\"Words\": 336, \"Letter\": 4, \"Letters in Puzzle\": 4, \"Words of length 4\": 4, \"Words of length 5\": 4, \"Words of length 6\": 4, \"Words of length 7\": 4, \"Words of length 8\": 4, \"Words of length 9\": 4, \"Words of length 10\": 4, \"Words of length 11\": 4, \"Words of length 12\": 4, \"Words of length 13\": 4, \"Words of length 14\": 4}, {\"Words\": 337, \"Letter\": 11, \"Letters in Puzzle\": 11, \"Words of length 4\": 11, \"Words of length 5\": 11, \"Words of length 6\": 11, \"Words of length 7\": 11, \"Words of length 8\": 11, \"Words of length 9\": 11, \"Words of length 10\": 11, \"Words of length 11\": 11, \"Words of length 12\": 11, \"Words of length 13\": 11, \"Words of length 14\": 11}, {\"Words\": 338, \"Letter\": 5, \"Letters in Puzzle\": 5, \"Words of length 4\": 5, \"Words of length 5\": 5, \"Words of length 6\": 5, \"Words of length 7\": 5, \"Words of length 8\": 5, \"Words of length 9\": 5, \"Words of length 10\": 5, \"Words of length 11\": 5, \"Words of length 12\": 5, \"Words of length 13\": 5, \"Words of length 14\": 5}, {\"Words\": 339, \"Letter\": 4, \"Letters in Puzzle\": 4, \"Words of length 4\": 4, \"Words of length 5\": 4, \"Words of length 6\": 4, \"Words of length 7\": 4, \"Words of length 8\": 4, \"Words of length 9\": 4, \"Words of length 10\": 4, \"Words of length 11\": 4, \"Words of length 12\": 4, \"Words of length 13\": 4, \"Words of length 14\": 4}, {\"Words\": 340, \"Letter\": 6, \"Letters in Puzzle\": 6, \"Words of length 4\": 6, \"Words of length 5\": 6, \"Words of length 6\": 6, \"Words of length 7\": 6, \"Words of length 8\": 6, \"Words of length 9\": 6, \"Words of length 10\": 6, \"Words of length 11\": 6, \"Words of length 12\": 6, \"Words of length 13\": 6, \"Words of length 14\": 6}, {\"Words\": 341, \"Letter\": 9, \"Letters in Puzzle\": 9, \"Words of length 4\": 9, \"Words of length 5\": 9, \"Words of length 6\": 9, \"Words of length 7\": 9, \"Words of length 8\": 9, \"Words of length 9\": 9, \"Words of length 10\": 9, \"Words of length 11\": 9, \"Words of length 12\": 9, \"Words of length 13\": 9, \"Words of length 14\": 9}, {\"Words\": 342, \"Letter\": 9, \"Letters in Puzzle\": 9, \"Words of length 4\": 9, \"Words of length 5\": 9, \"Words of length 6\": 9, \"Words of length 7\": 9, \"Words of length 8\": 9, \"Words of length 9\": 9, \"Words of length 10\": 9, \"Words of length 11\": 9, \"Words of length 12\": 9, \"Words of length 13\": 9, \"Words of length 14\": 9}, {\"Words\": 343, \"Letter\": 10, \"Letters in Puzzle\": 10, \"Words of length 4\": 10, \"Words of length 5\": 10, \"Words of length 6\": 10, \"Words of length 7\": 10, \"Words of length 8\": 10, \"Words of length 9\": 10, \"Words of length 10\": 10, \"Words of length 11\": 10, \"Words of length 12\": 10, \"Words of length 13\": 10, \"Words of length 14\": 10}, {\"Words\": 344, \"Letter\": 3, \"Letters in Puzzle\": 3, \"Words of length 4\": 3, \"Words of length 5\": 3, \"Words of length 6\": 3, \"Words of length 7\": 3, \"Words of length 8\": 3, \"Words of length 9\": 3, \"Words of length 10\": 3, \"Words of length 11\": 3, \"Words of length 12\": 3, \"Words of length 13\": 3, \"Words of length 14\": 3}, {\"Words\": 345, \"Letter\": 10, \"Letters in Puzzle\": 10, \"Words of length 4\": 10, \"Words of length 5\": 10, \"Words of length 6\": 10, \"Words of length 7\": 10, \"Words of length 8\": 10, \"Words of length 9\": 10, \"Words of length 10\": 10, \"Words of length 11\": 10, \"Words of length 12\": 10, \"Words of length 13\": 10, \"Words of length 14\": 10}, {\"Words\": 346, \"Letter\": 8, \"Letters in Puzzle\": 8, \"Words of length 4\": 8, \"Words of length 5\": 8, \"Words of length 6\": 8, \"Words of length 7\": 8, \"Words of length 8\": 8, \"Words of length 9\": 8, \"Words of length 10\": 8, \"Words of length 11\": 8, \"Words of length 12\": 8, \"Words of length 13\": 8, \"Words of length 14\": 8}, {\"Words\": 347, \"Letter\": 8, \"Letters in Puzzle\": 8, \"Words of length 4\": 8, \"Words of length 5\": 8, \"Words of length 6\": 8, \"Words of length 7\": 8, \"Words of length 8\": 8, \"Words of length 9\": 8, \"Words of length 10\": 8, \"Words of length 11\": 8, \"Words of length 12\": 8, \"Words of length 13\": 8, \"Words of length 14\": 8}, {\"Words\": 348, \"Letter\": 3, \"Letters in Puzzle\": 3, \"Words of length 4\": 3, \"Words of length 5\": 3, \"Words of length 6\": 3, \"Words of length 7\": 3, \"Words of length 8\": 3, \"Words of length 9\": 3, \"Words of length 10\": 3, \"Words of length 11\": 3, \"Words of length 12\": 3, \"Words of length 13\": 3, \"Words of length 14\": 3}, {\"Words\": 349, \"Letter\": 7, \"Letters in Puzzle\": 7, \"Words of length 4\": 7, \"Words of length 5\": 7, \"Words of length 6\": 7, \"Words of length 7\": 7, \"Words of length 8\": 7, \"Words of length 9\": 7, \"Words of length 10\": 7, \"Words of length 11\": 7, \"Words of length 12\": 7, \"Words of length 13\": 7, \"Words of length 14\": 7}, {\"Words\": 350, \"Letter\": 4, \"Letters in Puzzle\": 4, \"Words of length 4\": 4, \"Words of length 5\": 4, \"Words of length 6\": 4, \"Words of length 7\": 4, \"Words of length 8\": 4, \"Words of length 9\": 4, \"Words of length 10\": 4, \"Words of length 11\": 4, \"Words of length 12\": 4, \"Words of length 13\": 4, \"Words of length 14\": 4}, {\"Words\": 351, \"Letter\": 8, \"Letters in Puzzle\": 8, \"Words of length 4\": 8, \"Words of length 5\": 8, \"Words of length 6\": 8, \"Words of length 7\": 8, \"Words of length 8\": 8, \"Words of length 9\": 8, \"Words of length 10\": 8, \"Words of length 11\": 8, \"Words of length 12\": 8, \"Words of length 13\": 8, \"Words of length 14\": 8}, {\"Words\": 352, \"Letter\": 8, \"Letters in Puzzle\": 8, \"Words of length 4\": 8, \"Words of length 5\": 8, \"Words of length 6\": 8, \"Words of length 7\": 8, \"Words of length 8\": 8, \"Words of length 9\": 8, \"Words of length 10\": 8, \"Words of length 11\": 8, \"Words of length 12\": 8, \"Words of length 13\": 8, \"Words of length 14\": 8}, {\"Words\": 353, \"Letter\": 4, \"Letters in Puzzle\": 4, \"Words of length 4\": 4, \"Words of length 5\": 4, \"Words of length 6\": 4, \"Words of length 7\": 4, \"Words of length 8\": 4, \"Words of length 9\": 4, \"Words of length 10\": 4, \"Words of length 11\": 4, \"Words of length 12\": 4, \"Words of length 13\": 4, \"Words of length 14\": 4}, {\"Words\": 354, \"Letter\": 3, \"Letters in Puzzle\": 3, \"Words of length 4\": 3, \"Words of length 5\": 3, \"Words of length 6\": 3, \"Words of length 7\": 3, \"Words of length 8\": 3, \"Words of length 9\": 3, \"Words of length 10\": 3, \"Words of length 11\": 3, \"Words of length 12\": 3, \"Words of length 13\": 3, \"Words of length 14\": 3}, {\"Words\": 355, \"Letter\": 5, \"Letters in Puzzle\": 5, \"Words of length 4\": 5, \"Words of length 5\": 5, \"Words of length 6\": 5, \"Words of length 7\": 5, \"Words of length 8\": 5, \"Words of length 9\": 5, \"Words of length 10\": 5, \"Words of length 11\": 5, \"Words of length 12\": 5, \"Words of length 13\": 5, \"Words of length 14\": 5}, {\"Words\": 356, \"Letter\": 7, \"Letters in Puzzle\": 7, \"Words of length 4\": 7, \"Words of length 5\": 7, \"Words of length 6\": 7, \"Words of length 7\": 7, \"Words of length 8\": 7, \"Words of length 9\": 7, \"Words of length 10\": 7, \"Words of length 11\": 7, \"Words of length 12\": 7, \"Words of length 13\": 7, \"Words of length 14\": 7}, {\"Words\": 357, \"Letter\": 6, \"Letters in Puzzle\": 6, \"Words of length 4\": 6, \"Words of length 5\": 6, \"Words of length 6\": 6, \"Words of length 7\": 6, \"Words of length 8\": 6, \"Words of length 9\": 6, \"Words of length 10\": 6, \"Words of length 11\": 6, \"Words of length 12\": 6, \"Words of length 13\": 6, \"Words of length 14\": 6}, {\"Words\": 358, \"Letter\": 6, \"Letters in Puzzle\": 6, \"Words of length 4\": 6, \"Words of length 5\": 6, \"Words of length 6\": 6, \"Words of length 7\": 6, \"Words of length 8\": 6, \"Words of length 9\": 6, \"Words of length 10\": 6, \"Words of length 11\": 6, \"Words of length 12\": 6, \"Words of length 13\": 6, \"Words of length 14\": 6}, {\"Words\": 359, \"Letter\": 3, \"Letters in Puzzle\": 3, \"Words of length 4\": 3, \"Words of length 5\": 3, \"Words of length 6\": 3, \"Words of length 7\": 3, \"Words of length 8\": 3, \"Words of length 9\": 3, \"Words of length 10\": 3, \"Words of length 11\": 3, \"Words of length 12\": 3, \"Words of length 13\": 3, \"Words of length 14\": 3}, {\"Words\": 360, \"Letter\": 5, \"Letters in Puzzle\": 5, \"Words of length 4\": 5, \"Words of length 5\": 5, \"Words of length 6\": 5, \"Words of length 7\": 5, \"Words of length 8\": 5, \"Words of length 9\": 5, \"Words of length 10\": 5, \"Words of length 11\": 5, \"Words of length 12\": 5, \"Words of length 13\": 5, \"Words of length 14\": 5}, {\"Words\": 361, \"Letter\": 4, \"Letters in Puzzle\": 4, \"Words of length 4\": 4, \"Words of length 5\": 4, \"Words of length 6\": 4, \"Words of length 7\": 4, \"Words of length 8\": 4, \"Words of length 9\": 4, \"Words of length 10\": 4, \"Words of length 11\": 4, \"Words of length 12\": 4, \"Words of length 13\": 4, \"Words of length 14\": 4}, {\"Words\": 362, \"Letter\": 1, \"Letters in Puzzle\": 1, \"Words of length 4\": 1, \"Words of length 5\": 1, \"Words of length 6\": 1, \"Words of length 7\": 1, \"Words of length 8\": 1, \"Words of length 9\": 1, \"Words of length 10\": 1, \"Words of length 11\": 1, \"Words of length 12\": 1, \"Words of length 13\": 1, \"Words of length 14\": 1}, {\"Words\": 363, \"Letter\": 6, \"Letters in Puzzle\": 6, \"Words of length 4\": 6, \"Words of length 5\": 6, \"Words of length 6\": 6, \"Words of length 7\": 6, \"Words of length 8\": 6, \"Words of length 9\": 6, \"Words of length 10\": 6, \"Words of length 11\": 6, \"Words of length 12\": 6, \"Words of length 13\": 6, \"Words of length 14\": 6}, {\"Words\": 364, \"Letter\": 7, \"Letters in Puzzle\": 7, \"Words of length 4\": 7, \"Words of length 5\": 7, \"Words of length 6\": 7, \"Words of length 7\": 7, \"Words of length 8\": 7, \"Words of length 9\": 7, \"Words of length 10\": 7, \"Words of length 11\": 7, \"Words of length 12\": 7, \"Words of length 13\": 7, \"Words of length 14\": 7}, {\"Words\": 365, \"Letter\": 8, \"Letters in Puzzle\": 8, \"Words of length 4\": 8, \"Words of length 5\": 8, \"Words of length 6\": 8, \"Words of length 7\": 8, \"Words of length 8\": 8, \"Words of length 9\": 8, \"Words of length 10\": 8, \"Words of length 11\": 8, \"Words of length 12\": 8, \"Words of length 13\": 8, \"Words of length 14\": 8}, {\"Words\": 366, \"Letter\": 2, \"Letters in Puzzle\": 2, \"Words of length 4\": 2, \"Words of length 5\": 2, \"Words of length 6\": 2, \"Words of length 7\": 2, \"Words of length 8\": 2, \"Words of length 9\": 2, \"Words of length 10\": 2, \"Words of length 11\": 2, \"Words of length 12\": 2, \"Words of length 13\": 2, \"Words of length 14\": 2}, {\"Words\": 367, \"Letter\": 10, \"Letters in Puzzle\": 10, \"Words of length 4\": 10, \"Words of length 5\": 10, \"Words of length 6\": 10, \"Words of length 7\": 10, \"Words of length 8\": 10, \"Words of length 9\": 10, \"Words of length 10\": 10, \"Words of length 11\": 10, \"Words of length 12\": 10, \"Words of length 13\": 10, \"Words of length 14\": 10}, {\"Words\": 368, \"Letter\": 4, \"Letters in Puzzle\": 4, \"Words of length 4\": 4, \"Words of length 5\": 4, \"Words of length 6\": 4, \"Words of length 7\": 4, \"Words of length 8\": 4, \"Words of length 9\": 4, \"Words of length 10\": 4, \"Words of length 11\": 4, \"Words of length 12\": 4, \"Words of length 13\": 4, \"Words of length 14\": 4}, {\"Words\": 369, \"Letter\": 8, \"Letters in Puzzle\": 8, \"Words of length 4\": 8, \"Words of length 5\": 8, \"Words of length 6\": 8, \"Words of length 7\": 8, \"Words of length 8\": 8, \"Words of length 9\": 8, \"Words of length 10\": 8, \"Words of length 11\": 8, \"Words of length 12\": 8, \"Words of length 13\": 8, \"Words of length 14\": 8}, {\"Words\": 370, \"Letter\": 7, \"Letters in Puzzle\": 7, \"Words of length 4\": 7, \"Words of length 5\": 7, \"Words of length 6\": 7, \"Words of length 7\": 7, \"Words of length 8\": 7, \"Words of length 9\": 7, \"Words of length 10\": 7, \"Words of length 11\": 7, \"Words of length 12\": 7, \"Words of length 13\": 7, \"Words of length 14\": 7}, {\"Words\": 371, \"Letter\": 6, \"Letters in Puzzle\": 6, \"Words of length 4\": 6, \"Words of length 5\": 6, \"Words of length 6\": 6, \"Words of length 7\": 6, \"Words of length 8\": 6, \"Words of length 9\": 6, \"Words of length 10\": 6, \"Words of length 11\": 6, \"Words of length 12\": 6, \"Words of length 13\": 6, \"Words of length 14\": 6}, {\"Words\": 372, \"Letter\": 5, \"Letters in Puzzle\": 5, \"Words of length 4\": 5, \"Words of length 5\": 5, \"Words of length 6\": 5, \"Words of length 7\": 5, \"Words of length 8\": 5, \"Words of length 9\": 5, \"Words of length 10\": 5, \"Words of length 11\": 5, \"Words of length 12\": 5, \"Words of length 13\": 5, \"Words of length 14\": 5}, {\"Words\": 373, \"Letter\": 6, \"Letters in Puzzle\": 6, \"Words of length 4\": 6, \"Words of length 5\": 6, \"Words of length 6\": 6, \"Words of length 7\": 6, \"Words of length 8\": 6, \"Words of length 9\": 6, \"Words of length 10\": 6, \"Words of length 11\": 6, \"Words of length 12\": 6, \"Words of length 13\": 6, \"Words of length 14\": 6}, {\"Words\": 374, \"Letter\": 6, \"Letters in Puzzle\": 6, \"Words of length 4\": 6, \"Words of length 5\": 6, \"Words of length 6\": 6, \"Words of length 7\": 6, \"Words of length 8\": 6, \"Words of length 9\": 6, \"Words of length 10\": 6, \"Words of length 11\": 6, \"Words of length 12\": 6, \"Words of length 13\": 6, \"Words of length 14\": 6}, {\"Words\": 375, \"Letter\": 7, \"Letters in Puzzle\": 7, \"Words of length 4\": 7, \"Words of length 5\": 7, \"Words of length 6\": 7, \"Words of length 7\": 7, \"Words of length 8\": 7, \"Words of length 9\": 7, \"Words of length 10\": 7, \"Words of length 11\": 7, \"Words of length 12\": 7, \"Words of length 13\": 7, \"Words of length 14\": 7}, {\"Words\": 376, \"Letter\": 3, \"Letters in Puzzle\": 3, \"Words of length 4\": 3, \"Words of length 5\": 3, \"Words of length 6\": 3, \"Words of length 7\": 3, \"Words of length 8\": 3, \"Words of length 9\": 3, \"Words of length 10\": 3, \"Words of length 11\": 3, \"Words of length 12\": 3, \"Words of length 13\": 3, \"Words of length 14\": 3}, {\"Words\": 377, \"Letter\": 5, \"Letters in Puzzle\": 5, \"Words of length 4\": 5, \"Words of length 5\": 5, \"Words of length 6\": 5, \"Words of length 7\": 5, \"Words of length 8\": 5, \"Words of length 9\": 5, \"Words of length 10\": 5, \"Words of length 11\": 5, \"Words of length 12\": 5, \"Words of length 13\": 5, \"Words of length 14\": 5}, {\"Words\": 378, \"Letter\": 5, \"Letters in Puzzle\": 5, \"Words of length 4\": 5, \"Words of length 5\": 5, \"Words of length 6\": 5, \"Words of length 7\": 5, \"Words of length 8\": 5, \"Words of length 9\": 5, \"Words of length 10\": 5, \"Words of length 11\": 5, \"Words of length 12\": 5, \"Words of length 13\": 5, \"Words of length 14\": 5}, {\"Words\": 379, \"Letter\": 3, \"Letters in Puzzle\": 3, \"Words of length 4\": 3, \"Words of length 5\": 3, \"Words of length 6\": 3, \"Words of length 7\": 3, \"Words of length 8\": 3, \"Words of length 9\": 3, \"Words of length 10\": 3, \"Words of length 11\": 3, \"Words of length 12\": 3, \"Words of length 13\": 3, \"Words of length 14\": 3}, {\"Words\": 380, \"Letter\": 3, \"Letters in Puzzle\": 3, \"Words of length 4\": 3, \"Words of length 5\": 3, \"Words of length 6\": 3, \"Words of length 7\": 3, \"Words of length 8\": 3, \"Words of length 9\": 3, \"Words of length 10\": 3, \"Words of length 11\": 3, \"Words of length 12\": 3, \"Words of length 13\": 3, \"Words of length 14\": 3}, {\"Words\": 381, \"Letter\": 4, \"Letters in Puzzle\": 4, \"Words of length 4\": 4, \"Words of length 5\": 4, \"Words of length 6\": 4, \"Words of length 7\": 4, \"Words of length 8\": 4, \"Words of length 9\": 4, \"Words of length 10\": 4, \"Words of length 11\": 4, \"Words of length 12\": 4, \"Words of length 13\": 4, \"Words of length 14\": 4}, {\"Words\": 382, \"Letter\": 3, \"Letters in Puzzle\": 3, \"Words of length 4\": 3, \"Words of length 5\": 3, \"Words of length 6\": 3, \"Words of length 7\": 3, \"Words of length 8\": 3, \"Words of length 9\": 3, \"Words of length 10\": 3, \"Words of length 11\": 3, \"Words of length 12\": 3, \"Words of length 13\": 3, \"Words of length 14\": 3}, {\"Words\": 383, \"Letter\": 4, \"Letters in Puzzle\": 4, \"Words of length 4\": 4, \"Words of length 5\": 4, \"Words of length 6\": 4, \"Words of length 7\": 4, \"Words of length 8\": 4, \"Words of length 9\": 4, \"Words of length 10\": 4, \"Words of length 11\": 4, \"Words of length 12\": 4, \"Words of length 13\": 4, \"Words of length 14\": 4}, {\"Words\": 384, \"Letter\": 2, \"Letters in Puzzle\": 2, \"Words of length 4\": 2, \"Words of length 5\": 2, \"Words of length 6\": 2, \"Words of length 7\": 2, \"Words of length 8\": 2, \"Words of length 9\": 2, \"Words of length 10\": 2, \"Words of length 11\": 2, \"Words of length 12\": 2, \"Words of length 13\": 2, \"Words of length 14\": 2}, {\"Words\": 385, \"Letter\": 2, \"Letters in Puzzle\": 2, \"Words of length 4\": 2, \"Words of length 5\": 2, \"Words of length 6\": 2, \"Words of length 7\": 2, \"Words of length 8\": 2, \"Words of length 9\": 2, \"Words of length 10\": 2, \"Words of length 11\": 2, \"Words of length 12\": 2, \"Words of length 13\": 2, \"Words of length 14\": 2}, {\"Words\": 386, \"Letter\": 2, \"Letters in Puzzle\": 2, \"Words of length 4\": 2, \"Words of length 5\": 2, \"Words of length 6\": 2, \"Words of length 7\": 2, \"Words of length 8\": 2, \"Words of length 9\": 2, \"Words of length 10\": 2, \"Words of length 11\": 2, \"Words of length 12\": 2, \"Words of length 13\": 2, \"Words of length 14\": 2}, {\"Words\": 387, \"Letter\": 5, \"Letters in Puzzle\": 5, \"Words of length 4\": 5, \"Words of length 5\": 5, \"Words of length 6\": 5, \"Words of length 7\": 5, \"Words of length 8\": 5, \"Words of length 9\": 5, \"Words of length 10\": 5, \"Words of length 11\": 5, \"Words of length 12\": 5, \"Words of length 13\": 5, \"Words of length 14\": 5}, {\"Words\": 388, \"Letter\": 4, \"Letters in Puzzle\": 4, \"Words of length 4\": 4, \"Words of length 5\": 4, \"Words of length 6\": 4, \"Words of length 7\": 4, \"Words of length 8\": 4, \"Words of length 9\": 4, \"Words of length 10\": 4, \"Words of length 11\": 4, \"Words of length 12\": 4, \"Words of length 13\": 4, \"Words of length 14\": 4}, {\"Words\": 389, \"Letter\": 4, \"Letters in Puzzle\": 4, \"Words of length 4\": 4, \"Words of length 5\": 4, \"Words of length 6\": 4, \"Words of length 7\": 4, \"Words of length 8\": 4, \"Words of length 9\": 4, \"Words of length 10\": 4, \"Words of length 11\": 4, \"Words of length 12\": 4, \"Words of length 13\": 4, \"Words of length 14\": 4}, {\"Words\": 390, \"Letter\": 4, \"Letters in Puzzle\": 4, \"Words of length 4\": 4, \"Words of length 5\": 4, \"Words of length 6\": 4, \"Words of length 7\": 4, \"Words of length 8\": 4, \"Words of length 9\": 4, \"Words of length 10\": 4, \"Words of length 11\": 4, \"Words of length 12\": 4, \"Words of length 13\": 4, \"Words of length 14\": 4}, {\"Words\": 391, \"Letter\": 3, \"Letters in Puzzle\": 3, \"Words of length 4\": 3, \"Words of length 5\": 3, \"Words of length 6\": 3, \"Words of length 7\": 3, \"Words of length 8\": 3, \"Words of length 9\": 3, \"Words of length 10\": 3, \"Words of length 11\": 3, \"Words of length 12\": 3, \"Words of length 13\": 3, \"Words of length 14\": 3}, {\"Words\": 392, \"Letter\": 3, \"Letters in Puzzle\": 3, \"Words of length 4\": 3, \"Words of length 5\": 3, \"Words of length 6\": 3, \"Words of length 7\": 3, \"Words of length 8\": 3, \"Words of length 9\": 3, \"Words of length 10\": 3, \"Words of length 11\": 3, \"Words of length 12\": 3, \"Words of length 13\": 3, \"Words of length 14\": 3}, {\"Words\": 393, \"Letter\": 2, \"Letters in Puzzle\": 2, \"Words of length 4\": 2, \"Words of length 5\": 2, \"Words of length 6\": 2, \"Words of length 7\": 2, \"Words of length 8\": 2, \"Words of length 9\": 2, \"Words of length 10\": 2, \"Words of length 11\": 2, \"Words of length 12\": 2, \"Words of length 13\": 2, \"Words of length 14\": 2}, {\"Words\": 394, \"Letter\": 5, \"Letters in Puzzle\": 5, \"Words of length 4\": 5, \"Words of length 5\": 5, \"Words of length 6\": 5, \"Words of length 7\": 5, \"Words of length 8\": 5, \"Words of length 9\": 5, \"Words of length 10\": 5, \"Words of length 11\": 5, \"Words of length 12\": 5, \"Words of length 13\": 5, \"Words of length 14\": 5}, {\"Words\": 395, \"Letter\": 5, \"Letters in Puzzle\": 5, \"Words of length 4\": 5, \"Words of length 5\": 5, \"Words of length 6\": 5, \"Words of length 7\": 5, \"Words of length 8\": 5, \"Words of length 9\": 5, \"Words of length 10\": 5, \"Words of length 11\": 5, \"Words of length 12\": 5, \"Words of length 13\": 5, \"Words of length 14\": 5}, {\"Words\": 397, \"Letter\": 9, \"Letters in Puzzle\": 9, \"Words of length 4\": 9, \"Words of length 5\": 9, \"Words of length 6\": 9, \"Words of length 7\": 9, \"Words of length 8\": 9, \"Words of length 9\": 9, \"Words of length 10\": 9, \"Words of length 11\": 9, \"Words of length 12\": 9, \"Words of length 13\": 9, \"Words of length 14\": 9}, {\"Words\": 398, \"Letter\": 3, \"Letters in Puzzle\": 3, \"Words of length 4\": 3, \"Words of length 5\": 3, \"Words of length 6\": 3, \"Words of length 7\": 3, \"Words of length 8\": 3, \"Words of length 9\": 3, \"Words of length 10\": 3, \"Words of length 11\": 3, \"Words of length 12\": 3, \"Words of length 13\": 3, \"Words of length 14\": 3}, {\"Words\": 399, \"Letter\": 2, \"Letters in Puzzle\": 2, \"Words of length 4\": 2, \"Words of length 5\": 2, \"Words of length 6\": 2, \"Words of length 7\": 2, \"Words of length 8\": 2, \"Words of length 9\": 2, \"Words of length 10\": 2, \"Words of length 11\": 2, \"Words of length 12\": 2, \"Words of length 13\": 2, \"Words of length 14\": 2}, {\"Words\": 400, \"Letter\": 2, \"Letters in Puzzle\": 2, \"Words of length 4\": 2, \"Words of length 5\": 2, \"Words of length 6\": 2, \"Words of length 7\": 2, \"Words of length 8\": 2, \"Words of length 9\": 2, \"Words of length 10\": 2, \"Words of length 11\": 2, \"Words of length 12\": 2, \"Words of length 13\": 2, \"Words of length 14\": 2}, {\"Words\": 401, \"Letter\": 1, \"Letters in Puzzle\": 1, \"Words of length 4\": 1, \"Words of length 5\": 1, \"Words of length 6\": 1, \"Words of length 7\": 1, \"Words of length 8\": 1, \"Words of length 9\": 1, \"Words of length 10\": 1, \"Words of length 11\": 1, \"Words of length 12\": 1, \"Words of length 13\": 1, \"Words of length 14\": 1}, {\"Words\": 402, \"Letter\": 5, \"Letters in Puzzle\": 5, \"Words of length 4\": 5, \"Words of length 5\": 5, \"Words of length 6\": 5, \"Words of length 7\": 5, \"Words of length 8\": 5, \"Words of length 9\": 5, \"Words of length 10\": 5, \"Words of length 11\": 5, \"Words of length 12\": 5, \"Words of length 13\": 5, \"Words of length 14\": 5}, {\"Words\": 403, \"Letter\": 5, \"Letters in Puzzle\": 5, \"Words of length 4\": 5, \"Words of length 5\": 5, \"Words of length 6\": 5, \"Words of length 7\": 5, \"Words of length 8\": 5, \"Words of length 9\": 5, \"Words of length 10\": 5, \"Words of length 11\": 5, \"Words of length 12\": 5, \"Words of length 13\": 5, \"Words of length 14\": 5}, {\"Words\": 404, \"Letter\": 3, \"Letters in Puzzle\": 3, \"Words of length 4\": 3, \"Words of length 5\": 3, \"Words of length 6\": 3, \"Words of length 7\": 3, \"Words of length 8\": 3, \"Words of length 9\": 3, \"Words of length 10\": 3, \"Words of length 11\": 3, \"Words of length 12\": 3, \"Words of length 13\": 3, \"Words of length 14\": 3}, {\"Words\": 405, \"Letter\": 4, \"Letters in Puzzle\": 4, \"Words of length 4\": 4, \"Words of length 5\": 4, \"Words of length 6\": 4, \"Words of length 7\": 4, \"Words of length 8\": 4, \"Words of length 9\": 4, \"Words of length 10\": 4, \"Words of length 11\": 4, \"Words of length 12\": 4, \"Words of length 13\": 4, \"Words of length 14\": 4}, {\"Words\": 406, \"Letter\": 7, \"Letters in Puzzle\": 7, \"Words of length 4\": 7, \"Words of length 5\": 7, \"Words of length 6\": 7, \"Words of length 7\": 7, \"Words of length 8\": 7, \"Words of length 9\": 7, \"Words of length 10\": 7, \"Words of length 11\": 7, \"Words of length 12\": 7, \"Words of length 13\": 7, \"Words of length 14\": 7}, {\"Words\": 407, \"Letter\": 6, \"Letters in Puzzle\": 6, \"Words of length 4\": 6, \"Words of length 5\": 6, \"Words of length 6\": 6, \"Words of length 7\": 6, \"Words of length 8\": 6, \"Words of length 9\": 6, \"Words of length 10\": 6, \"Words of length 11\": 6, \"Words of length 12\": 6, \"Words of length 13\": 6, \"Words of length 14\": 6}, {\"Words\": 408, \"Letter\": 3, \"Letters in Puzzle\": 3, \"Words of length 4\": 3, \"Words of length 5\": 3, \"Words of length 6\": 3, \"Words of length 7\": 3, \"Words of length 8\": 3, \"Words of length 9\": 3, \"Words of length 10\": 3, \"Words of length 11\": 3, \"Words of length 12\": 3, \"Words of length 13\": 3, \"Words of length 14\": 3}, {\"Words\": 409, \"Letter\": 3, \"Letters in Puzzle\": 3, \"Words of length 4\": 3, \"Words of length 5\": 3, \"Words of length 6\": 3, \"Words of length 7\": 3, \"Words of length 8\": 3, \"Words of length 9\": 3, \"Words of length 10\": 3, \"Words of length 11\": 3, \"Words of length 12\": 3, \"Words of length 13\": 3, \"Words of length 14\": 3}, {\"Words\": 410, \"Letter\": 4, \"Letters in Puzzle\": 4, \"Words of length 4\": 4, \"Words of length 5\": 4, \"Words of length 6\": 4, \"Words of length 7\": 4, \"Words of length 8\": 4, \"Words of length 9\": 4, \"Words of length 10\": 4, \"Words of length 11\": 4, \"Words of length 12\": 4, \"Words of length 13\": 4, \"Words of length 14\": 4}, {\"Words\": 411, \"Letter\": 3, \"Letters in Puzzle\": 3, \"Words of length 4\": 3, \"Words of length 5\": 3, \"Words of length 6\": 3, \"Words of length 7\": 3, \"Words of length 8\": 3, \"Words of length 9\": 3, \"Words of length 10\": 3, \"Words of length 11\": 3, \"Words of length 12\": 3, \"Words of length 13\": 3, \"Words of length 14\": 3}, {\"Words\": 412, \"Letter\": 4, \"Letters in Puzzle\": 4, \"Words of length 4\": 4, \"Words of length 5\": 4, \"Words of length 6\": 4, \"Words of length 7\": 4, \"Words of length 8\": 4, \"Words of length 9\": 4, \"Words of length 10\": 4, \"Words of length 11\": 4, \"Words of length 12\": 4, \"Words of length 13\": 4, \"Words of length 14\": 4}, {\"Words\": 413, \"Letter\": 2, \"Letters in Puzzle\": 2, \"Words of length 4\": 2, \"Words of length 5\": 2, \"Words of length 6\": 2, \"Words of length 7\": 2, \"Words of length 8\": 2, \"Words of length 9\": 2, \"Words of length 10\": 2, \"Words of length 11\": 2, \"Words of length 12\": 2, \"Words of length 13\": 2, \"Words of length 14\": 2}, {\"Words\": 414, \"Letter\": 1, \"Letters in Puzzle\": 1, \"Words of length 4\": 1, \"Words of length 5\": 1, \"Words of length 6\": 1, \"Words of length 7\": 1, \"Words of length 8\": 1, \"Words of length 9\": 1, \"Words of length 10\": 1, \"Words of length 11\": 1, \"Words of length 12\": 1, \"Words of length 13\": 1, \"Words of length 14\": 1}, {\"Words\": 415, \"Letter\": 1, \"Letters in Puzzle\": 1, \"Words of length 4\": 1, \"Words of length 5\": 1, \"Words of length 6\": 1, \"Words of length 7\": 1, \"Words of length 8\": 1, \"Words of length 9\": 1, \"Words of length 10\": 1, \"Words of length 11\": 1, \"Words of length 12\": 1, \"Words of length 13\": 1, \"Words of length 14\": 1}, {\"Words\": 416, \"Letter\": 2, \"Letters in Puzzle\": 2, \"Words of length 4\": 2, \"Words of length 5\": 2, \"Words of length 6\": 2, \"Words of length 7\": 2, \"Words of length 8\": 2, \"Words of length 9\": 2, \"Words of length 10\": 2, \"Words of length 11\": 2, \"Words of length 12\": 2, \"Words of length 13\": 2, \"Words of length 14\": 2}, {\"Words\": 417, \"Letter\": 1, \"Letters in Puzzle\": 1, \"Words of length 4\": 1, \"Words of length 5\": 1, \"Words of length 6\": 1, \"Words of length 7\": 1, \"Words of length 8\": 1, \"Words of length 9\": 1, \"Words of length 10\": 1, \"Words of length 11\": 1, \"Words of length 12\": 1, \"Words of length 13\": 1, \"Words of length 14\": 1}, {\"Words\": 418, \"Letter\": 5, \"Letters in Puzzle\": 5, \"Words of length 4\": 5, \"Words of length 5\": 5, \"Words of length 6\": 5, \"Words of length 7\": 5, \"Words of length 8\": 5, \"Words of length 9\": 5, \"Words of length 10\": 5, \"Words of length 11\": 5, \"Words of length 12\": 5, \"Words of length 13\": 5, \"Words of length 14\": 5}, {\"Words\": 419, \"Letter\": 3, \"Letters in Puzzle\": 3, \"Words of length 4\": 3, \"Words of length 5\": 3, \"Words of length 6\": 3, \"Words of length 7\": 3, \"Words of length 8\": 3, \"Words of length 9\": 3, \"Words of length 10\": 3, \"Words of length 11\": 3, \"Words of length 12\": 3, \"Words of length 13\": 3, \"Words of length 14\": 3}, {\"Words\": 420, \"Letter\": 5, \"Letters in Puzzle\": 5, \"Words of length 4\": 5, \"Words of length 5\": 5, \"Words of length 6\": 5, \"Words of length 7\": 5, \"Words of length 8\": 5, \"Words of length 9\": 5, \"Words of length 10\": 5, \"Words of length 11\": 5, \"Words of length 12\": 5, \"Words of length 13\": 5, \"Words of length 14\": 5}, {\"Words\": 421, \"Letter\": 5, \"Letters in Puzzle\": 5, \"Words of length 4\": 5, \"Words of length 5\": 5, \"Words of length 6\": 5, \"Words of length 7\": 5, \"Words of length 8\": 5, \"Words of length 9\": 5, \"Words of length 10\": 5, \"Words of length 11\": 5, \"Words of length 12\": 5, \"Words of length 13\": 5, \"Words of length 14\": 5}, {\"Words\": 422, \"Letter\": 6, \"Letters in Puzzle\": 6, \"Words of length 4\": 6, \"Words of length 5\": 6, \"Words of length 6\": 6, \"Words of length 7\": 6, \"Words of length 8\": 6, \"Words of length 9\": 6, \"Words of length 10\": 6, \"Words of length 11\": 6, \"Words of length 12\": 6, \"Words of length 13\": 6, \"Words of length 14\": 6}, {\"Words\": 423, \"Letter\": 2, \"Letters in Puzzle\": 2, \"Words of length 4\": 2, \"Words of length 5\": 2, \"Words of length 6\": 2, \"Words of length 7\": 2, \"Words of length 8\": 2, \"Words of length 9\": 2, \"Words of length 10\": 2, \"Words of length 11\": 2, \"Words of length 12\": 2, \"Words of length 13\": 2, \"Words of length 14\": 2}, {\"Words\": 425, \"Letter\": 6, \"Letters in Puzzle\": 6, \"Words of length 4\": 6, \"Words of length 5\": 6, \"Words of length 6\": 6, \"Words of length 7\": 6, \"Words of length 8\": 6, \"Words of length 9\": 6, \"Words of length 10\": 6, \"Words of length 11\": 6, \"Words of length 12\": 6, \"Words of length 13\": 6, \"Words of length 14\": 6}, {\"Words\": 426, \"Letter\": 2, \"Letters in Puzzle\": 2, \"Words of length 4\": 2, \"Words of length 5\": 2, \"Words of length 6\": 2, \"Words of length 7\": 2, \"Words of length 8\": 2, \"Words of length 9\": 2, \"Words of length 10\": 2, \"Words of length 11\": 2, \"Words of length 12\": 2, \"Words of length 13\": 2, \"Words of length 14\": 2}, {\"Words\": 427, \"Letter\": 2, \"Letters in Puzzle\": 2, \"Words of length 4\": 2, \"Words of length 5\": 2, \"Words of length 6\": 2, \"Words of length 7\": 2, \"Words of length 8\": 2, \"Words of length 9\": 2, \"Words of length 10\": 2, \"Words of length 11\": 2, \"Words of length 12\": 2, \"Words of length 13\": 2, \"Words of length 14\": 2}, {\"Words\": 428, \"Letter\": 1, \"Letters in Puzzle\": 1, \"Words of length 4\": 1, \"Words of length 5\": 1, \"Words of length 6\": 1, \"Words of length 7\": 1, \"Words of length 8\": 1, \"Words of length 9\": 1, \"Words of length 10\": 1, \"Words of length 11\": 1, \"Words of length 12\": 1, \"Words of length 13\": 1, \"Words of length 14\": 1}, {\"Words\": 429, \"Letter\": 1, \"Letters in Puzzle\": 1, \"Words of length 4\": 1, \"Words of length 5\": 1, \"Words of length 6\": 1, \"Words of length 7\": 1, \"Words of length 8\": 1, \"Words of length 9\": 1, \"Words of length 10\": 1, \"Words of length 11\": 1, \"Words of length 12\": 1, \"Words of length 13\": 1, \"Words of length 14\": 1}, {\"Words\": 430, \"Letter\": 2, \"Letters in Puzzle\": 2, \"Words of length 4\": 2, \"Words of length 5\": 2, \"Words of length 6\": 2, \"Words of length 7\": 2, \"Words of length 8\": 2, \"Words of length 9\": 2, \"Words of length 10\": 2, \"Words of length 11\": 2, \"Words of length 12\": 2, \"Words of length 13\": 2, \"Words of length 14\": 2}, {\"Words\": 431, \"Letter\": 2, \"Letters in Puzzle\": 2, \"Words of length 4\": 2, \"Words of length 5\": 2, \"Words of length 6\": 2, \"Words of length 7\": 2, \"Words of length 8\": 2, \"Words of length 9\": 2, \"Words of length 10\": 2, \"Words of length 11\": 2, \"Words of length 12\": 2, \"Words of length 13\": 2, \"Words of length 14\": 2}, {\"Words\": 432, \"Letter\": 3, \"Letters in Puzzle\": 3, \"Words of length 4\": 3, \"Words of length 5\": 3, \"Words of length 6\": 3, \"Words of length 7\": 3, \"Words of length 8\": 3, \"Words of length 9\": 3, \"Words of length 10\": 3, \"Words of length 11\": 3, \"Words of length 12\": 3, \"Words of length 13\": 3, \"Words of length 14\": 3}, {\"Words\": 433, \"Letter\": 2, \"Letters in Puzzle\": 2, \"Words of length 4\": 2, \"Words of length 5\": 2, \"Words of length 6\": 2, \"Words of length 7\": 2, \"Words of length 8\": 2, \"Words of length 9\": 2, \"Words of length 10\": 2, \"Words of length 11\": 2, \"Words of length 12\": 2, \"Words of length 13\": 2, \"Words of length 14\": 2}, {\"Words\": 434, \"Letter\": 3, \"Letters in Puzzle\": 3, \"Words of length 4\": 3, \"Words of length 5\": 3, \"Words of length 6\": 3, \"Words of length 7\": 3, \"Words of length 8\": 3, \"Words of length 9\": 3, \"Words of length 10\": 3, \"Words of length 11\": 3, \"Words of length 12\": 3, \"Words of length 13\": 3, \"Words of length 14\": 3}, {\"Words\": 435, \"Letter\": 4, \"Letters in Puzzle\": 4, \"Words of length 4\": 4, \"Words of length 5\": 4, \"Words of length 6\": 4, \"Words of length 7\": 4, \"Words of length 8\": 4, \"Words of length 9\": 4, \"Words of length 10\": 4, \"Words of length 11\": 4, \"Words of length 12\": 4, \"Words of length 13\": 4, \"Words of length 14\": 4}, {\"Words\": 436, \"Letter\": 2, \"Letters in Puzzle\": 2, \"Words of length 4\": 2, \"Words of length 5\": 2, \"Words of length 6\": 2, \"Words of length 7\": 2, \"Words of length 8\": 2, \"Words of length 9\": 2, \"Words of length 10\": 2, \"Words of length 11\": 2, \"Words of length 12\": 2, \"Words of length 13\": 2, \"Words of length 14\": 2}, {\"Words\": 438, \"Letter\": 2, \"Letters in Puzzle\": 2, \"Words of length 4\": 2, \"Words of length 5\": 2, \"Words of length 6\": 2, \"Words of length 7\": 2, \"Words of length 8\": 2, \"Words of length 9\": 2, \"Words of length 10\": 2, \"Words of length 11\": 2, \"Words of length 12\": 2, \"Words of length 13\": 2, \"Words of length 14\": 2}, {\"Words\": 439, \"Letter\": 1, \"Letters in Puzzle\": 1, \"Words of length 4\": 1, \"Words of length 5\": 1, \"Words of length 6\": 1, \"Words of length 7\": 1, \"Words of length 8\": 1, \"Words of length 9\": 1, \"Words of length 10\": 1, \"Words of length 11\": 1, \"Words of length 12\": 1, \"Words of length 13\": 1, \"Words of length 14\": 1}, {\"Words\": 440, \"Letter\": 1, \"Letters in Puzzle\": 1, \"Words of length 4\": 1, \"Words of length 5\": 1, \"Words of length 6\": 1, \"Words of length 7\": 1, \"Words of length 8\": 1, \"Words of length 9\": 1, \"Words of length 10\": 1, \"Words of length 11\": 1, \"Words of length 12\": 1, \"Words of length 13\": 1, \"Words of length 14\": 1}, {\"Words\": 442, \"Letter\": 1, \"Letters in Puzzle\": 1, \"Words of length 4\": 1, \"Words of length 5\": 1, \"Words of length 6\": 1, \"Words of length 7\": 1, \"Words of length 8\": 1, \"Words of length 9\": 1, \"Words of length 10\": 1, \"Words of length 11\": 1, \"Words of length 12\": 1, \"Words of length 13\": 1, \"Words of length 14\": 1}, {\"Words\": 443, \"Letter\": 1, \"Letters in Puzzle\": 1, \"Words of length 4\": 1, \"Words of length 5\": 1, \"Words of length 6\": 1, \"Words of length 7\": 1, \"Words of length 8\": 1, \"Words of length 9\": 1, \"Words of length 10\": 1, \"Words of length 11\": 1, \"Words of length 12\": 1, \"Words of length 13\": 1, \"Words of length 14\": 1}, {\"Words\": 444, \"Letter\": 2, \"Letters in Puzzle\": 2, \"Words of length 4\": 2, \"Words of length 5\": 2, \"Words of length 6\": 2, \"Words of length 7\": 2, \"Words of length 8\": 2, \"Words of length 9\": 2, \"Words of length 10\": 2, \"Words of length 11\": 2, \"Words of length 12\": 2, \"Words of length 13\": 2, \"Words of length 14\": 2}, {\"Words\": 446, \"Letter\": 1, \"Letters in Puzzle\": 1, \"Words of length 4\": 1, \"Words of length 5\": 1, \"Words of length 6\": 1, \"Words of length 7\": 1, \"Words of length 8\": 1, \"Words of length 9\": 1, \"Words of length 10\": 1, \"Words of length 11\": 1, \"Words of length 12\": 1, \"Words of length 13\": 1, \"Words of length 14\": 1}, {\"Words\": 447, \"Letter\": 1, \"Letters in Puzzle\": 1, \"Words of length 4\": 1, \"Words of length 5\": 1, \"Words of length 6\": 1, \"Words of length 7\": 1, \"Words of length 8\": 1, \"Words of length 9\": 1, \"Words of length 10\": 1, \"Words of length 11\": 1, \"Words of length 12\": 1, \"Words of length 13\": 1, \"Words of length 14\": 1}, {\"Words\": 448, \"Letter\": 2, \"Letters in Puzzle\": 2, \"Words of length 4\": 2, \"Words of length 5\": 2, \"Words of length 6\": 2, \"Words of length 7\": 2, \"Words of length 8\": 2, \"Words of length 9\": 2, \"Words of length 10\": 2, \"Words of length 11\": 2, \"Words of length 12\": 2, \"Words of length 13\": 2, \"Words of length 14\": 2}, {\"Words\": 449, \"Letter\": 2, \"Letters in Puzzle\": 2, \"Words of length 4\": 2, \"Words of length 5\": 2, \"Words of length 6\": 2, \"Words of length 7\": 2, \"Words of length 8\": 2, \"Words of length 9\": 2, \"Words of length 10\": 2, \"Words of length 11\": 2, \"Words of length 12\": 2, \"Words of length 13\": 2, \"Words of length 14\": 2}, {\"Words\": 450, \"Letter\": 1, \"Letters in Puzzle\": 1, \"Words of length 4\": 1, \"Words of length 5\": 1, \"Words of length 6\": 1, \"Words of length 7\": 1, \"Words of length 8\": 1, \"Words of length 9\": 1, \"Words of length 10\": 1, \"Words of length 11\": 1, \"Words of length 12\": 1, \"Words of length 13\": 1, \"Words of length 14\": 1}, {\"Words\": 452, \"Letter\": 2, \"Letters in Puzzle\": 2, \"Words of length 4\": 2, \"Words of length 5\": 2, \"Words of length 6\": 2, \"Words of length 7\": 2, \"Words of length 8\": 2, \"Words of length 9\": 2, \"Words of length 10\": 2, \"Words of length 11\": 2, \"Words of length 12\": 2, \"Words of length 13\": 2, \"Words of length 14\": 2}, {\"Words\": 453, \"Letter\": 1, \"Letters in Puzzle\": 1, \"Words of length 4\": 1, \"Words of length 5\": 1, \"Words of length 6\": 1, \"Words of length 7\": 1, \"Words of length 8\": 1, \"Words of length 9\": 1, \"Words of length 10\": 1, \"Words of length 11\": 1, \"Words of length 12\": 1, \"Words of length 13\": 1, \"Words of length 14\": 1}, {\"Words\": 454, \"Letter\": 2, \"Letters in Puzzle\": 2, \"Words of length 4\": 2, \"Words of length 5\": 2, \"Words of length 6\": 2, \"Words of length 7\": 2, \"Words of length 8\": 2, \"Words of length 9\": 2, \"Words of length 10\": 2, \"Words of length 11\": 2, \"Words of length 12\": 2, \"Words of length 13\": 2, \"Words of length 14\": 2}, {\"Words\": 455, \"Letter\": 1, \"Letters in Puzzle\": 1, \"Words of length 4\": 1, \"Words of length 5\": 1, \"Words of length 6\": 1, \"Words of length 7\": 1, \"Words of length 8\": 1, \"Words of length 9\": 1, \"Words of length 10\": 1, \"Words of length 11\": 1, \"Words of length 12\": 1, \"Words of length 13\": 1, \"Words of length 14\": 1}, {\"Words\": 457, \"Letter\": 2, \"Letters in Puzzle\": 2, \"Words of length 4\": 2, \"Words of length 5\": 2, \"Words of length 6\": 2, \"Words of length 7\": 2, \"Words of length 8\": 2, \"Words of length 9\": 2, \"Words of length 10\": 2, \"Words of length 11\": 2, \"Words of length 12\": 2, \"Words of length 13\": 2, \"Words of length 14\": 2}, {\"Words\": 458, \"Letter\": 3, \"Letters in Puzzle\": 3, \"Words of length 4\": 3, \"Words of length 5\": 3, \"Words of length 6\": 3, \"Words of length 7\": 3, \"Words of length 8\": 3, \"Words of length 9\": 3, \"Words of length 10\": 3, \"Words of length 11\": 3, \"Words of length 12\": 3, \"Words of length 13\": 3, \"Words of length 14\": 3}, {\"Words\": 459, \"Letter\": 1, \"Letters in Puzzle\": 1, \"Words of length 4\": 1, \"Words of length 5\": 1, \"Words of length 6\": 1, \"Words of length 7\": 1, \"Words of length 8\": 1, \"Words of length 9\": 1, \"Words of length 10\": 1, \"Words of length 11\": 1, \"Words of length 12\": 1, \"Words of length 13\": 1, \"Words of length 14\": 1}, {\"Words\": 462, \"Letter\": 1, \"Letters in Puzzle\": 1, \"Words of length 4\": 1, \"Words of length 5\": 1, \"Words of length 6\": 1, \"Words of length 7\": 1, \"Words of length 8\": 1, \"Words of length 9\": 1, \"Words of length 10\": 1, \"Words of length 11\": 1, \"Words of length 12\": 1, \"Words of length 13\": 1, \"Words of length 14\": 1}, {\"Words\": 463, \"Letter\": 2, \"Letters in Puzzle\": 2, \"Words of length 4\": 2, \"Words of length 5\": 2, \"Words of length 6\": 2, \"Words of length 7\": 2, \"Words of length 8\": 2, \"Words of length 9\": 2, \"Words of length 10\": 2, \"Words of length 11\": 2, \"Words of length 12\": 2, \"Words of length 13\": 2, \"Words of length 14\": 2}, {\"Words\": 466, \"Letter\": 1, \"Letters in Puzzle\": 1, \"Words of length 4\": 1, \"Words of length 5\": 1, \"Words of length 6\": 1, \"Words of length 7\": 1, \"Words of length 8\": 1, \"Words of length 9\": 1, \"Words of length 10\": 1, \"Words of length 11\": 1, \"Words of length 12\": 1, \"Words of length 13\": 1, \"Words of length 14\": 1}, {\"Words\": 468, \"Letter\": 1, \"Letters in Puzzle\": 1, \"Words of length 4\": 1, \"Words of length 5\": 1, \"Words of length 6\": 1, \"Words of length 7\": 1, \"Words of length 8\": 1, \"Words of length 9\": 1, \"Words of length 10\": 1, \"Words of length 11\": 1, \"Words of length 12\": 1, \"Words of length 13\": 1, \"Words of length 14\": 1}, {\"Words\": 470, \"Letter\": 1, \"Letters in Puzzle\": 1, \"Words of length 4\": 1, \"Words of length 5\": 1, \"Words of length 6\": 1, \"Words of length 7\": 1, \"Words of length 8\": 1, \"Words of length 9\": 1, \"Words of length 10\": 1, \"Words of length 11\": 1, \"Words of length 12\": 1, \"Words of length 13\": 1, \"Words of length 14\": 1}, {\"Words\": 471, \"Letter\": 1, \"Letters in Puzzle\": 1, \"Words of length 4\": 1, \"Words of length 5\": 1, \"Words of length 6\": 1, \"Words of length 7\": 1, \"Words of length 8\": 1, \"Words of length 9\": 1, \"Words of length 10\": 1, \"Words of length 11\": 1, \"Words of length 12\": 1, \"Words of length 13\": 1, \"Words of length 14\": 1}, {\"Words\": 472, \"Letter\": 1, \"Letters in Puzzle\": 1, \"Words of length 4\": 1, \"Words of length 5\": 1, \"Words of length 6\": 1, \"Words of length 7\": 1, \"Words of length 8\": 1, \"Words of length 9\": 1, \"Words of length 10\": 1, \"Words of length 11\": 1, \"Words of length 12\": 1, \"Words of length 13\": 1, \"Words of length 14\": 1}, {\"Words\": 473, \"Letter\": 1, \"Letters in Puzzle\": 1, \"Words of length 4\": 1, \"Words of length 5\": 1, \"Words of length 6\": 1, \"Words of length 7\": 1, \"Words of length 8\": 1, \"Words of length 9\": 1, \"Words of length 10\": 1, \"Words of length 11\": 1, \"Words of length 12\": 1, \"Words of length 13\": 1, \"Words of length 14\": 1}, {\"Words\": 474, \"Letter\": 1, \"Letters in Puzzle\": 1, \"Words of length 4\": 1, \"Words of length 5\": 1, \"Words of length 6\": 1, \"Words of length 7\": 1, \"Words of length 8\": 1, \"Words of length 9\": 1, \"Words of length 10\": 1, \"Words of length 11\": 1, \"Words of length 12\": 1, \"Words of length 13\": 1, \"Words of length 14\": 1}, {\"Words\": 475, \"Letter\": 4, \"Letters in Puzzle\": 4, \"Words of length 4\": 4, \"Words of length 5\": 4, \"Words of length 6\": 4, \"Words of length 7\": 4, \"Words of length 8\": 4, \"Words of length 9\": 4, \"Words of length 10\": 4, \"Words of length 11\": 4, \"Words of length 12\": 4, \"Words of length 13\": 4, \"Words of length 14\": 4}, {\"Words\": 481, \"Letter\": 3, \"Letters in Puzzle\": 3, \"Words of length 4\": 3, \"Words of length 5\": 3, \"Words of length 6\": 3, \"Words of length 7\": 3, \"Words of length 8\": 3, \"Words of length 9\": 3, \"Words of length 10\": 3, \"Words of length 11\": 3, \"Words of length 12\": 3, \"Words of length 13\": 3, \"Words of length 14\": 3}, {\"Words\": 482, \"Letter\": 1, \"Letters in Puzzle\": 1, \"Words of length 4\": 1, \"Words of length 5\": 1, \"Words of length 6\": 1, \"Words of length 7\": 1, \"Words of length 8\": 1, \"Words of length 9\": 1, \"Words of length 10\": 1, \"Words of length 11\": 1, \"Words of length 12\": 1, \"Words of length 13\": 1, \"Words of length 14\": 1}, {\"Words\": 483, \"Letter\": 1, \"Letters in Puzzle\": 1, \"Words of length 4\": 1, \"Words of length 5\": 1, \"Words of length 6\": 1, \"Words of length 7\": 1, \"Words of length 8\": 1, \"Words of length 9\": 1, \"Words of length 10\": 1, \"Words of length 11\": 1, \"Words of length 12\": 1, \"Words of length 13\": 1, \"Words of length 14\": 1}, {\"Words\": 484, \"Letter\": 1, \"Letters in Puzzle\": 1, \"Words of length 4\": 1, \"Words of length 5\": 1, \"Words of length 6\": 1, \"Words of length 7\": 1, \"Words of length 8\": 1, \"Words of length 9\": 1, \"Words of length 10\": 1, \"Words of length 11\": 1, \"Words of length 12\": 1, \"Words of length 13\": 1, \"Words of length 14\": 1}, {\"Words\": 486, \"Letter\": 2, \"Letters in Puzzle\": 2, \"Words of length 4\": 2, \"Words of length 5\": 2, \"Words of length 6\": 2, \"Words of length 7\": 2, \"Words of length 8\": 2, \"Words of length 9\": 2, \"Words of length 10\": 2, \"Words of length 11\": 2, \"Words of length 12\": 2, \"Words of length 13\": 2, \"Words of length 14\": 2}, {\"Words\": 487, \"Letter\": 1, \"Letters in Puzzle\": 1, \"Words of length 4\": 1, \"Words of length 5\": 1, \"Words of length 6\": 1, \"Words of length 7\": 1, \"Words of length 8\": 1, \"Words of length 9\": 1, \"Words of length 10\": 1, \"Words of length 11\": 1, \"Words of length 12\": 1, \"Words of length 13\": 1, \"Words of length 14\": 1}, {\"Words\": 491, \"Letter\": 1, \"Letters in Puzzle\": 1, \"Words of length 4\": 1, \"Words of length 5\": 1, \"Words of length 6\": 1, \"Words of length 7\": 1, \"Words of length 8\": 1, \"Words of length 9\": 1, \"Words of length 10\": 1, \"Words of length 11\": 1, \"Words of length 12\": 1, \"Words of length 13\": 1, \"Words of length 14\": 1}, {\"Words\": 493, \"Letter\": 2, \"Letters in Puzzle\": 2, \"Words of length 4\": 2, \"Words of length 5\": 2, \"Words of length 6\": 2, \"Words of length 7\": 2, \"Words of length 8\": 2, \"Words of length 9\": 2, \"Words of length 10\": 2, \"Words of length 11\": 2, \"Words of length 12\": 2, \"Words of length 13\": 2, \"Words of length 14\": 2}, {\"Words\": 495, \"Letter\": 1, \"Letters in Puzzle\": 1, \"Words of length 4\": 1, \"Words of length 5\": 1, \"Words of length 6\": 1, \"Words of length 7\": 1, \"Words of length 8\": 1, \"Words of length 9\": 1, \"Words of length 10\": 1, \"Words of length 11\": 1, \"Words of length 12\": 1, \"Words of length 13\": 1, \"Words of length 14\": 1}, {\"Words\": 496, \"Letter\": 1, \"Letters in Puzzle\": 1, \"Words of length 4\": 1, \"Words of length 5\": 1, \"Words of length 6\": 1, \"Words of length 7\": 1, \"Words of length 8\": 1, \"Words of length 9\": 1, \"Words of length 10\": 1, \"Words of length 11\": 1, \"Words of length 12\": 1, \"Words of length 13\": 1, \"Words of length 14\": 1}, {\"Words\": 499, \"Letter\": 1, \"Letters in Puzzle\": 1, \"Words of length 4\": 1, \"Words of length 5\": 1, \"Words of length 6\": 1, \"Words of length 7\": 1, \"Words of length 8\": 1, \"Words of length 9\": 1, \"Words of length 10\": 1, \"Words of length 11\": 1, \"Words of length 12\": 1, \"Words of length 13\": 1, \"Words of length 14\": 1}, {\"Words\": 501, \"Letter\": 2, \"Letters in Puzzle\": 2, \"Words of length 4\": 2, \"Words of length 5\": 2, \"Words of length 6\": 2, \"Words of length 7\": 2, \"Words of length 8\": 2, \"Words of length 9\": 2, \"Words of length 10\": 2, \"Words of length 11\": 2, \"Words of length 12\": 2, \"Words of length 13\": 2, \"Words of length 14\": 2}, {\"Words\": 518, \"Letter\": 1, \"Letters in Puzzle\": 1, \"Words of length 4\": 1, \"Words of length 5\": 1, \"Words of length 6\": 1, \"Words of length 7\": 1, \"Words of length 8\": 1, \"Words of length 9\": 1, \"Words of length 10\": 1, \"Words of length 11\": 1, \"Words of length 12\": 1, \"Words of length 13\": 1, \"Words of length 14\": 1}, {\"Words\": 522, \"Letter\": 1, \"Letters in Puzzle\": 1, \"Words of length 4\": 1, \"Words of length 5\": 1, \"Words of length 6\": 1, \"Words of length 7\": 1, \"Words of length 8\": 1, \"Words of length 9\": 1, \"Words of length 10\": 1, \"Words of length 11\": 1, \"Words of length 12\": 1, \"Words of length 13\": 1, \"Words of length 14\": 1}, {\"Words\": 524, \"Letter\": 1, \"Letters in Puzzle\": 1, \"Words of length 4\": 1, \"Words of length 5\": 1, \"Words of length 6\": 1, \"Words of length 7\": 1, \"Words of length 8\": 1, \"Words of length 9\": 1, \"Words of length 10\": 1, \"Words of length 11\": 1, \"Words of length 12\": 1, \"Words of length 13\": 1, \"Words of length 14\": 1}, {\"Words\": 530, \"Letter\": 1, \"Letters in Puzzle\": 1, \"Words of length 4\": 1, \"Words of length 5\": 1, \"Words of length 6\": 1, \"Words of length 7\": 1, \"Words of length 8\": 1, \"Words of length 9\": 1, \"Words of length 10\": 1, \"Words of length 11\": 1, \"Words of length 12\": 1, \"Words of length 13\": 1, \"Words of length 14\": 1}, {\"Words\": 533, \"Letter\": 1, \"Letters in Puzzle\": 1, \"Words of length 4\": 1, \"Words of length 5\": 1, \"Words of length 6\": 1, \"Words of length 7\": 1, \"Words of length 8\": 1, \"Words of length 9\": 1, \"Words of length 10\": 1, \"Words of length 11\": 1, \"Words of length 12\": 1, \"Words of length 13\": 1, \"Words of length 14\": 1}, {\"Words\": 540, \"Letter\": 1, \"Letters in Puzzle\": 1, \"Words of length 4\": 1, \"Words of length 5\": 1, \"Words of length 6\": 1, \"Words of length 7\": 1, \"Words of length 8\": 1, \"Words of length 9\": 1, \"Words of length 10\": 1, \"Words of length 11\": 1, \"Words of length 12\": 1, \"Words of length 13\": 1, \"Words of length 14\": 1}, {\"Words\": 543, \"Letter\": 1, \"Letters in Puzzle\": 1, \"Words of length 4\": 1, \"Words of length 5\": 1, \"Words of length 6\": 1, \"Words of length 7\": 1, \"Words of length 8\": 1, \"Words of length 9\": 1, \"Words of length 10\": 1, \"Words of length 11\": 1, \"Words of length 12\": 1, \"Words of length 13\": 1, \"Words of length 14\": 1}, {\"Words\": 549, \"Letter\": 1, \"Letters in Puzzle\": 1, \"Words of length 4\": 1, \"Words of length 5\": 1, \"Words of length 6\": 1, \"Words of length 7\": 1, \"Words of length 8\": 1, \"Words of length 9\": 1, \"Words of length 10\": 1, \"Words of length 11\": 1, \"Words of length 12\": 1, \"Words of length 13\": 1, \"Words of length 14\": 1}, {\"Words\": 552, \"Letter\": 1, \"Letters in Puzzle\": 1, \"Words of length 4\": 1, \"Words of length 5\": 1, \"Words of length 6\": 1, \"Words of length 7\": 1, \"Words of length 8\": 1, \"Words of length 9\": 1, \"Words of length 10\": 1, \"Words of length 11\": 1, \"Words of length 12\": 1, \"Words of length 13\": 1, \"Words of length 14\": 1}, {\"Words\": 554, \"Letter\": 1, \"Letters in Puzzle\": 1, \"Words of length 4\": 1, \"Words of length 5\": 1, \"Words of length 6\": 1, \"Words of length 7\": 1, \"Words of length 8\": 1, \"Words of length 9\": 1, \"Words of length 10\": 1, \"Words of length 11\": 1, \"Words of length 12\": 1, \"Words of length 13\": 1, \"Words of length 14\": 1}, {\"Words\": 562, \"Letter\": 1, \"Letters in Puzzle\": 1, \"Words of length 4\": 1, \"Words of length 5\": 1, \"Words of length 6\": 1, \"Words of length 7\": 1, \"Words of length 8\": 1, \"Words of length 9\": 1, \"Words of length 10\": 1, \"Words of length 11\": 1, \"Words of length 12\": 1, \"Words of length 13\": 1, \"Words of length 14\": 1}, {\"Words\": 567, \"Letter\": 1, \"Letters in Puzzle\": 1, \"Words of length 4\": 1, \"Words of length 5\": 1, \"Words of length 6\": 1, \"Words of length 7\": 1, \"Words of length 8\": 1, \"Words of length 9\": 1, \"Words of length 10\": 1, \"Words of length 11\": 1, \"Words of length 12\": 1, \"Words of length 13\": 1, \"Words of length 14\": 1}, {\"Words\": 570, \"Letter\": 1, \"Letters in Puzzle\": 1, \"Words of length 4\": 1, \"Words of length 5\": 1, \"Words of length 6\": 1, \"Words of length 7\": 1, \"Words of length 8\": 1, \"Words of length 9\": 1, \"Words of length 10\": 1, \"Words of length 11\": 1, \"Words of length 12\": 1, \"Words of length 13\": 1, \"Words of length 14\": 1}, {\"Words\": 581, \"Letter\": 1, \"Letters in Puzzle\": 1, \"Words of length 4\": 1, \"Words of length 5\": 1, \"Words of length 6\": 1, \"Words of length 7\": 1, \"Words of length 8\": 1, \"Words of length 9\": 1, \"Words of length 10\": 1, \"Words of length 11\": 1, \"Words of length 12\": 1, \"Words of length 13\": 1, \"Words of length 14\": 1}, {\"Words\": 582, \"Letter\": 1, \"Letters in Puzzle\": 1, \"Words of length 4\": 1, \"Words of length 5\": 1, \"Words of length 6\": 1, \"Words of length 7\": 1, \"Words of length 8\": 1, \"Words of length 9\": 1, \"Words of length 10\": 1, \"Words of length 11\": 1, \"Words of length 12\": 1, \"Words of length 13\": 1, \"Words of length 14\": 1}, {\"Words\": 585, \"Letter\": 1, \"Letters in Puzzle\": 1, \"Words of length 4\": 1, \"Words of length 5\": 1, \"Words of length 6\": 1, \"Words of length 7\": 1, \"Words of length 8\": 1, \"Words of length 9\": 1, \"Words of length 10\": 1, \"Words of length 11\": 1, \"Words of length 12\": 1, \"Words of length 13\": 1, \"Words of length 14\": 1}, {\"Words\": 593, \"Letter\": 2, \"Letters in Puzzle\": 2, \"Words of length 4\": 2, \"Words of length 5\": 2, \"Words of length 6\": 2, \"Words of length 7\": 2, \"Words of length 8\": 2, \"Words of length 9\": 2, \"Words of length 10\": 2, \"Words of length 11\": 2, \"Words of length 12\": 2, \"Words of length 13\": 2, \"Words of length 14\": 2}]}}, {\"mode\": \"vega-lite\"});\n",
              "</script>"
            ]
          },
          "metadata": {
            "tags": []
          },
          "execution_count": 151
        }
      ]
    },
    {
      "cell_type": "code",
      "metadata": {
        "id": "ErV1o9wNlhkN",
        "colab": {
          "base_uri": "https://localhost:8080/",
          "height": 367
        },
        "outputId": "65612fc9-39ad-433b-d217-7a3b4265b81b"
      },
      "source": [
        "alt.Chart(solution_frame.groupby(\"Letter\", as_index=False).mean()).\\\n",
        "  mark_bar().encode(x=\"Letter:O\", y=alt.Y(\"Words:Q\", title=\"Mean Words in Solution\"))"
      ],
      "execution_count": 152,
      "outputs": [
        {
          "output_type": "execute_result",
          "data": {
            "text/plain": [
              "alt.Chart(...)"
            ],
            "text/html": [
              "\n",
              "<div id=\"altair-viz-13269fcf64454070b462a108e9b5c55b\"></div>\n",
              "<script type=\"text/javascript\">\n",
              "  (function(spec, embedOpt){\n",
              "    let outputDiv = document.currentScript.previousElementSibling;\n",
              "    if (outputDiv.id !== \"altair-viz-13269fcf64454070b462a108e9b5c55b\") {\n",
              "      outputDiv = document.getElementById(\"altair-viz-13269fcf64454070b462a108e9b5c55b\");\n",
              "    }\n",
              "    const paths = {\n",
              "      \"vega\": \"https://cdn.jsdelivr.net/npm//vega@5?noext\",\n",
              "      \"vega-lib\": \"https://cdn.jsdelivr.net/npm//vega-lib?noext\",\n",
              "      \"vega-lite\": \"https://cdn.jsdelivr.net/npm//vega-lite@4.8.1?noext\",\n",
              "      \"vega-embed\": \"https://cdn.jsdelivr.net/npm//vega-embed@6?noext\",\n",
              "    };\n",
              "\n",
              "    function loadScript(lib) {\n",
              "      return new Promise(function(resolve, reject) {\n",
              "        var s = document.createElement('script');\n",
              "        s.src = paths[lib];\n",
              "        s.async = true;\n",
              "        s.onload = () => resolve(paths[lib]);\n",
              "        s.onerror = () => reject(`Error loading script: ${paths[lib]}`);\n",
              "        document.getElementsByTagName(\"head\")[0].appendChild(s);\n",
              "      });\n",
              "    }\n",
              "\n",
              "    function showError(err) {\n",
              "      outputDiv.innerHTML = `<div class=\"error\" style=\"color:red;\">${err}</div>`;\n",
              "      throw err;\n",
              "    }\n",
              "\n",
              "    function displayChart(vegaEmbed) {\n",
              "      vegaEmbed(outputDiv, spec, embedOpt)\n",
              "        .catch(err => showError(`Javascript Error: ${err.message}<br>This usually means there's a typo in your chart specification. See the javascript console for the full traceback.`));\n",
              "    }\n",
              "\n",
              "    if(typeof define === \"function\" && define.amd) {\n",
              "      requirejs.config({paths});\n",
              "      require([\"vega-embed\"], displayChart, err => showError(`Error loading script: ${err.message}`));\n",
              "    } else if (typeof vegaEmbed === \"function\") {\n",
              "      displayChart(vegaEmbed);\n",
              "    } else {\n",
              "      loadScript(\"vega\")\n",
              "        .then(() => loadScript(\"vega-lite\"))\n",
              "        .then(() => loadScript(\"vega-embed\"))\n",
              "        .catch(showError)\n",
              "        .then(() => displayChart(vegaEmbed));\n",
              "    }\n",
              "  })({\"config\": {\"view\": {\"continuousWidth\": 400, \"continuousHeight\": 300}}, \"data\": {\"name\": \"data-1f697eed2ff46249be327db5c1a6597b\"}, \"mark\": \"bar\", \"encoding\": {\"x\": {\"type\": \"ordinal\", \"field\": \"Letter\"}, \"y\": {\"type\": \"quantitative\", \"field\": \"Words\", \"title\": \"Mean Words in Solution\"}}, \"$schema\": \"https://vega.github.io/schema/vega-lite/v4.8.1.json\", \"datasets\": {\"data-1f697eed2ff46249be327db5c1a6597b\": [{\"Letter\": \"a\", \"Words\": 118.78710809033107, \"Words of length 4\": 36.20368340276255, \"Words of length 5\": 30.375794781846086, \"Words of length 6\": 25.05612804209603, \"Words of length 7\": 15.0017540013155, \"Words of length 8\": 7.573558430168823, \"Words of length 9\": 2.944091208068406, \"Words of length 10\": 1.2565226923920192, \"Words of length 11\": 0.2837097127822846, \"Words of length 12\": 0.06029379522034641, \"Words of length 13\": 0.026529269896952423, \"Words of length 14\": 0.0048235036176277135}, {\"Letter\": \"b\", \"Words\": 62.79883720930233, \"Words of length 4\": 20.662790697674417, \"Words of length 5\": 15.969767441860466, \"Words of length 6\": 13.05, \"Words of length 7\": 7.698837209302326, \"Words of length 8\": 3.6226744186046513, \"Words of length 9\": 1.1930232558139535, \"Words of length 10\": 0.4563953488372093, \"Words of length 11\": 0.10697674418604651, \"Words of length 12\": 0.03255813953488372, \"Words of length 13\": 0.005232558139534884, \"Words of length 14\": 0.0005813953488372093}, {\"Letter\": \"c\", \"Words\": 60.16831683168317, \"Words of length 4\": 12.958628005657708, \"Words of length 5\": 16.05905233380481, \"Words of length 6\": 13.486209335219236, \"Words of length 7\": 9.125176803394625, \"Words of length 8\": 5.005657708628005, \"Words of length 9\": 2.2814710042432815, \"Words of length 10\": 0.8461810466760962, \"Words of length 11\": 0.2966760961810467, \"Words of length 12\": 0.08062234794908062, \"Words of length 13\": 0.019448373408769447, \"Words of length 14\": 0.007072135785007072}, {\"Letter\": \"d\", \"Words\": 99.37807925740807, \"Words of length 4\": 25.15315958586219, \"Words of length 5\": 21.915030346304892, \"Words of length 6\": 26.14887540164227, \"Words of length 7\": 14.345590860406997, \"Words of length 8\": 7.704034273473759, \"Words of length 9\": 2.943591574437701, \"Words of length 10\": 0.888254194930382, \"Words of length 11\": 0.20992502677615138, \"Words of length 12\": 0.058193502320599784, \"Words of length 13\": 0.007140307033202428, \"Words of length 14\": 0.0021420921099607284}, {\"Letter\": \"e\", \"Words\": 148.64003336113427, \"Words of length 4\": 37.57264386989158, \"Words of length 5\": 35.345621351125935, \"Words of length 6\": 36.659049207673064, \"Words of length 7\": 21.91976647206005, \"Words of length 8\": 10.72860717264387, \"Words of length 9\": 4.343119266055046, \"Words of length 10\": 1.43185988323603, \"Words of length 11\": 0.4296914095079233, \"Words of length 12\": 0.12310258548790659, \"Words of length 13\": 0.07789824854045038, \"Words of length 14\": 0.0065054211843202665}, {\"Letter\": \"f\", \"Words\": 50.16213921901528, \"Words of length 4\": 15.35823429541596, \"Words of length 5\": 11.590831918505943, \"Words of length 6\": 9.33276740237691, \"Words of length 7\": 7.625636672325976, \"Words of length 8\": 4.120543293718167, \"Words of length 9\": 1.4371816638370118, \"Words of length 10\": 0.5152801358234296, \"Words of length 11\": 0.10950764006791172, \"Words of length 12\": 0.05432937181663837, \"Words of length 13\": 0.004244482173174873, \"Words of length 14\": 0.008488964346349746}, {\"Letter\": \"g\", \"Words\": 67.8451672010994, \"Words of length 4\": 15.39761795693999, \"Words of length 5\": 12.904260192395785, \"Words of length 6\": 14.26339899221255, \"Words of length 7\": 15.312872194228126, \"Words of length 8\": 6.398534127347687, \"Words of length 9\": 2.346770499312872, \"Words of length 10\": 0.9450297755382501, \"Words of length 11\": 0.2244617498854787, \"Words of length 12\": 0.03756298671552909, \"Words of length 13\": 0.01282638570774164, \"Words of length 14\": 0.001374255611543747}, {\"Letter\": \"h\", \"Words\": 48.275, \"Words of length 4\": 13.150531914893618, \"Words of length 5\": 13.508510638297873, \"Words of length 6\": 10.591489361702127, \"Words of length 7\": 5.8872340425531915, \"Words of length 8\": 3.0872340425531917, \"Words of length 9\": 1.3957446808510638, \"Words of length 10\": 0.47819148936170214, \"Words of length 11\": 0.14042553191489363, \"Words of length 12\": 0.03031914893617021, \"Words of length 13\": 0.00425531914893617, \"Words of length 14\": 0.0010638297872340426}, {\"Letter\": \"i\", \"Words\": 91.6375745526839, \"Words of length 4\": 23.76799204771372, \"Words of length 5\": 21.10497017892644, \"Words of length 6\": 18.72962226640159, \"Words of length 7\": 15.533200795228629, \"Words of length 8\": 7.539562624254473, \"Words of length 9\": 3.268787276341948, \"Words of length 10\": 1.1779324055666005, \"Words of length 11\": 0.3912524850894632, \"Words of length 12\": 0.08290258449304175, \"Words of length 13\": 0.03141153081510934, \"Words of length 14\": 0.00874751491053678}, {\"Letter\": \"j\", \"Words\": 11.688995215311005, \"Words of length 4\": 4.3875598086124405, \"Words of length 5\": 2.8995215311004783, \"Words of length 6\": 1.8229665071770336, \"Words of length 7\": 1.4832535885167464, \"Words of length 8\": 0.7033492822966507, \"Words of length 9\": 0.2822966507177033, \"Words of length 10\": 0.07177033492822966, \"Words of length 11\": 0.028708133971291867, \"Words of length 12\": 0.009569377990430622, \"Words of length 13\": 0.0, \"Words of length 14\": 0.0}, {\"Letter\": \"k\", \"Words\": 36.126413155190136, \"Words of length 4\": 13.409044193216856, \"Words of length 5\": 10.39568345323741, \"Words of length 6\": 6.340184994861254, \"Words of length 7\": 3.3658787255909557, \"Words of length 8\": 1.7790339157245632, \"Words of length 9\": 0.5364850976361768, \"Words of length 10\": 0.24665981500513876, \"Words of length 11\": 0.0421377183967112, \"Words of length 12\": 0.009249743062692703, \"Words of length 13\": 0.0020554984583761563, \"Words of length 14\": 0.0}, {\"Letter\": \"l\", \"Words\": 93.34971947635586, \"Words of length 4\": 30.74993320865616, \"Words of length 5\": 24.502003740315256, \"Words of length 6\": 18.526048624098316, \"Words of length 7\": 11.52872027785199, \"Words of length 8\": 5.164039540475555, \"Words of length 9\": 1.907560780122896, \"Words of length 10\": 0.6083355597114614, \"Words of length 11\": 0.20945765428800428, \"Words of length 12\": 0.05156291744589901, \"Words of length 13\": 0.09591236975687951, \"Words of length 14\": 0.004007480630510286}, {\"Letter\": \"m\", \"Words\": 72.66552399608227, \"Words of length 4\": 22.98775710088149, \"Words of length 5\": 19.1307541625857, \"Words of length 6\": 14.711067580803133, \"Words of length 7\": 9.016160626836434, \"Words of length 8\": 4.199314397649363, \"Words of length 9\": 1.6718903036238981, \"Words of length 10\": 0.6714005876591577, \"Words of length 11\": 0.21596474045053868, \"Words of length 12\": 0.0494613124387855, \"Words of length 13\": 0.010773751224289911, \"Words of length 14\": 0.0004897159647404506}, {\"Letter\": \"n\", \"Words\": 89.59217081850534, \"Words of length 4\": 22.129537366548043, \"Words of length 5\": 18.738078291814947, \"Words of length 6\": 19.976749703440095, \"Words of length 7\": 14.952075919335705, \"Words of length 8\": 8.095373665480427, \"Words of length 9\": 3.554685646500593, \"Words of length 10\": 1.4177935943060498, \"Words of length 11\": 0.4609727164887307, \"Words of length 12\": 0.13451957295373665, \"Words of length 13\": 0.11648873072360617, \"Words of length 14\": 0.012811387900355872}, {\"Letter\": \"o\", \"Words\": 85.69646624472574, \"Words of length 4\": 29.416930379746834, \"Words of length 5\": 22.157964135021096, \"Words of length 6\": 16.283755274261605, \"Words of length 7\": 9.683016877637131, \"Words of length 8\": 4.703586497890296, \"Words of length 9\": 2.2481540084388185, \"Words of length 10\": 0.7737341772151899, \"Words of length 11\": 0.28612869198312235, \"Words of length 12\": 0.11339662447257384, \"Words of length 13\": 0.021624472573839662, \"Words of length 14\": 0.006592827004219409}, {\"Letter\": \"p\", \"Words\": 85.66439433665442, \"Words of length 4\": 26.09281594126901, \"Words of length 5\": 19.474567383324594, \"Words of length 6\": 17.807551127425274, \"Words of length 7\": 11.929208180388043, \"Words of length 8\": 5.85998951232302, \"Words of length 9\": 2.8683796539066595, \"Words of length 10\": 1.042999475616151, \"Words of length 11\": 0.4142632406921867, \"Words of length 12\": 0.12690089145254327, \"Words of length 13\": 0.03932878867330886, \"Words of length 14\": 0.007865757734661772}, {\"Letter\": \"q\", \"Words\": 12.682242990654206, \"Words of length 4\": 1.574766355140187, \"Words of length 5\": 3.532710280373832, \"Words of length 6\": 2.8598130841121496, \"Words of length 7\": 2.4766355140186915, \"Words of length 8\": 1.233644859813084, \"Words of length 9\": 0.7009345794392523, \"Words of length 10\": 0.21495327102803738, \"Words of length 11\": 0.07009345794392523, \"Words of length 12\": 0.018691588785046728, \"Words of length 13\": 0.0, \"Words of length 14\": 0.0}, {\"Letter\": \"r\", \"Words\": 115.6654462242563, \"Words of length 4\": 26.743020594965675, \"Words of length 5\": 28.849199084668193, \"Words of length 6\": 27.257437070938217, \"Words of length 7\": 18.11487414187643, \"Words of length 8\": 9.152173913043478, \"Words of length 9\": 3.6981693363844395, \"Words of length 10\": 1.348512585812357, \"Words of length 11\": 0.3643020594965675, \"Words of length 12\": 0.11167048054919909, \"Words of length 13\": 0.020137299771167048, \"Words of length 14\": 0.005034324942791762}, {\"Letter\": \"s\", \"Words\": 153.69199910853578, \"Words of length 4\": 40.516826387341204, \"Words of length 5\": 41.833519055047915, \"Words of length 6\": 30.085357700022286, \"Words of length 7\": 22.701805215065747, \"Words of length 8\": 10.954312458212614, \"Words of length 9\": 5.137731223534655, \"Words of length 10\": 1.6570091375083575, \"Words of length 11\": 0.5206151103186984, \"Words of length 12\": 0.15778916870960552, \"Words of length 13\": 0.11388455538221529, \"Words of length 14\": 0.010697570759973256}, {\"Letter\": \"t\", \"Words\": 111.99494546421921, \"Words of length 4\": 27.582601755786115, \"Words of length 5\": 26.432827879755255, \"Words of length 6\": 25.813514232508645, \"Words of length 7\": 17.001064112795955, \"Words of length 8\": 9.25804735301942, \"Words of length 9\": 3.8409151370045227, \"Words of length 10\": 1.4059590316573556, \"Words of length 11\": 0.47379622239957436, \"Words of length 12\": 0.1255653099228518, \"Words of length 13\": 0.04948124501197127, \"Words of length 14\": 0.009843043362596435}, {\"Letter\": \"u\", \"Words\": 56.56648451730419, \"Words of length 4\": 17.151548269581056, \"Words of length 5\": 13.801821493624772, \"Words of length 6\": 11.961384335154827, \"Words of length 7\": 7.81639344262295, \"Words of length 8\": 3.4848816029143896, \"Words of length 9\": 1.455737704918033, \"Words of length 10\": 0.5989071038251366, \"Words of length 11\": 0.19489981785063754, \"Words of length 12\": 0.08051001821493625, \"Words of length 13\": 0.01785063752276867, \"Words of length 14\": 0.0014571948998178506}, {\"Letter\": \"v\", \"Words\": 49.9988726042841, \"Words of length 4\": 10.961668545659526, \"Words of length 5\": 13.332581736189402, \"Words of length 6\": 10.512965050732808, \"Words of length 7\": 7.3675310033821875, \"Words of length 8\": 4.860202931228861, \"Words of length 9\": 1.826381059751973, \"Words of length 10\": 0.7812852311161218, \"Words of length 11\": 0.23675310033821872, \"Words of length 12\": 0.05411499436302142, \"Words of length 13\": 0.058624577226606536, \"Words of length 14\": 0.005636978579481398}, {\"Letter\": \"w\", \"Words\": 42.43875, \"Words of length 4\": 14.36125, \"Words of length 5\": 10.46875, \"Words of length 6\": 8.8475, \"Words of length 7\": 5.2025, \"Words of length 8\": 2.5225, \"Words of length 9\": 0.765, \"Words of length 10\": 0.22125, \"Words of length 11\": 0.0425, \"Words of length 12\": 0.00625, \"Words of length 13\": 0.0, \"Words of length 14\": 0.00125}, {\"Letter\": \"x\", \"Words\": 16.1, \"Words of length 4\": 4.32258064516129, \"Words of length 5\": 4.935483870967742, \"Words of length 6\": 2.7161290322580647, \"Words of length 7\": 2.096774193548387, \"Words of length 8\": 1.2032258064516128, \"Words of length 9\": 0.5290322580645161, \"Words of length 10\": 0.2161290322580645, \"Words of length 11\": 0.05806451612903226, \"Words of length 12\": 0.01935483870967742, \"Words of length 13\": 0.0032258064516129032, \"Words of length 14\": 0.0}, {\"Letter\": \"y\", \"Words\": 31.6469824789098, \"Words of length 4\": 8.974691758598313, \"Words of length 5\": 12.509409474367294, \"Words of length 6\": 5.310188189487346, \"Words of length 7\": 2.6048020765736535, \"Words of length 8\": 1.318624269954575, \"Words of length 9\": 0.5340687865022713, \"Words of length 10\": 0.263465282284231, \"Words of length 11\": 0.109020116807268, \"Words of length 12\": 0.016223231667748216, \"Words of length 13\": 0.006489292667099286, \"Words of length 14\": 0.0}, {\"Letter\": \"z\", \"Words\": 13.510903426791277, \"Words of length 4\": 3.7881619937694704, \"Words of length 5\": 2.1526479750778815, \"Words of length 6\": 2.8317757009345796, \"Words of length 7\": 2.5981308411214954, \"Words of length 8\": 1.0591900311526479, \"Words of length 9\": 0.5981308411214953, \"Words of length 10\": 0.3925233644859813, \"Words of length 11\": 0.04672897196261682, \"Words of length 12\": 0.03426791277258567, \"Words of length 13\": 0.003115264797507788, \"Words of length 14\": 0.003115264797507788}]}}, {\"mode\": \"vega-lite\"});\n",
              "</script>"
            ]
          },
          "metadata": {
            "tags": []
          },
          "execution_count": 152
        }
      ]
    },
    {
      "cell_type": "code",
      "metadata": {
        "id": "X8YvpkkEq-7C",
        "colab": {
          "base_uri": "https://localhost:8080/",
          "height": 367
        },
        "outputId": "344c70b5-9d79-4b67-cc9d-674e665c8215"
      },
      "source": [
        "alt.Chart(solution_frame.groupby(\"Letter\", as_index=False).count()).\\\n",
        "  mark_bar().encode(x=\"Letter:O\", y=alt.Y(\"Words:Q\", title=\"Total Words in Solutions\"))"
      ],
      "execution_count": 153,
      "outputs": [
        {
          "output_type": "execute_result",
          "data": {
            "text/plain": [
              "alt.Chart(...)"
            ],
            "text/html": [
              "\n",
              "<div id=\"altair-viz-5a7f05d450a54b6d890e9c5c93cadcc7\"></div>\n",
              "<script type=\"text/javascript\">\n",
              "  (function(spec, embedOpt){\n",
              "    let outputDiv = document.currentScript.previousElementSibling;\n",
              "    if (outputDiv.id !== \"altair-viz-5a7f05d450a54b6d890e9c5c93cadcc7\") {\n",
              "      outputDiv = document.getElementById(\"altair-viz-5a7f05d450a54b6d890e9c5c93cadcc7\");\n",
              "    }\n",
              "    const paths = {\n",
              "      \"vega\": \"https://cdn.jsdelivr.net/npm//vega@5?noext\",\n",
              "      \"vega-lib\": \"https://cdn.jsdelivr.net/npm//vega-lib?noext\",\n",
              "      \"vega-lite\": \"https://cdn.jsdelivr.net/npm//vega-lite@4.8.1?noext\",\n",
              "      \"vega-embed\": \"https://cdn.jsdelivr.net/npm//vega-embed@6?noext\",\n",
              "    };\n",
              "\n",
              "    function loadScript(lib) {\n",
              "      return new Promise(function(resolve, reject) {\n",
              "        var s = document.createElement('script');\n",
              "        s.src = paths[lib];\n",
              "        s.async = true;\n",
              "        s.onload = () => resolve(paths[lib]);\n",
              "        s.onerror = () => reject(`Error loading script: ${paths[lib]}`);\n",
              "        document.getElementsByTagName(\"head\")[0].appendChild(s);\n",
              "      });\n",
              "    }\n",
              "\n",
              "    function showError(err) {\n",
              "      outputDiv.innerHTML = `<div class=\"error\" style=\"color:red;\">${err}</div>`;\n",
              "      throw err;\n",
              "    }\n",
              "\n",
              "    function displayChart(vegaEmbed) {\n",
              "      vegaEmbed(outputDiv, spec, embedOpt)\n",
              "        .catch(err => showError(`Javascript Error: ${err.message}<br>This usually means there's a typo in your chart specification. See the javascript console for the full traceback.`));\n",
              "    }\n",
              "\n",
              "    if(typeof define === \"function\" && define.amd) {\n",
              "      requirejs.config({paths});\n",
              "      require([\"vega-embed\"], displayChart, err => showError(`Error loading script: ${err.message}`));\n",
              "    } else if (typeof vegaEmbed === \"function\") {\n",
              "      displayChart(vegaEmbed);\n",
              "    } else {\n",
              "      loadScript(\"vega\")\n",
              "        .then(() => loadScript(\"vega-lite\"))\n",
              "        .then(() => loadScript(\"vega-embed\"))\n",
              "        .catch(showError)\n",
              "        .then(() => displayChart(vegaEmbed));\n",
              "    }\n",
              "  })({\"config\": {\"view\": {\"continuousWidth\": 400, \"continuousHeight\": 300}}, \"data\": {\"name\": \"data-20d724f1cccf4ad5f1c535f786ffff91\"}, \"mark\": \"bar\", \"encoding\": {\"x\": {\"type\": \"ordinal\", \"field\": \"Letter\"}, \"y\": {\"type\": \"quantitative\", \"field\": \"Words\", \"title\": \"Total Words in Solutions\"}}, \"$schema\": \"https://vega.github.io/schema/vega-lite/v4.8.1.json\", \"datasets\": {\"data-20d724f1cccf4ad5f1c535f786ffff91\": [{\"Letter\": \"a\", \"Letters in Puzzle\": 4561, \"Words\": 4561, \"Words of length 4\": 4561, \"Words of length 5\": 4561, \"Words of length 6\": 4561, \"Words of length 7\": 4561, \"Words of length 8\": 4561, \"Words of length 9\": 4561, \"Words of length 10\": 4561, \"Words of length 11\": 4561, \"Words of length 12\": 4561, \"Words of length 13\": 4561, \"Words of length 14\": 4561}, {\"Letter\": \"b\", \"Letters in Puzzle\": 1720, \"Words\": 1720, \"Words of length 4\": 1720, \"Words of length 5\": 1720, \"Words of length 6\": 1720, \"Words of length 7\": 1720, \"Words of length 8\": 1720, \"Words of length 9\": 1720, \"Words of length 10\": 1720, \"Words of length 11\": 1720, \"Words of length 12\": 1720, \"Words of length 13\": 1720, \"Words of length 14\": 1720}, {\"Letter\": \"c\", \"Letters in Puzzle\": 2828, \"Words\": 2828, \"Words of length 4\": 2828, \"Words of length 5\": 2828, \"Words of length 6\": 2828, \"Words of length 7\": 2828, \"Words of length 8\": 2828, \"Words of length 9\": 2828, \"Words of length 10\": 2828, \"Words of length 11\": 2828, \"Words of length 12\": 2828, \"Words of length 13\": 2828, \"Words of length 14\": 2828}, {\"Letter\": \"d\", \"Letters in Puzzle\": 2801, \"Words\": 2801, \"Words of length 4\": 2801, \"Words of length 5\": 2801, \"Words of length 6\": 2801, \"Words of length 7\": 2801, \"Words of length 8\": 2801, \"Words of length 9\": 2801, \"Words of length 10\": 2801, \"Words of length 11\": 2801, \"Words of length 12\": 2801, \"Words of length 13\": 2801, \"Words of length 14\": 2801}, {\"Letter\": \"e\", \"Letters in Puzzle\": 5995, \"Words\": 5995, \"Words of length 4\": 5995, \"Words of length 5\": 5995, \"Words of length 6\": 5995, \"Words of length 7\": 5995, \"Words of length 8\": 5995, \"Words of length 9\": 5995, \"Words of length 10\": 5995, \"Words of length 11\": 5995, \"Words of length 12\": 5995, \"Words of length 13\": 5995, \"Words of length 14\": 5995}, {\"Letter\": \"f\", \"Letters in Puzzle\": 1178, \"Words\": 1178, \"Words of length 4\": 1178, \"Words of length 5\": 1178, \"Words of length 6\": 1178, \"Words of length 7\": 1178, \"Words of length 8\": 1178, \"Words of length 9\": 1178, \"Words of length 10\": 1178, \"Words of length 11\": 1178, \"Words of length 12\": 1178, \"Words of length 13\": 1178, \"Words of length 14\": 1178}, {\"Letter\": \"g\", \"Letters in Puzzle\": 2183, \"Words\": 2183, \"Words of length 4\": 2183, \"Words of length 5\": 2183, \"Words of length 6\": 2183, \"Words of length 7\": 2183, \"Words of length 8\": 2183, \"Words of length 9\": 2183, \"Words of length 10\": 2183, \"Words of length 11\": 2183, \"Words of length 12\": 2183, \"Words of length 13\": 2183, \"Words of length 14\": 2183}, {\"Letter\": \"h\", \"Letters in Puzzle\": 1880, \"Words\": 1880, \"Words of length 4\": 1880, \"Words of length 5\": 1880, \"Words of length 6\": 1880, \"Words of length 7\": 1880, \"Words of length 8\": 1880, \"Words of length 9\": 1880, \"Words of length 10\": 1880, \"Words of length 11\": 1880, \"Words of length 12\": 1880, \"Words of length 13\": 1880, \"Words of length 14\": 1880}, {\"Letter\": \"i\", \"Letters in Puzzle\": 5030, \"Words\": 5030, \"Words of length 4\": 5030, \"Words of length 5\": 5030, \"Words of length 6\": 5030, \"Words of length 7\": 5030, \"Words of length 8\": 5030, \"Words of length 9\": 5030, \"Words of length 10\": 5030, \"Words of length 11\": 5030, \"Words of length 12\": 5030, \"Words of length 13\": 5030, \"Words of length 14\": 5030}, {\"Letter\": \"j\", \"Letters in Puzzle\": 209, \"Words\": 209, \"Words of length 4\": 209, \"Words of length 5\": 209, \"Words of length 6\": 209, \"Words of length 7\": 209, \"Words of length 8\": 209, \"Words of length 9\": 209, \"Words of length 10\": 209, \"Words of length 11\": 209, \"Words of length 12\": 209, \"Words of length 13\": 209, \"Words of length 14\": 209}, {\"Letter\": \"k\", \"Letters in Puzzle\": 973, \"Words\": 973, \"Words of length 4\": 973, \"Words of length 5\": 973, \"Words of length 6\": 973, \"Words of length 7\": 973, \"Words of length 8\": 973, \"Words of length 9\": 973, \"Words of length 10\": 973, \"Words of length 11\": 973, \"Words of length 12\": 973, \"Words of length 13\": 973, \"Words of length 14\": 973}, {\"Letter\": \"l\", \"Letters in Puzzle\": 3743, \"Words\": 3743, \"Words of length 4\": 3743, \"Words of length 5\": 3743, \"Words of length 6\": 3743, \"Words of length 7\": 3743, \"Words of length 8\": 3743, \"Words of length 9\": 3743, \"Words of length 10\": 3743, \"Words of length 11\": 3743, \"Words of length 12\": 3743, \"Words of length 13\": 3743, \"Words of length 14\": 3743}, {\"Letter\": \"m\", \"Letters in Puzzle\": 2042, \"Words\": 2042, \"Words of length 4\": 2042, \"Words of length 5\": 2042, \"Words of length 6\": 2042, \"Words of length 7\": 2042, \"Words of length 8\": 2042, \"Words of length 9\": 2042, \"Words of length 10\": 2042, \"Words of length 11\": 2042, \"Words of length 12\": 2042, \"Words of length 13\": 2042, \"Words of length 14\": 2042}, {\"Letter\": \"n\", \"Letters in Puzzle\": 4215, \"Words\": 4215, \"Words of length 4\": 4215, \"Words of length 5\": 4215, \"Words of length 6\": 4215, \"Words of length 7\": 4215, \"Words of length 8\": 4215, \"Words of length 9\": 4215, \"Words of length 10\": 4215, \"Words of length 11\": 4215, \"Words of length 12\": 4215, \"Words of length 13\": 4215, \"Words of length 14\": 4215}, {\"Letter\": \"o\", \"Letters in Puzzle\": 3792, \"Words\": 3792, \"Words of length 4\": 3792, \"Words of length 5\": 3792, \"Words of length 6\": 3792, \"Words of length 7\": 3792, \"Words of length 8\": 3792, \"Words of length 9\": 3792, \"Words of length 10\": 3792, \"Words of length 11\": 3792, \"Words of length 12\": 3792, \"Words of length 13\": 3792, \"Words of length 14\": 3792}, {\"Letter\": \"p\", \"Letters in Puzzle\": 1907, \"Words\": 1907, \"Words of length 4\": 1907, \"Words of length 5\": 1907, \"Words of length 6\": 1907, \"Words of length 7\": 1907, \"Words of length 8\": 1907, \"Words of length 9\": 1907, \"Words of length 10\": 1907, \"Words of length 11\": 1907, \"Words of length 12\": 1907, \"Words of length 13\": 1907, \"Words of length 14\": 1907}, {\"Letter\": \"q\", \"Letters in Puzzle\": 214, \"Words\": 214, \"Words of length 4\": 214, \"Words of length 5\": 214, \"Words of length 6\": 214, \"Words of length 7\": 214, \"Words of length 8\": 214, \"Words of length 9\": 214, \"Words of length 10\": 214, \"Words of length 11\": 214, \"Words of length 12\": 214, \"Words of length 13\": 214, \"Words of length 14\": 214}, {\"Letter\": \"r\", \"Letters in Puzzle\": 4370, \"Words\": 4370, \"Words of length 4\": 4370, \"Words of length 5\": 4370, \"Words of length 6\": 4370, \"Words of length 7\": 4370, \"Words of length 8\": 4370, \"Words of length 9\": 4370, \"Words of length 10\": 4370, \"Words of length 11\": 4370, \"Words of length 12\": 4370, \"Words of length 13\": 4370, \"Words of length 14\": 4370}, {\"Letter\": \"s\", \"Letters in Puzzle\": 4487, \"Words\": 4487, \"Words of length 4\": 4487, \"Words of length 5\": 4487, \"Words of length 6\": 4487, \"Words of length 7\": 4487, \"Words of length 8\": 4487, \"Words of length 9\": 4487, \"Words of length 10\": 4487, \"Words of length 11\": 4487, \"Words of length 12\": 4487, \"Words of length 13\": 4487, \"Words of length 14\": 4487}, {\"Letter\": \"t\", \"Letters in Puzzle\": 3759, \"Words\": 3759, \"Words of length 4\": 3759, \"Words of length 5\": 3759, \"Words of length 6\": 3759, \"Words of length 7\": 3759, \"Words of length 8\": 3759, \"Words of length 9\": 3759, \"Words of length 10\": 3759, \"Words of length 11\": 3759, \"Words of length 12\": 3759, \"Words of length 13\": 3759, \"Words of length 14\": 3759}, {\"Letter\": \"u\", \"Letters in Puzzle\": 2745, \"Words\": 2745, \"Words of length 4\": 2745, \"Words of length 5\": 2745, \"Words of length 6\": 2745, \"Words of length 7\": 2745, \"Words of length 8\": 2745, \"Words of length 9\": 2745, \"Words of length 10\": 2745, \"Words of length 11\": 2745, \"Words of length 12\": 2745, \"Words of length 13\": 2745, \"Words of length 14\": 2745}, {\"Letter\": \"v\", \"Letters in Puzzle\": 887, \"Words\": 887, \"Words of length 4\": 887, \"Words of length 5\": 887, \"Words of length 6\": 887, \"Words of length 7\": 887, \"Words of length 8\": 887, \"Words of length 9\": 887, \"Words of length 10\": 887, \"Words of length 11\": 887, \"Words of length 12\": 887, \"Words of length 13\": 887, \"Words of length 14\": 887}, {\"Letter\": \"w\", \"Letters in Puzzle\": 800, \"Words\": 800, \"Words of length 4\": 800, \"Words of length 5\": 800, \"Words of length 6\": 800, \"Words of length 7\": 800, \"Words of length 8\": 800, \"Words of length 9\": 800, \"Words of length 10\": 800, \"Words of length 11\": 800, \"Words of length 12\": 800, \"Words of length 13\": 800, \"Words of length 14\": 800}, {\"Letter\": \"x\", \"Letters in Puzzle\": 310, \"Words\": 310, \"Words of length 4\": 310, \"Words of length 5\": 310, \"Words of length 6\": 310, \"Words of length 7\": 310, \"Words of length 8\": 310, \"Words of length 9\": 310, \"Words of length 10\": 310, \"Words of length 11\": 310, \"Words of length 12\": 310, \"Words of length 13\": 310, \"Words of length 14\": 310}, {\"Letter\": \"y\", \"Letters in Puzzle\": 1541, \"Words\": 1541, \"Words of length 4\": 1541, \"Words of length 5\": 1541, \"Words of length 6\": 1541, \"Words of length 7\": 1541, \"Words of length 8\": 1541, \"Words of length 9\": 1541, \"Words of length 10\": 1541, \"Words of length 11\": 1541, \"Words of length 12\": 1541, \"Words of length 13\": 1541, \"Words of length 14\": 1541}, {\"Letter\": \"z\", \"Letters in Puzzle\": 321, \"Words\": 321, \"Words of length 4\": 321, \"Words of length 5\": 321, \"Words of length 6\": 321, \"Words of length 7\": 321, \"Words of length 8\": 321, \"Words of length 9\": 321, \"Words of length 10\": 321, \"Words of length 11\": 321, \"Words of length 12\": 321, \"Words of length 13\": 321, \"Words of length 14\": 321}]}}, {\"mode\": \"vega-lite\"});\n",
              "</script>"
            ]
          },
          "metadata": {
            "tags": []
          },
          "execution_count": 153
        }
      ]
    },
    {
      "cell_type": "code",
      "metadata": {
        "colab": {
          "base_uri": "https://localhost:8080/",
          "height": 367
        },
        "id": "Jm_VHTZVMezv",
        "outputId": "346afb66-4d97-49fb-9a6d-1fa30d9918b4"
      },
      "source": [
        "alt.Chart(solution_frame.groupby(\"Letter\", as_index=False).count()).\\\n",
        "  mark_bar().encode(x=\"Letter:O\", y=alt.Y(\"Words:Q\", title=\"Total Solutions\"), tooltip=[\"Words\", \"Letter\"]).interactive()"
      ],
      "execution_count": 154,
      "outputs": [
        {
          "output_type": "execute_result",
          "data": {
            "text/plain": [
              "alt.Chart(...)"
            ],
            "text/html": [
              "\n",
              "<div id=\"altair-viz-e3adff14c5d3470d935d40a0bb9a6f92\"></div>\n",
              "<script type=\"text/javascript\">\n",
              "  (function(spec, embedOpt){\n",
              "    let outputDiv = document.currentScript.previousElementSibling;\n",
              "    if (outputDiv.id !== \"altair-viz-e3adff14c5d3470d935d40a0bb9a6f92\") {\n",
              "      outputDiv = document.getElementById(\"altair-viz-e3adff14c5d3470d935d40a0bb9a6f92\");\n",
              "    }\n",
              "    const paths = {\n",
              "      \"vega\": \"https://cdn.jsdelivr.net/npm//vega@5?noext\",\n",
              "      \"vega-lib\": \"https://cdn.jsdelivr.net/npm//vega-lib?noext\",\n",
              "      \"vega-lite\": \"https://cdn.jsdelivr.net/npm//vega-lite@4.8.1?noext\",\n",
              "      \"vega-embed\": \"https://cdn.jsdelivr.net/npm//vega-embed@6?noext\",\n",
              "    };\n",
              "\n",
              "    function loadScript(lib) {\n",
              "      return new Promise(function(resolve, reject) {\n",
              "        var s = document.createElement('script');\n",
              "        s.src = paths[lib];\n",
              "        s.async = true;\n",
              "        s.onload = () => resolve(paths[lib]);\n",
              "        s.onerror = () => reject(`Error loading script: ${paths[lib]}`);\n",
              "        document.getElementsByTagName(\"head\")[0].appendChild(s);\n",
              "      });\n",
              "    }\n",
              "\n",
              "    function showError(err) {\n",
              "      outputDiv.innerHTML = `<div class=\"error\" style=\"color:red;\">${err}</div>`;\n",
              "      throw err;\n",
              "    }\n",
              "\n",
              "    function displayChart(vegaEmbed) {\n",
              "      vegaEmbed(outputDiv, spec, embedOpt)\n",
              "        .catch(err => showError(`Javascript Error: ${err.message}<br>This usually means there's a typo in your chart specification. See the javascript console for the full traceback.`));\n",
              "    }\n",
              "\n",
              "    if(typeof define === \"function\" && define.amd) {\n",
              "      requirejs.config({paths});\n",
              "      require([\"vega-embed\"], displayChart, err => showError(`Error loading script: ${err.message}`));\n",
              "    } else if (typeof vegaEmbed === \"function\") {\n",
              "      displayChart(vegaEmbed);\n",
              "    } else {\n",
              "      loadScript(\"vega\")\n",
              "        .then(() => loadScript(\"vega-lite\"))\n",
              "        .then(() => loadScript(\"vega-embed\"))\n",
              "        .catch(showError)\n",
              "        .then(() => displayChart(vegaEmbed));\n",
              "    }\n",
              "  })({\"config\": {\"view\": {\"continuousWidth\": 400, \"continuousHeight\": 300}}, \"data\": {\"name\": \"data-20d724f1cccf4ad5f1c535f786ffff91\"}, \"mark\": \"bar\", \"encoding\": {\"tooltip\": [{\"type\": \"quantitative\", \"field\": \"Words\"}, {\"type\": \"nominal\", \"field\": \"Letter\"}], \"x\": {\"type\": \"ordinal\", \"field\": \"Letter\"}, \"y\": {\"type\": \"quantitative\", \"field\": \"Words\", \"title\": \"Total Solutions\"}}, \"selection\": {\"selector015\": {\"type\": \"interval\", \"bind\": \"scales\", \"encodings\": [\"x\", \"y\"]}}, \"$schema\": \"https://vega.github.io/schema/vega-lite/v4.8.1.json\", \"datasets\": {\"data-20d724f1cccf4ad5f1c535f786ffff91\": [{\"Letter\": \"a\", \"Letters in Puzzle\": 4561, \"Words\": 4561, \"Words of length 4\": 4561, \"Words of length 5\": 4561, \"Words of length 6\": 4561, \"Words of length 7\": 4561, \"Words of length 8\": 4561, \"Words of length 9\": 4561, \"Words of length 10\": 4561, \"Words of length 11\": 4561, \"Words of length 12\": 4561, \"Words of length 13\": 4561, \"Words of length 14\": 4561}, {\"Letter\": \"b\", \"Letters in Puzzle\": 1720, \"Words\": 1720, \"Words of length 4\": 1720, \"Words of length 5\": 1720, \"Words of length 6\": 1720, \"Words of length 7\": 1720, \"Words of length 8\": 1720, \"Words of length 9\": 1720, \"Words of length 10\": 1720, \"Words of length 11\": 1720, \"Words of length 12\": 1720, \"Words of length 13\": 1720, \"Words of length 14\": 1720}, {\"Letter\": \"c\", \"Letters in Puzzle\": 2828, \"Words\": 2828, \"Words of length 4\": 2828, \"Words of length 5\": 2828, \"Words of length 6\": 2828, \"Words of length 7\": 2828, \"Words of length 8\": 2828, \"Words of length 9\": 2828, \"Words of length 10\": 2828, \"Words of length 11\": 2828, \"Words of length 12\": 2828, \"Words of length 13\": 2828, \"Words of length 14\": 2828}, {\"Letter\": \"d\", \"Letters in Puzzle\": 2801, \"Words\": 2801, \"Words of length 4\": 2801, \"Words of length 5\": 2801, \"Words of length 6\": 2801, \"Words of length 7\": 2801, \"Words of length 8\": 2801, \"Words of length 9\": 2801, \"Words of length 10\": 2801, \"Words of length 11\": 2801, \"Words of length 12\": 2801, \"Words of length 13\": 2801, \"Words of length 14\": 2801}, {\"Letter\": \"e\", \"Letters in Puzzle\": 5995, \"Words\": 5995, \"Words of length 4\": 5995, \"Words of length 5\": 5995, \"Words of length 6\": 5995, \"Words of length 7\": 5995, \"Words of length 8\": 5995, \"Words of length 9\": 5995, \"Words of length 10\": 5995, \"Words of length 11\": 5995, \"Words of length 12\": 5995, \"Words of length 13\": 5995, \"Words of length 14\": 5995}, {\"Letter\": \"f\", \"Letters in Puzzle\": 1178, \"Words\": 1178, \"Words of length 4\": 1178, \"Words of length 5\": 1178, \"Words of length 6\": 1178, \"Words of length 7\": 1178, \"Words of length 8\": 1178, \"Words of length 9\": 1178, \"Words of length 10\": 1178, \"Words of length 11\": 1178, \"Words of length 12\": 1178, \"Words of length 13\": 1178, \"Words of length 14\": 1178}, {\"Letter\": \"g\", \"Letters in Puzzle\": 2183, \"Words\": 2183, \"Words of length 4\": 2183, \"Words of length 5\": 2183, \"Words of length 6\": 2183, \"Words of length 7\": 2183, \"Words of length 8\": 2183, \"Words of length 9\": 2183, \"Words of length 10\": 2183, \"Words of length 11\": 2183, \"Words of length 12\": 2183, \"Words of length 13\": 2183, \"Words of length 14\": 2183}, {\"Letter\": \"h\", \"Letters in Puzzle\": 1880, \"Words\": 1880, \"Words of length 4\": 1880, \"Words of length 5\": 1880, \"Words of length 6\": 1880, \"Words of length 7\": 1880, \"Words of length 8\": 1880, \"Words of length 9\": 1880, \"Words of length 10\": 1880, \"Words of length 11\": 1880, \"Words of length 12\": 1880, \"Words of length 13\": 1880, \"Words of length 14\": 1880}, {\"Letter\": \"i\", \"Letters in Puzzle\": 5030, \"Words\": 5030, \"Words of length 4\": 5030, \"Words of length 5\": 5030, \"Words of length 6\": 5030, \"Words of length 7\": 5030, \"Words of length 8\": 5030, \"Words of length 9\": 5030, \"Words of length 10\": 5030, \"Words of length 11\": 5030, \"Words of length 12\": 5030, \"Words of length 13\": 5030, \"Words of length 14\": 5030}, {\"Letter\": \"j\", \"Letters in Puzzle\": 209, \"Words\": 209, \"Words of length 4\": 209, \"Words of length 5\": 209, \"Words of length 6\": 209, \"Words of length 7\": 209, \"Words of length 8\": 209, \"Words of length 9\": 209, \"Words of length 10\": 209, \"Words of length 11\": 209, \"Words of length 12\": 209, \"Words of length 13\": 209, \"Words of length 14\": 209}, {\"Letter\": \"k\", \"Letters in Puzzle\": 973, \"Words\": 973, \"Words of length 4\": 973, \"Words of length 5\": 973, \"Words of length 6\": 973, \"Words of length 7\": 973, \"Words of length 8\": 973, \"Words of length 9\": 973, \"Words of length 10\": 973, \"Words of length 11\": 973, \"Words of length 12\": 973, \"Words of length 13\": 973, \"Words of length 14\": 973}, {\"Letter\": \"l\", \"Letters in Puzzle\": 3743, \"Words\": 3743, \"Words of length 4\": 3743, \"Words of length 5\": 3743, \"Words of length 6\": 3743, \"Words of length 7\": 3743, \"Words of length 8\": 3743, \"Words of length 9\": 3743, \"Words of length 10\": 3743, \"Words of length 11\": 3743, \"Words of length 12\": 3743, \"Words of length 13\": 3743, \"Words of length 14\": 3743}, {\"Letter\": \"m\", \"Letters in Puzzle\": 2042, \"Words\": 2042, \"Words of length 4\": 2042, \"Words of length 5\": 2042, \"Words of length 6\": 2042, \"Words of length 7\": 2042, \"Words of length 8\": 2042, \"Words of length 9\": 2042, \"Words of length 10\": 2042, \"Words of length 11\": 2042, \"Words of length 12\": 2042, \"Words of length 13\": 2042, \"Words of length 14\": 2042}, {\"Letter\": \"n\", \"Letters in Puzzle\": 4215, \"Words\": 4215, \"Words of length 4\": 4215, \"Words of length 5\": 4215, \"Words of length 6\": 4215, \"Words of length 7\": 4215, \"Words of length 8\": 4215, \"Words of length 9\": 4215, \"Words of length 10\": 4215, \"Words of length 11\": 4215, \"Words of length 12\": 4215, \"Words of length 13\": 4215, \"Words of length 14\": 4215}, {\"Letter\": \"o\", \"Letters in Puzzle\": 3792, \"Words\": 3792, \"Words of length 4\": 3792, \"Words of length 5\": 3792, \"Words of length 6\": 3792, \"Words of length 7\": 3792, \"Words of length 8\": 3792, \"Words of length 9\": 3792, \"Words of length 10\": 3792, \"Words of length 11\": 3792, \"Words of length 12\": 3792, \"Words of length 13\": 3792, \"Words of length 14\": 3792}, {\"Letter\": \"p\", \"Letters in Puzzle\": 1907, \"Words\": 1907, \"Words of length 4\": 1907, \"Words of length 5\": 1907, \"Words of length 6\": 1907, \"Words of length 7\": 1907, \"Words of length 8\": 1907, \"Words of length 9\": 1907, \"Words of length 10\": 1907, \"Words of length 11\": 1907, \"Words of length 12\": 1907, \"Words of length 13\": 1907, \"Words of length 14\": 1907}, {\"Letter\": \"q\", \"Letters in Puzzle\": 214, \"Words\": 214, \"Words of length 4\": 214, \"Words of length 5\": 214, \"Words of length 6\": 214, \"Words of length 7\": 214, \"Words of length 8\": 214, \"Words of length 9\": 214, \"Words of length 10\": 214, \"Words of length 11\": 214, \"Words of length 12\": 214, \"Words of length 13\": 214, \"Words of length 14\": 214}, {\"Letter\": \"r\", \"Letters in Puzzle\": 4370, \"Words\": 4370, \"Words of length 4\": 4370, \"Words of length 5\": 4370, \"Words of length 6\": 4370, \"Words of length 7\": 4370, \"Words of length 8\": 4370, \"Words of length 9\": 4370, \"Words of length 10\": 4370, \"Words of length 11\": 4370, \"Words of length 12\": 4370, \"Words of length 13\": 4370, \"Words of length 14\": 4370}, {\"Letter\": \"s\", \"Letters in Puzzle\": 4487, \"Words\": 4487, \"Words of length 4\": 4487, \"Words of length 5\": 4487, \"Words of length 6\": 4487, \"Words of length 7\": 4487, \"Words of length 8\": 4487, \"Words of length 9\": 4487, \"Words of length 10\": 4487, \"Words of length 11\": 4487, \"Words of length 12\": 4487, \"Words of length 13\": 4487, \"Words of length 14\": 4487}, {\"Letter\": \"t\", \"Letters in Puzzle\": 3759, \"Words\": 3759, \"Words of length 4\": 3759, \"Words of length 5\": 3759, \"Words of length 6\": 3759, \"Words of length 7\": 3759, \"Words of length 8\": 3759, \"Words of length 9\": 3759, \"Words of length 10\": 3759, \"Words of length 11\": 3759, \"Words of length 12\": 3759, \"Words of length 13\": 3759, \"Words of length 14\": 3759}, {\"Letter\": \"u\", \"Letters in Puzzle\": 2745, \"Words\": 2745, \"Words of length 4\": 2745, \"Words of length 5\": 2745, \"Words of length 6\": 2745, \"Words of length 7\": 2745, \"Words of length 8\": 2745, \"Words of length 9\": 2745, \"Words of length 10\": 2745, \"Words of length 11\": 2745, \"Words of length 12\": 2745, \"Words of length 13\": 2745, \"Words of length 14\": 2745}, {\"Letter\": \"v\", \"Letters in Puzzle\": 887, \"Words\": 887, \"Words of length 4\": 887, \"Words of length 5\": 887, \"Words of length 6\": 887, \"Words of length 7\": 887, \"Words of length 8\": 887, \"Words of length 9\": 887, \"Words of length 10\": 887, \"Words of length 11\": 887, \"Words of length 12\": 887, \"Words of length 13\": 887, \"Words of length 14\": 887}, {\"Letter\": \"w\", \"Letters in Puzzle\": 800, \"Words\": 800, \"Words of length 4\": 800, \"Words of length 5\": 800, \"Words of length 6\": 800, \"Words of length 7\": 800, \"Words of length 8\": 800, \"Words of length 9\": 800, \"Words of length 10\": 800, \"Words of length 11\": 800, \"Words of length 12\": 800, \"Words of length 13\": 800, \"Words of length 14\": 800}, {\"Letter\": \"x\", \"Letters in Puzzle\": 310, \"Words\": 310, \"Words of length 4\": 310, \"Words of length 5\": 310, \"Words of length 6\": 310, \"Words of length 7\": 310, \"Words of length 8\": 310, \"Words of length 9\": 310, \"Words of length 10\": 310, \"Words of length 11\": 310, \"Words of length 12\": 310, \"Words of length 13\": 310, \"Words of length 14\": 310}, {\"Letter\": \"y\", \"Letters in Puzzle\": 1541, \"Words\": 1541, \"Words of length 4\": 1541, \"Words of length 5\": 1541, \"Words of length 6\": 1541, \"Words of length 7\": 1541, \"Words of length 8\": 1541, \"Words of length 9\": 1541, \"Words of length 10\": 1541, \"Words of length 11\": 1541, \"Words of length 12\": 1541, \"Words of length 13\": 1541, \"Words of length 14\": 1541}, {\"Letter\": \"z\", \"Letters in Puzzle\": 321, \"Words\": 321, \"Words of length 4\": 321, \"Words of length 5\": 321, \"Words of length 6\": 321, \"Words of length 7\": 321, \"Words of length 8\": 321, \"Words of length 9\": 321, \"Words of length 10\": 321, \"Words of length 11\": 321, \"Words of length 12\": 321, \"Words of length 13\": 321, \"Words of length 14\": 321}]}}, {\"mode\": \"vega-lite\"});\n",
              "</script>"
            ]
          },
          "metadata": {
            "tags": []
          },
          "execution_count": 154
        }
      ]
    },
    {
      "cell_type": "markdown",
      "metadata": {
        "id": "pGcsiEm1lsdm"
      },
      "source": [
        "Getting Examples that have lots of long words\n"
      ]
    },
    {
      "cell_type": "code",
      "metadata": {
        "id": "ogBYdkzhhALA",
        "colab": {
          "base_uri": "https://localhost:8080/",
          "height": 906
        },
        "outputId": "307f5dd2-58a2-4e1e-8b52-5544780a6d63"
      },
      "source": [
        "s=\"Words of length 10\"\n",
        "solution_frame[solution_frame[s] > 15]"
      ],
      "execution_count": 155,
      "outputs": [
        {
          "output_type": "execute_result",
          "data": {
            "text/html": [
              "<div>\n",
              "<style scoped>\n",
              "    .dataframe tbody tr th:only-of-type {\n",
              "        vertical-align: middle;\n",
              "    }\n",
              "\n",
              "    .dataframe tbody tr th {\n",
              "        vertical-align: top;\n",
              "    }\n",
              "\n",
              "    .dataframe thead th {\n",
              "        text-align: right;\n",
              "    }\n",
              "</style>\n",
              "<table border=\"1\" class=\"dataframe\">\n",
              "  <thead>\n",
              "    <tr style=\"text-align: right;\">\n",
              "      <th></th>\n",
              "      <th>Letter</th>\n",
              "      <th>Letters in Puzzle</th>\n",
              "      <th>Words</th>\n",
              "      <th>Words of length 4</th>\n",
              "      <th>Words of length 5</th>\n",
              "      <th>Words of length 6</th>\n",
              "      <th>Words of length 7</th>\n",
              "      <th>Words of length 8</th>\n",
              "      <th>Words of length 9</th>\n",
              "      <th>Words of length 10</th>\n",
              "      <th>Words of length 11</th>\n",
              "      <th>Words of length 12</th>\n",
              "      <th>Words of length 13</th>\n",
              "      <th>Words of length 14</th>\n",
              "    </tr>\n",
              "  </thead>\n",
              "  <tbody>\n",
              "    <tr>\n",
              "      <th>3066</th>\n",
              "      <td>a</td>\n",
              "      <td>eginrt</td>\n",
              "      <td>311</td>\n",
              "      <td>43</td>\n",
              "      <td>39</td>\n",
              "      <td>66</td>\n",
              "      <td>75</td>\n",
              "      <td>31</td>\n",
              "      <td>28</td>\n",
              "      <td>16</td>\n",
              "      <td>9</td>\n",
              "      <td>3</td>\n",
              "      <td>1</td>\n",
              "      <td>0</td>\n",
              "    </tr>\n",
              "    <tr>\n",
              "      <th>3507</th>\n",
              "      <td>a</td>\n",
              "      <td>einrst</td>\n",
              "      <td>475</td>\n",
              "      <td>60</td>\n",
              "      <td>78</td>\n",
              "      <td>101</td>\n",
              "      <td>100</td>\n",
              "      <td>73</td>\n",
              "      <td>37</td>\n",
              "      <td>16</td>\n",
              "      <td>7</td>\n",
              "      <td>3</td>\n",
              "      <td>0</td>\n",
              "      <td>0</td>\n",
              "    </tr>\n",
              "    <tr>\n",
              "      <th>4088</th>\n",
              "      <td>a</td>\n",
              "      <td>ginort</td>\n",
              "      <td>187</td>\n",
              "      <td>37</td>\n",
              "      <td>29</td>\n",
              "      <td>27</td>\n",
              "      <td>30</td>\n",
              "      <td>22</td>\n",
              "      <td>22</td>\n",
              "      <td>16</td>\n",
              "      <td>3</td>\n",
              "      <td>1</td>\n",
              "      <td>0</td>\n",
              "      <td>0</td>\n",
              "    </tr>\n",
              "    <tr>\n",
              "      <th>14210</th>\n",
              "      <td>e</td>\n",
              "      <td>ainrst</td>\n",
              "      <td>593</td>\n",
              "      <td>66</td>\n",
              "      <td>103</td>\n",
              "      <td>130</td>\n",
              "      <td>129</td>\n",
              "      <td>90</td>\n",
              "      <td>47</td>\n",
              "      <td>19</td>\n",
              "      <td>7</td>\n",
              "      <td>2</td>\n",
              "      <td>0</td>\n",
              "      <td>0</td>\n",
              "    </tr>\n",
              "    <tr>\n",
              "      <th>16696</th>\n",
              "      <td>e</td>\n",
              "      <td>doprsu</td>\n",
              "      <td>331</td>\n",
              "      <td>62</td>\n",
              "      <td>69</td>\n",
              "      <td>75</td>\n",
              "      <td>55</td>\n",
              "      <td>23</td>\n",
              "      <td>24</td>\n",
              "      <td>16</td>\n",
              "      <td>5</td>\n",
              "      <td>2</td>\n",
              "      <td>0</td>\n",
              "      <td>0</td>\n",
              "    </tr>\n",
              "    <tr>\n",
              "      <th>17585</th>\n",
              "      <td>e</td>\n",
              "      <td>imnrst</td>\n",
              "      <td>418</td>\n",
              "      <td>60</td>\n",
              "      <td>87</td>\n",
              "      <td>87</td>\n",
              "      <td>78</td>\n",
              "      <td>52</td>\n",
              "      <td>33</td>\n",
              "      <td>16</td>\n",
              "      <td>4</td>\n",
              "      <td>1</td>\n",
              "      <td>0</td>\n",
              "      <td>0</td>\n",
              "    </tr>\n",
              "    <tr>\n",
              "      <th>17650</th>\n",
              "      <td>e</td>\n",
              "      <td>inprst</td>\n",
              "      <td>495</td>\n",
              "      <td>62</td>\n",
              "      <td>92</td>\n",
              "      <td>104</td>\n",
              "      <td>99</td>\n",
              "      <td>69</td>\n",
              "      <td>41</td>\n",
              "      <td>16</td>\n",
              "      <td>9</td>\n",
              "      <td>3</td>\n",
              "      <td>0</td>\n",
              "      <td>0</td>\n",
              "    </tr>\n",
              "    <tr>\n",
              "      <th>17681</th>\n",
              "      <td>e</td>\n",
              "      <td>ioprst</td>\n",
              "      <td>468</td>\n",
              "      <td>60</td>\n",
              "      <td>82</td>\n",
              "      <td>102</td>\n",
              "      <td>104</td>\n",
              "      <td>61</td>\n",
              "      <td>31</td>\n",
              "      <td>16</td>\n",
              "      <td>9</td>\n",
              "      <td>3</td>\n",
              "      <td>0</td>\n",
              "      <td>0</td>\n",
              "    </tr>\n",
              "    <tr>\n",
              "      <th>19656</th>\n",
              "      <td>g</td>\n",
              "      <td>aeinrt</td>\n",
              "      <td>270</td>\n",
              "      <td>24</td>\n",
              "      <td>31</td>\n",
              "      <td>54</td>\n",
              "      <td>68</td>\n",
              "      <td>35</td>\n",
              "      <td>29</td>\n",
              "      <td>17</td>\n",
              "      <td>8</td>\n",
              "      <td>3</td>\n",
              "      <td>1</td>\n",
              "      <td>0</td>\n",
              "    </tr>\n",
              "    <tr>\n",
              "      <th>24465</th>\n",
              "      <td>i</td>\n",
              "      <td>aegnrt</td>\n",
              "      <td>287</td>\n",
              "      <td>27</td>\n",
              "      <td>36</td>\n",
              "      <td>51</td>\n",
              "      <td>74</td>\n",
              "      <td>40</td>\n",
              "      <td>28</td>\n",
              "      <td>17</td>\n",
              "      <td>10</td>\n",
              "      <td>3</td>\n",
              "      <td>1</td>\n",
              "      <td>0</td>\n",
              "    </tr>\n",
              "    <tr>\n",
              "      <th>24690</th>\n",
              "      <td>i</td>\n",
              "      <td>aenrst</td>\n",
              "      <td>425</td>\n",
              "      <td>43</td>\n",
              "      <td>69</td>\n",
              "      <td>81</td>\n",
              "      <td>86</td>\n",
              "      <td>72</td>\n",
              "      <td>46</td>\n",
              "      <td>18</td>\n",
              "      <td>7</td>\n",
              "      <td>3</td>\n",
              "      <td>0</td>\n",
              "      <td>0</td>\n",
              "    </tr>\n",
              "    <tr>\n",
              "      <th>24947</th>\n",
              "      <td>i</td>\n",
              "      <td>agnort</td>\n",
              "      <td>186</td>\n",
              "      <td>25</td>\n",
              "      <td>24</td>\n",
              "      <td>29</td>\n",
              "      <td>41</td>\n",
              "      <td>27</td>\n",
              "      <td>20</td>\n",
              "      <td>16</td>\n",
              "      <td>3</td>\n",
              "      <td>1</td>\n",
              "      <td>0</td>\n",
              "      <td>0</td>\n",
              "    </tr>\n",
              "    <tr>\n",
              "      <th>36345</th>\n",
              "      <td>n</td>\n",
              "      <td>aegirt</td>\n",
              "      <td>329</td>\n",
              "      <td>34</td>\n",
              "      <td>38</td>\n",
              "      <td>69</td>\n",
              "      <td>84</td>\n",
              "      <td>43</td>\n",
              "      <td>29</td>\n",
              "      <td>18</td>\n",
              "      <td>10</td>\n",
              "      <td>3</td>\n",
              "      <td>1</td>\n",
              "      <td>0</td>\n",
              "    </tr>\n",
              "    <tr>\n",
              "      <th>36540</th>\n",
              "      <td>n</td>\n",
              "      <td>aeirst</td>\n",
              "      <td>407</td>\n",
              "      <td>45</td>\n",
              "      <td>63</td>\n",
              "      <td>83</td>\n",
              "      <td>78</td>\n",
              "      <td>66</td>\n",
              "      <td>44</td>\n",
              "      <td>18</td>\n",
              "      <td>7</td>\n",
              "      <td>3</td>\n",
              "      <td>0</td>\n",
              "      <td>0</td>\n",
              "    </tr>\n",
              "    <tr>\n",
              "      <th>36852</th>\n",
              "      <td>n</td>\n",
              "      <td>agiort</td>\n",
              "      <td>202</td>\n",
              "      <td>31</td>\n",
              "      <td>24</td>\n",
              "      <td>36</td>\n",
              "      <td>43</td>\n",
              "      <td>28</td>\n",
              "      <td>20</td>\n",
              "      <td>16</td>\n",
              "      <td>3</td>\n",
              "      <td>1</td>\n",
              "      <td>0</td>\n",
              "      <td>0</td>\n",
              "    </tr>\n",
              "    <tr>\n",
              "      <th>37744</th>\n",
              "      <td>n</td>\n",
              "      <td>ceiost</td>\n",
              "      <td>287</td>\n",
              "      <td>42</td>\n",
              "      <td>43</td>\n",
              "      <td>51</td>\n",
              "      <td>49</td>\n",
              "      <td>40</td>\n",
              "      <td>27</td>\n",
              "      <td>16</td>\n",
              "      <td>13</td>\n",
              "      <td>3</td>\n",
              "      <td>2</td>\n",
              "      <td>0</td>\n",
              "    </tr>\n",
              "    <tr>\n",
              "      <th>46627</th>\n",
              "      <td>r</td>\n",
              "      <td>aegint</td>\n",
              "      <td>334</td>\n",
              "      <td>40</td>\n",
              "      <td>47</td>\n",
              "      <td>76</td>\n",
              "      <td>73</td>\n",
              "      <td>40</td>\n",
              "      <td>28</td>\n",
              "      <td>16</td>\n",
              "      <td>10</td>\n",
              "      <td>3</td>\n",
              "      <td>1</td>\n",
              "      <td>0</td>\n",
              "    </tr>\n",
              "    <tr>\n",
              "      <th>48678</th>\n",
              "      <td>r</td>\n",
              "      <td>deopsu</td>\n",
              "      <td>277</td>\n",
              "      <td>52</td>\n",
              "      <td>60</td>\n",
              "      <td>55</td>\n",
              "      <td>45</td>\n",
              "      <td>20</td>\n",
              "      <td>22</td>\n",
              "      <td>16</td>\n",
              "      <td>5</td>\n",
              "      <td>2</td>\n",
              "      <td>0</td>\n",
              "      <td>0</td>\n",
              "    </tr>\n",
              "    <tr>\n",
              "      <th>49257</th>\n",
              "      <td>r</td>\n",
              "      <td>eiopst</td>\n",
              "      <td>410</td>\n",
              "      <td>49</td>\n",
              "      <td>76</td>\n",
              "      <td>90</td>\n",
              "      <td>89</td>\n",
              "      <td>51</td>\n",
              "      <td>27</td>\n",
              "      <td>16</td>\n",
              "      <td>9</td>\n",
              "      <td>3</td>\n",
              "      <td>0</td>\n",
              "      <td>0</td>\n",
              "    </tr>\n",
              "    <tr>\n",
              "      <th>51035</th>\n",
              "      <td>s</td>\n",
              "      <td>aeilnt</td>\n",
              "      <td>482</td>\n",
              "      <td>74</td>\n",
              "      <td>99</td>\n",
              "      <td>100</td>\n",
              "      <td>84</td>\n",
              "      <td>55</td>\n",
              "      <td>41</td>\n",
              "      <td>17</td>\n",
              "      <td>6</td>\n",
              "      <td>3</td>\n",
              "      <td>3</td>\n",
              "      <td>0</td>\n",
              "    </tr>\n",
              "    <tr>\n",
              "      <th>51079</th>\n",
              "      <td>s</td>\n",
              "      <td>aeinrt</td>\n",
              "      <td>570</td>\n",
              "      <td>68</td>\n",
              "      <td>103</td>\n",
              "      <td>118</td>\n",
              "      <td>116</td>\n",
              "      <td>87</td>\n",
              "      <td>50</td>\n",
              "      <td>19</td>\n",
              "      <td>6</td>\n",
              "      <td>3</td>\n",
              "      <td>0</td>\n",
              "      <td>0</td>\n",
              "    </tr>\n",
              "    <tr>\n",
              "      <th>52997</th>\n",
              "      <td>s</td>\n",
              "      <td>deopru</td>\n",
              "      <td>296</td>\n",
              "      <td>63</td>\n",
              "      <td>62</td>\n",
              "      <td>57</td>\n",
              "      <td>46</td>\n",
              "      <td>22</td>\n",
              "      <td>23</td>\n",
              "      <td>16</td>\n",
              "      <td>5</td>\n",
              "      <td>2</td>\n",
              "      <td>0</td>\n",
              "      <td>0</td>\n",
              "    </tr>\n",
              "    <tr>\n",
              "      <th>53641</th>\n",
              "      <td>s</td>\n",
              "      <td>einprt</td>\n",
              "      <td>434</td>\n",
              "      <td>58</td>\n",
              "      <td>80</td>\n",
              "      <td>82</td>\n",
              "      <td>86</td>\n",
              "      <td>63</td>\n",
              "      <td>39</td>\n",
              "      <td>16</td>\n",
              "      <td>7</td>\n",
              "      <td>3</td>\n",
              "      <td>0</td>\n",
              "      <td>0</td>\n",
              "    </tr>\n",
              "    <tr>\n",
              "      <th>55341</th>\n",
              "      <td>t</td>\n",
              "      <td>aeilns</td>\n",
              "      <td>413</td>\n",
              "      <td>62</td>\n",
              "      <td>77</td>\n",
              "      <td>84</td>\n",
              "      <td>71</td>\n",
              "      <td>54</td>\n",
              "      <td>38</td>\n",
              "      <td>16</td>\n",
              "      <td>6</td>\n",
              "      <td>3</td>\n",
              "      <td>2</td>\n",
              "      <td>0</td>\n",
              "    </tr>\n",
              "    <tr>\n",
              "      <th>55394</th>\n",
              "      <td>t</td>\n",
              "      <td>aeinrs</td>\n",
              "      <td>567</td>\n",
              "      <td>54</td>\n",
              "      <td>90</td>\n",
              "      <td>125</td>\n",
              "      <td>128</td>\n",
              "      <td>90</td>\n",
              "      <td>51</td>\n",
              "      <td>18</td>\n",
              "      <td>8</td>\n",
              "      <td>3</td>\n",
              "      <td>0</td>\n",
              "      <td>0</td>\n",
              "    </tr>\n",
              "  </tbody>\n",
              "</table>\n",
              "</div>"
            ],
            "text/plain": [
              "      Letter Letters in Puzzle  ...  Words of length 13  Words of length 14\n",
              "3066       a            eginrt  ...                   1                   0\n",
              "3507       a            einrst  ...                   0                   0\n",
              "4088       a            ginort  ...                   0                   0\n",
              "14210      e            ainrst  ...                   0                   0\n",
              "16696      e            doprsu  ...                   0                   0\n",
              "17585      e            imnrst  ...                   0                   0\n",
              "17650      e            inprst  ...                   0                   0\n",
              "17681      e            ioprst  ...                   0                   0\n",
              "19656      g            aeinrt  ...                   1                   0\n",
              "24465      i            aegnrt  ...                   1                   0\n",
              "24690      i            aenrst  ...                   0                   0\n",
              "24947      i            agnort  ...                   0                   0\n",
              "36345      n            aegirt  ...                   1                   0\n",
              "36540      n            aeirst  ...                   0                   0\n",
              "36852      n            agiort  ...                   0                   0\n",
              "37744      n            ceiost  ...                   2                   0\n",
              "46627      r            aegint  ...                   1                   0\n",
              "48678      r            deopsu  ...                   0                   0\n",
              "49257      r            eiopst  ...                   0                   0\n",
              "51035      s            aeilnt  ...                   3                   0\n",
              "51079      s            aeinrt  ...                   0                   0\n",
              "52997      s            deopru  ...                   0                   0\n",
              "53641      s            einprt  ...                   0                   0\n",
              "55341      t            aeilns  ...                   2                   0\n",
              "55394      t            aeinrs  ...                   0                   0\n",
              "\n",
              "[25 rows x 14 columns]"
            ]
          },
          "metadata": {
            "tags": []
          },
          "execution_count": 155
        }
      ]
    }
  ]
}